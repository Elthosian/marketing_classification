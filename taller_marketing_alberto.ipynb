{
 "cells": [
  {
   "cell_type": "markdown",
   "metadata": {},
   "source": [
    "# Predicción de adherimiento a campañas de marketing (clasificación)\n",
    "\n",
    "#### Alberto Mario Ceballos Arroyo\n",
    "alceballosa@unal.edu.co   \n",
    "Universidad Nacional de Colombia, Sede Medellín  \n",
    "Facultad de Minas  \n",
    "Medellín, Colombia"
   ]
  },
  {
   "cell_type": "markdown",
   "metadata": {},
   "source": [
    "# DESCRIPCIÓN DEL PROBLEMA"
   ]
  },
  {
   "cell_type": "markdown",
   "metadata": {
    "collapsed": true
   },
   "source": [
    "\n",
    "Las campañas de marketing constituyen una estrategia típica para maximizar los beneficios de las organizaciones. Algunas compañías hacen uso de marketing directo, contactando a los clientes (usualmente por medio de llamadas) para ofrecerles ciertos beneficios y convencerlos de suscribirse a distintos tipos de planes. Muchas organizaciones grandes y medianas centralizan sus interacciones con los clientes en centros de contacto desde los cuales se contacta a los clientes. Este tipo de marketing es considerado 'telemarketing', e incurre un gran costo en las organizaciones debido a la cantidad de personal que deben mantener en dichas tareas y el impacto que puede tener en la relación con el cliente debido a la intrusividad. \n",
    "\n",
    "Debido a esto, muchas organizaciones buscan optimizar la decisión de si llamar o no a un cliente dado. En el caso del banco portugués de la que se extrajeron los datos en los que se basa este trabajo, el objetivo era determinar si un cliente se suscribiría o no a un depósito a término fijo (CDT). Debido a la gran cantidad de variables a tener en cuenta, determinar cuando un cliente se suscribirá al CDT es complicado, pero dicha problemática era clave para el banco ya que el país se encontraba en época de recesión. \n",
    "\n",
    "\n",
    "\n",
    "<a href=\"https://archive.ics.uci.edu/ml/datasets/Bank+Marketing\"> Fuente </a>:  *[Moro et al., 2014] S. Moro, P. Cortez and P. Rita. A Data-Driven Approach to Predict the Success of Bank Telemarketing. Decision Support Systems, Elsevier, 62:22-31, June 2014*\n",
    "\n",
    "\n"
   ]
  },
  {
   "cell_type": "markdown",
   "metadata": {},
   "source": [
    "# DESCRIPCIÓN DEL PROBLEMA DESDE LOS DATOS\n",
    "\n",
    "Los datos utilizados fueron seleccionados del repositorio en línea UCI. Se trata de una base de datos para clasificación para determinar la adhesión o no de clientes a depósitos a término como resultado de campañas de marketing. La base de datos fue proporcionada por Moro et al. en 2014, y es resultado de un estudio real hecho con datos de un banco portugués.\n",
    "\n",
    "En el repositorio se encuentran varios conjuntos de datos, en todas estas los datos están ordenados por fecha (Mayo 2008-Nov. 2010). La diferencia consiste en el número de atributos y la cantidad de registros. Para el propósito de este informe, se escoge el conjunto bank-additional-full.csv que incluye 41188 datos con 20 atributos y la variable respuesta y.\n",
    "\n",
    "Cabe anotar que problemas de decisión como éste son NP-hard, sin embargo, para el banco era aceptable cierto margen de error ya que realizó más de 40000 llamadas durante el período evaluado, lo cual es consecuencia de la situación de recesión en la que se encontraba el país y la necesidad del banco de recibir dinero de sus clientes.\n",
    "\n",
    "## Atributos del cliente:\n",
    "  \n",
    "    1. age: Edad del cliente (numérico)\n",
    "    \n",
    "    2. job: Tipo de trabajo del cliente (catégorico: \"admin.\",\"blue-collar\", \"entrepreneur\", \"housemaid\",\"management\", \"retired\",\"self-employed\", \"services\",\"student\",\"technician\",\"unemployed\",\"unknown\"). \n",
    "    \n",
    "    3. marital: Estado civil del cliente (catégorico: \"divorced\",\"married\",\"single\",\"unknown\"; nota: \"divorced\" significa divorciado o viudo).\n",
    "    \n",
    "    4. education: Nivel educativo más alto del cliente (catégorico:  \"basic.4y\",\"basic.6y\",\"basic.9y\",\"high.school\",\"illiterate\",\"professional.course\",\"university.degree\",\"unknown\"). \n",
    "\n",
    "    5. default: ¿Tiene créditos en mora? (catégorico: \"no\",\"yes\",\"unknown\"). \n",
    "\n",
    "    6. housing: ¿Tiene préstamos para vivienda? (catégorico: \"no\",\"yes\",\"unknown\"). \n",
    "    \n",
    "    7. loan: ¿Tiene préstamos personales? (catégorico: \"no\",\"yes\",\"unknown\"). \n",
    "    \n",
    "    \n",
    "## Atributos  de la último llamada en la campaña de marketing actual:\n",
    "\n",
    "    8. contact: Tipo de medio de comunicación para contacto (catégorico: \"cellular\",\"telephone\"). \n",
    "    \n",
    "    9. month: Últímo mes de contacto en el año (catégorico:  \"mar\", ..., \"nov\", \"dec\"). No se hacen llamadas en enero ni marzo.\n",
    "    \n",
    "    10. day_of_week: Último día de la semana en el que se hizo llamada (catégorico: \"mon\",\"tue\",\"wed\",\"thu\",\"fri\").\n",
    "    \n",
    "    11. duration: Duración de la última llamada, en segundos (numérico). Nota: Este atributo afecta en gran medida la salida (ej. si duración = 0, entonces y = 'no'). Sin embargo, la duración no se conoce antes de realizar una llamada. Además, al terminar la llamada se conoce el resultado de y. Por tanto, este atributo debe ser descartado si se tiene la intención de tener un modelo predictivo realista.\n",
    "    \n",
    "\n",
    "## Otros atributos:\n",
    "\n",
    "    12. campaign: Número de llamadas realizadas durante esta campaña para el cliente (numérico, incluye la última llamada)\n",
    "    \n",
    "    13. pdays: Número de días que han pasado después de que el cliente fuese contactado por última vez (numérico; 999 significa que no se contactó previamente al cliente).\n",
    "    \n",
    "    14. previous: Número de llamadas realizadas antes de esta campaña para el cliente (numérico).\n",
    "    \n",
    "    15. poutcome: Resultado de la anterior campaña de marketing (catégorico: \"failure\", \"nonexistent\", \"success\").\n",
    "\n",
    "## Atributos de contexto social y económico:\n",
    "\n",
    "    16. emp.var.rate: Tasa de variación de empleo - indicador trimestral (numérico).\n",
    "    \n",
    "    17. cons.price.idx: Índice de precios del consumidor - indicador mensual (numérico).\n",
    "    \n",
    "    18. cons.conf.idx: Índice de confianza del consumidor - indicador mensual (numérico).\n",
    "    \n",
    "    19. euribor3m: Tasa euribor de 3 meses - indicador diario (numérico).\n",
    "    \n",
    "    20. nr.employed: Número de empleados - indicador trimestral (numérico).\n",
    "    \n",
    "\n",
    "# Variable de salida (objetivo):\n",
    "\n",
    "    21. y: ¿El cliente se suscribió a un depósito a término? (binaria: \"yes\",\"no\").\n",
    "\n",
    "# Datos de atributo faltante:\n",
    "\n",
    "    -. Existen valores faltantes en varios atributos categóricos, codificados con la etiqueta \"unknown\". Estos pueden ser tratados como una clase por sí misma, o tratados con técnicas de imputación.\n"
   ]
  },
  {
   "cell_type": "markdown",
   "metadata": {},
   "source": [
    "# PASOS DE LA IMPLEMENTACIÓN\n",
    "\n",
    "* ### Exploración descriptiva de los datos.\n",
    "\n",
    "* ### Primera iteración del preprocesamiento.\n",
    "\n",
    "* ### Primera iteración del modelado.\n",
    "\n",
    "* ### Conclusiones de la primera iteración.\n",
    "\n",
    "* ### Segunda iteración del preprocesamiento.\n",
    "\n",
    "* ### Segunda iteración del modelado.\n",
    "\n",
    "* ### Conclusiones de la segunda iteración\n",
    "\n",
    "* ### Tercera iteración del preprocesamiento.\n",
    "\n",
    "* ### Tercera iteración del modelado.\n",
    "\n",
    "* ### Conclusiones finales."
   ]
  },
  {
   "cell_type": "markdown",
   "metadata": {},
   "source": [
    "# LIBRERIAS\n",
    "\n",
    "A continuación se importan las librerias necesarias y se definen algunas funciones para la realización del trabajo:"
   ]
  },
  {
   "cell_type": "code",
   "execution_count": 6,
   "metadata": {
    "collapsed": true
   },
   "outputs": [],
   "source": [
    "%matplotlib inline\n",
    "##\n",
    "## Se ignoran advertencias\n",
    "##\n",
    "import warnings as ws\n",
    "ws.filterwarnings(\"ignore\")\n",
    "\n",
    "import math\n",
    "import pandas as pd\n",
    "import numpy as np\n",
    "from sklearn.preprocessing import Imputer\n",
    "from sklearn.metrics import confusion_matrix\n",
    "from sklearn.metrics import classification_report\n",
    "from sklearn.metrics import roc_auc_score\n",
    "from sklearn.metrics import cohen_kappa_score, make_scorer\n",
    "from sklearn.model_selection import GridSearchCV\n",
    "from sklearn.model_selection import StratifiedShuffleSplit\n",
    "from sklearn import preprocessing\n",
    "from sklearn.neighbors import KNeighborsClassifier\n",
    "from sklearn.linear_model import LogisticRegression\n",
    "from sklearn.ensemble import RandomForestClassifier\n",
    "from sklearn.neural_network import MLPClassifier\n",
    "import seaborn as sns\n",
    "from matplotlib import pyplot\n",
    "import statsmodels.formula.api as smf\n",
    "import statsmodels.stats.multicomp as multi\n",
    "import statsmodels.api as sm\n",
    "import time as tm\n",
    "from imblearn.over_sampling import SMOTE\n",
    "from imblearn.combine import SMOTEENN\n"
   ]
  },
  {
   "cell_type": "code",
   "execution_count": 5,
   "metadata": {
    "collapsed": true
   },
   "outputs": [],
   "source": [
    "def magnify():\n",
    "    return [dict(selector=\"th\",\n",
    "                 props=[(\"font-size\", \"8pt\")]),\n",
    "            dict(selector=\"td\",\n",
    "                 props=[('padding', \"0em 0em\")]),\n",
    "            dict(selector=\"th:hover\",\n",
    "                 props=[(\"font-size\", \"12pt\")]),\n",
    "            dict(selector=\"tr:hover td:hover\",\n",
    "                 props=[('max-width', '200px'),\n",
    "                        ('font-size', '12pt')])\n",
    "]\n",
    "\n",
    "# mapa de correlación\n",
    "def correl(correlacion):\n",
    "    cmap=sns.diverging_palette(5, 250, as_cmap=True)\n",
    "    return (correlacion.style.background_gradient(cmap, axis=1)\\\n",
    "        .set_properties(**{'max-width': '80px', 'font-size': '10pt', 'fmt': '0.1'})\\\n",
    "        .set_caption(\"Hover to magnify\")\\\n",
    "        .set_precision(2)\\\n",
    "        .set_table_styles(magnify()))\n",
    "\n",
    "\n"
   ]
  },
  {
   "cell_type": "markdown",
   "metadata": {},
   "source": [
    "# ANALISIS DESCRIPTIVO\n",
    "\n",
    "En esta sección se realiza un análisis descriptivo de las distintas variables.\n",
    "\n",
    "### Lectura de los datos y eliminación de variables según el ámbito del problema\n",
    "\n",
    "<br/>\n",
    "Se hace la lectura de los datos con la función read_csv de la librería pandas. Se trabaja con la versión 'additional-full' de los datos del banco.\n",
    "\n",
    "Se elimina la variable 'duration' para obtener un modelo predictivo más realista.\n",
    "\n",
    "Se convierte la variable de salida en binaria, para facilitar algunos calculos."
   ]
  },
  {
   "cell_type": "code",
   "execution_count": 55,
   "metadata": {},
   "outputs": [
    {
     "data": {
      "text/html": [
       "<div>\n",
       "<style>\n",
       "    .dataframe thead tr:only-child th {\n",
       "        text-align: right;\n",
       "    }\n",
       "\n",
       "    .dataframe thead th {\n",
       "        text-align: left;\n",
       "    }\n",
       "\n",
       "    .dataframe tbody tr th {\n",
       "        vertical-align: top;\n",
       "    }\n",
       "</style>\n",
       "<table border=\"1\" class=\"dataframe\">\n",
       "  <thead>\n",
       "    <tr style=\"text-align: right;\">\n",
       "      <th></th>\n",
       "      <th>age</th>\n",
       "      <th>job</th>\n",
       "      <th>marital</th>\n",
       "      <th>education</th>\n",
       "      <th>default</th>\n",
       "      <th>housing</th>\n",
       "      <th>loan</th>\n",
       "      <th>contact</th>\n",
       "      <th>month</th>\n",
       "      <th>day_of_week</th>\n",
       "      <th>campaign</th>\n",
       "      <th>pdays</th>\n",
       "      <th>previous</th>\n",
       "      <th>poutcome</th>\n",
       "      <th>emp.var.rate</th>\n",
       "      <th>cons.price.idx</th>\n",
       "      <th>cons.conf.idx</th>\n",
       "      <th>euribor3m</th>\n",
       "      <th>nr.employed</th>\n",
       "      <th>y</th>\n",
       "    </tr>\n",
       "  </thead>\n",
       "  <tbody>\n",
       "    <tr>\n",
       "      <th>0</th>\n",
       "      <td>56</td>\n",
       "      <td>housemaid</td>\n",
       "      <td>married</td>\n",
       "      <td>basic.4y</td>\n",
       "      <td>no</td>\n",
       "      <td>no</td>\n",
       "      <td>no</td>\n",
       "      <td>telephone</td>\n",
       "      <td>may</td>\n",
       "      <td>mon</td>\n",
       "      <td>1</td>\n",
       "      <td>999</td>\n",
       "      <td>0</td>\n",
       "      <td>nonexistent</td>\n",
       "      <td>1.1</td>\n",
       "      <td>93.994</td>\n",
       "      <td>-36.4</td>\n",
       "      <td>4.857</td>\n",
       "      <td>5191.0</td>\n",
       "      <td>0</td>\n",
       "    </tr>\n",
       "    <tr>\n",
       "      <th>1</th>\n",
       "      <td>57</td>\n",
       "      <td>services</td>\n",
       "      <td>married</td>\n",
       "      <td>high.school</td>\n",
       "      <td>unknown</td>\n",
       "      <td>no</td>\n",
       "      <td>no</td>\n",
       "      <td>telephone</td>\n",
       "      <td>may</td>\n",
       "      <td>mon</td>\n",
       "      <td>1</td>\n",
       "      <td>999</td>\n",
       "      <td>0</td>\n",
       "      <td>nonexistent</td>\n",
       "      <td>1.1</td>\n",
       "      <td>93.994</td>\n",
       "      <td>-36.4</td>\n",
       "      <td>4.857</td>\n",
       "      <td>5191.0</td>\n",
       "      <td>0</td>\n",
       "    </tr>\n",
       "    <tr>\n",
       "      <th>2</th>\n",
       "      <td>37</td>\n",
       "      <td>services</td>\n",
       "      <td>married</td>\n",
       "      <td>high.school</td>\n",
       "      <td>no</td>\n",
       "      <td>yes</td>\n",
       "      <td>no</td>\n",
       "      <td>telephone</td>\n",
       "      <td>may</td>\n",
       "      <td>mon</td>\n",
       "      <td>1</td>\n",
       "      <td>999</td>\n",
       "      <td>0</td>\n",
       "      <td>nonexistent</td>\n",
       "      <td>1.1</td>\n",
       "      <td>93.994</td>\n",
       "      <td>-36.4</td>\n",
       "      <td>4.857</td>\n",
       "      <td>5191.0</td>\n",
       "      <td>0</td>\n",
       "    </tr>\n",
       "    <tr>\n",
       "      <th>3</th>\n",
       "      <td>40</td>\n",
       "      <td>admin.</td>\n",
       "      <td>married</td>\n",
       "      <td>basic.6y</td>\n",
       "      <td>no</td>\n",
       "      <td>no</td>\n",
       "      <td>no</td>\n",
       "      <td>telephone</td>\n",
       "      <td>may</td>\n",
       "      <td>mon</td>\n",
       "      <td>1</td>\n",
       "      <td>999</td>\n",
       "      <td>0</td>\n",
       "      <td>nonexistent</td>\n",
       "      <td>1.1</td>\n",
       "      <td>93.994</td>\n",
       "      <td>-36.4</td>\n",
       "      <td>4.857</td>\n",
       "      <td>5191.0</td>\n",
       "      <td>0</td>\n",
       "    </tr>\n",
       "    <tr>\n",
       "      <th>4</th>\n",
       "      <td>56</td>\n",
       "      <td>services</td>\n",
       "      <td>married</td>\n",
       "      <td>high.school</td>\n",
       "      <td>no</td>\n",
       "      <td>no</td>\n",
       "      <td>yes</td>\n",
       "      <td>telephone</td>\n",
       "      <td>may</td>\n",
       "      <td>mon</td>\n",
       "      <td>1</td>\n",
       "      <td>999</td>\n",
       "      <td>0</td>\n",
       "      <td>nonexistent</td>\n",
       "      <td>1.1</td>\n",
       "      <td>93.994</td>\n",
       "      <td>-36.4</td>\n",
       "      <td>4.857</td>\n",
       "      <td>5191.0</td>\n",
       "      <td>0</td>\n",
       "    </tr>\n",
       "  </tbody>\n",
       "</table>\n",
       "</div>"
      ],
      "text/plain": [
       "   age        job  marital    education  default housing loan    contact  \\\n",
       "0   56  housemaid  married     basic.4y       no      no   no  telephone   \n",
       "1   57   services  married  high.school  unknown      no   no  telephone   \n",
       "2   37   services  married  high.school       no     yes   no  telephone   \n",
       "3   40     admin.  married     basic.6y       no      no   no  telephone   \n",
       "4   56   services  married  high.school       no      no  yes  telephone   \n",
       "\n",
       "  month day_of_week  campaign  pdays  previous     poutcome  emp.var.rate  \\\n",
       "0   may         mon         1    999         0  nonexistent           1.1   \n",
       "1   may         mon         1    999         0  nonexistent           1.1   \n",
       "2   may         mon         1    999         0  nonexistent           1.1   \n",
       "3   may         mon         1    999         0  nonexistent           1.1   \n",
       "4   may         mon         1    999         0  nonexistent           1.1   \n",
       "\n",
       "   cons.price.idx  cons.conf.idx  euribor3m  nr.employed  y  \n",
       "0          93.994          -36.4      4.857       5191.0  0  \n",
       "1          93.994          -36.4      4.857       5191.0  0  \n",
       "2          93.994          -36.4      4.857       5191.0  0  \n",
       "3          93.994          -36.4      4.857       5191.0  0  \n",
       "4          93.994          -36.4      4.857       5191.0  0  "
      ]
     },
     "execution_count": 55,
     "metadata": {},
     "output_type": "execute_result"
    }
   ],
   "source": [
    "def lectura():\n",
    "    df_orig = pd.read_csv('bank-additional-full.csv', sep=\";\")\n",
    "    del(df_orig['duration'])\n",
    "    df_orig.y = df_orig.y.apply(lambda x: 1 if x=='yes' else 0)\n",
    "    return df_orig\n",
    "\n",
    "df_orig = lectura()\n",
    "df_orig.head()"
   ]
  },
  {
   "cell_type": "code",
   "execution_count": 10,
   "metadata": {},
   "outputs": [
    {
     "name": "stdout",
     "output_type": "stream",
     "text": [
      "<class 'pandas.core.frame.DataFrame'>\n",
      "RangeIndex: 41188 entries, 0 to 41187\n",
      "Data columns (total 20 columns):\n",
      "age               41188 non-null int64\n",
      "job               41188 non-null object\n",
      "marital           41188 non-null object\n",
      "education         41188 non-null object\n",
      "default           41188 non-null object\n",
      "housing           41188 non-null object\n",
      "loan              41188 non-null object\n",
      "contact           41188 non-null object\n",
      "month             41188 non-null object\n",
      "day_of_week       41188 non-null object\n",
      "campaign          41188 non-null int64\n",
      "pdays             41188 non-null int64\n",
      "previous          41188 non-null int64\n",
      "poutcome          41188 non-null object\n",
      "emp.var.rate      41188 non-null float64\n",
      "cons.price.idx    41188 non-null float64\n",
      "cons.conf.idx     41188 non-null float64\n",
      "euribor3m         41188 non-null float64\n",
      "nr.employed       41188 non-null float64\n",
      "y                 41188 non-null int64\n",
      "dtypes: float64(5), int64(5), object(10)\n",
      "memory usage: 6.3+ MB\n"
     ]
    }
   ],
   "source": [
    "df_orig.info()"
   ]
  },
  {
   "cell_type": "markdown",
   "metadata": {},
   "source": [
    "### Linea base y distribución de datos según si el cliente se ha suscrito a un déposito a término\n",
    "\n",
    "Una revisión de los datos muestra que el 88.9% de los datos pertenecen a la clase 0 (NO). Esto indica que la línea base puede ser un 89% de precisión. Sin embargo, dato que los datos fueron muestreados en época de recesión, puede ser aceptable una precisión ligeramente menor a ese valor si se maximiza la precisión al clasificar a los clientes que sí se suscribirán a un depósito a término fijo.\n",
    "\n",
    "Este enfoque es similar al que emplean los creadores del conjunto de datos en https://pdfs.semanticscholar.org/cab8/6052882d126d43f72108c6cb41b295cc8a9e.pdf , así que se decide usar los resultados obtenidos por estos con su mejor caso de aplicación como línea base.\n",
    "\n",
    "<img src=\"lineabase.png\" />"
   ]
  },
  {
   "cell_type": "markdown",
   "metadata": {},
   "source": [
    "Dichos resultados describen un 81% de precisión en la predicción de la clase NO y un 65% de precisión para la clase SI, con una precisión general del 75%."
   ]
  },
  {
   "cell_type": "code",
   "execution_count": 285,
   "metadata": {},
   "outputs": [
    {
     "data": {
      "image/png": "[encoded data removed]",
      "text/plain": [
       "<matplotlib.figure.Figure at 0x1dc5eca6cc0>"
      ]
     },
     "metadata": {},
     "output_type": "display_data"
    }
   ],
   "source": [
    "df_orig.y.value_counts()\n",
    "sns.countplot(x='y', data=df_orig, palette='hls')\n",
    "pyplot.show()"
   ]
  },
  {
   "cell_type": "markdown",
   "metadata": {},
   "source": [
    "# Listado de etiquetas"
   ]
  },
  {
   "cell_type": "code",
   "execution_count": 289,
   "metadata": {},
   "outputs": [
    {
     "name": "stdout",
     "output_type": "stream",
     "text": [
      "['age', 'job', 'marital', 'education', 'default', 'housing', 'loan', 'contact', 'month', 'day_of_week', 'campaign', 'pdays', 'previous', 'poutcome', 'emp.var.rate', 'cons.price.idx', 'cons.conf.idx', 'euribor3m', 'nr.employed', 'y']\n"
     ]
    }
   ],
   "source": [
    "labels = list(df_orig.columns.values)\n",
    "print(labels)"
   ]
  },
  {
   "cell_type": "markdown",
   "metadata": {},
   "source": [
    "# Descripción de las variables categóricas\n",
    "\n",
    "En la siguiente sección se hace un análisis descriptivo de las variables categóricas según la distribución de sus valores."
   ]
  },
  {
   "cell_type": "code",
   "execution_count": 56,
   "metadata": {
    "collapsed": true
   },
   "outputs": [],
   "source": [
    "cat_labels = ['job','marital','education', 'month','day_of_week', 'default','housing','poutcome', 'loan','contact']"
   ]
  },
  {
   "cell_type": "code",
   "execution_count": 12,
   "metadata": {},
   "outputs": [
    {
     "data": {
      "text/html": [
       "<div>\n",
       "<style>\n",
       "    .dataframe thead tr:only-child th {\n",
       "        text-align: right;\n",
       "    }\n",
       "\n",
       "    .dataframe thead th {\n",
       "        text-align: left;\n",
       "    }\n",
       "\n",
       "    .dataframe tbody tr th {\n",
       "        vertical-align: top;\n",
       "    }\n",
       "</style>\n",
       "<table border=\"1\" class=\"dataframe\">\n",
       "  <thead>\n",
       "    <tr style=\"text-align: right;\">\n",
       "      <th></th>\n",
       "      <th>job</th>\n",
       "      <th>marital</th>\n",
       "      <th>education</th>\n",
       "      <th>month</th>\n",
       "      <th>day_of_week</th>\n",
       "      <th>default</th>\n",
       "      <th>housing</th>\n",
       "      <th>poutcome</th>\n",
       "      <th>loan</th>\n",
       "      <th>contact</th>\n",
       "    </tr>\n",
       "  </thead>\n",
       "  <tbody>\n",
       "    <tr>\n",
       "      <th>count</th>\n",
       "      <td>41188</td>\n",
       "      <td>41188</td>\n",
       "      <td>41188</td>\n",
       "      <td>41188</td>\n",
       "      <td>41188</td>\n",
       "      <td>41188</td>\n",
       "      <td>41188</td>\n",
       "      <td>41188</td>\n",
       "      <td>41188</td>\n",
       "      <td>41188</td>\n",
       "    </tr>\n",
       "    <tr>\n",
       "      <th>unique</th>\n",
       "      <td>12</td>\n",
       "      <td>4</td>\n",
       "      <td>8</td>\n",
       "      <td>10</td>\n",
       "      <td>5</td>\n",
       "      <td>3</td>\n",
       "      <td>3</td>\n",
       "      <td>3</td>\n",
       "      <td>3</td>\n",
       "      <td>2</td>\n",
       "    </tr>\n",
       "    <tr>\n",
       "      <th>top</th>\n",
       "      <td>admin.</td>\n",
       "      <td>married</td>\n",
       "      <td>university.degree</td>\n",
       "      <td>may</td>\n",
       "      <td>thu</td>\n",
       "      <td>no</td>\n",
       "      <td>yes</td>\n",
       "      <td>nonexistent</td>\n",
       "      <td>no</td>\n",
       "      <td>cellular</td>\n",
       "    </tr>\n",
       "    <tr>\n",
       "      <th>freq</th>\n",
       "      <td>10422</td>\n",
       "      <td>24928</td>\n",
       "      <td>12168</td>\n",
       "      <td>13769</td>\n",
       "      <td>8623</td>\n",
       "      <td>32588</td>\n",
       "      <td>21576</td>\n",
       "      <td>35563</td>\n",
       "      <td>33950</td>\n",
       "      <td>26144</td>\n",
       "    </tr>\n",
       "  </tbody>\n",
       "</table>\n",
       "</div>"
      ],
      "text/plain": [
       "           job  marital          education  month day_of_week default housing  \\\n",
       "count    41188    41188              41188  41188       41188   41188   41188   \n",
       "unique      12        4                  8     10           5       3       3   \n",
       "top     admin.  married  university.degree    may         thu      no     yes   \n",
       "freq     10422    24928              12168  13769        8623   32588   21576   \n",
       "\n",
       "           poutcome   loan   contact  \n",
       "count         41188  41188     41188  \n",
       "unique            3      3         2  \n",
       "top     nonexistent     no  cellular  \n",
       "freq          35563  33950     26144  "
      ]
     },
     "execution_count": 12,
     "metadata": {},
     "output_type": "execute_result"
    }
   ],
   "source": [
    "df_orig[cat_labels].describe()"
   ]
  },
  {
   "cell_type": "code",
   "execution_count": 13,
   "metadata": {},
   "outputs": [
    {
     "data": {
      "image/png": "[encoded data removed]",
      "text/plain": [
       "<matplotlib.figure.Figure at 0x1aca6e8c438>"
      ]
     },
     "metadata": {},
     "output_type": "display_data"
    }
   ],
   "source": [
    "cat_labels_plot1 = ['job','education', 'month']\n",
    "order_education = ['illiterate', 'basic.4y', 'basic.6y', 'basic.9y', \n",
    "                   'high.school', 'university.degree', 'professional.course','unknown']\n",
    "order_month = ['mar','apr','may','jun','jul','aug','sep','oct','nov','dec']\n",
    "\n",
    "fig = pyplot.figure(figsize=(14, 12))\n",
    "ax1 = pyplot.subplot(3, 1, 1)\n",
    "sns.countplot(x=\"job\", data=df_orig, ax = ax1)\n",
    "ax2 = pyplot.subplot(3, 1, 2)\n",
    "sns.countplot(x=\"education\", data=df_orig, ax = ax2, order = order_education)\n",
    "ax2 = pyplot.subplot(3, 1, 3)\n",
    "sns.countplot(x=\"month\", data=df_orig, ax = ax2, order = order_month)\n",
    "\n",
    "pyplot.show()"
   ]
  },
  {
   "cell_type": "code",
   "execution_count": 14,
   "metadata": {
    "scrolled": false
   },
   "outputs": [
    {
     "data": {
      "image/png": "[encoded data removed]",
      "text/plain": [
       "<matplotlib.figure.Figure at 0x1aca6e6b748>"
      ]
     },
     "metadata": {},
     "output_type": "display_data"
    }
   ],
   "source": [
    "cat_labels_plot2 = [label for label in cat_labels if label not in cat_labels_plot1]\n",
    "\n",
    "fig = pyplot.figure(figsize=(15, 20))\n",
    "fig_size = (4,2)\n",
    "\n",
    "axes = []\n",
    "\n",
    "for i in range(0, len(cat_labels_plot2)):\n",
    "    axes.append(pyplot.subplot(*fig_size,i+1))\n",
    "    sns.countplot(x=cat_labels_plot2[i], data=df_orig, ax=axes[i])\n",
    "    \n",
    "pyplot.show()"
   ]
  },
  {
   "cell_type": "markdown",
   "metadata": {},
   "source": [
    "# Descripción de las variables numéricas\n",
    "\n",
    "Para mayor facilidad del manejo de las variables numéricas, se almacena un arreglo con las mismas.\n",
    "\n",
    "Observando las variables numéricas se puede observar que existe una desviación estándar considerable en la variable pdays, en contraste con las otras variables.\n",
    "\n"
   ]
  },
  {
   "cell_type": "code",
   "execution_count": 57,
   "metadata": {
    "scrolled": true
   },
   "outputs": [
    {
     "data": {
      "text/html": [
       "<div>\n",
       "<style>\n",
       "    .dataframe thead tr:only-child th {\n",
       "        text-align: right;\n",
       "    }\n",
       "\n",
       "    .dataframe thead th {\n",
       "        text-align: left;\n",
       "    }\n",
       "\n",
       "    .dataframe tbody tr th {\n",
       "        vertical-align: top;\n",
       "    }\n",
       "</style>\n",
       "<table border=\"1\" class=\"dataframe\">\n",
       "  <thead>\n",
       "    <tr style=\"text-align: right;\">\n",
       "      <th></th>\n",
       "      <th>age</th>\n",
       "      <th>campaign</th>\n",
       "      <th>pdays</th>\n",
       "      <th>previous</th>\n",
       "      <th>emp.var.rate</th>\n",
       "      <th>cons.price.idx</th>\n",
       "      <th>cons.conf.idx</th>\n",
       "      <th>euribor3m</th>\n",
       "      <th>nr.employed</th>\n",
       "    </tr>\n",
       "  </thead>\n",
       "  <tbody>\n",
       "    <tr>\n",
       "      <th>count</th>\n",
       "      <td>41188.00000</td>\n",
       "      <td>41188.000000</td>\n",
       "      <td>41188.000000</td>\n",
       "      <td>41188.000000</td>\n",
       "      <td>41188.000000</td>\n",
       "      <td>41188.000000</td>\n",
       "      <td>41188.000000</td>\n",
       "      <td>41188.000000</td>\n",
       "      <td>41188.000000</td>\n",
       "    </tr>\n",
       "    <tr>\n",
       "      <th>mean</th>\n",
       "      <td>40.02406</td>\n",
       "      <td>2.567593</td>\n",
       "      <td>962.475454</td>\n",
       "      <td>0.172963</td>\n",
       "      <td>0.081886</td>\n",
       "      <td>93.575664</td>\n",
       "      <td>-40.502600</td>\n",
       "      <td>3.621291</td>\n",
       "      <td>5167.035911</td>\n",
       "    </tr>\n",
       "    <tr>\n",
       "      <th>std</th>\n",
       "      <td>10.42125</td>\n",
       "      <td>2.770014</td>\n",
       "      <td>186.910907</td>\n",
       "      <td>0.494901</td>\n",
       "      <td>1.570960</td>\n",
       "      <td>0.578840</td>\n",
       "      <td>4.628198</td>\n",
       "      <td>1.734447</td>\n",
       "      <td>72.251528</td>\n",
       "    </tr>\n",
       "    <tr>\n",
       "      <th>min</th>\n",
       "      <td>17.00000</td>\n",
       "      <td>1.000000</td>\n",
       "      <td>0.000000</td>\n",
       "      <td>0.000000</td>\n",
       "      <td>-3.400000</td>\n",
       "      <td>92.201000</td>\n",
       "      <td>-50.800000</td>\n",
       "      <td>0.634000</td>\n",
       "      <td>4963.600000</td>\n",
       "    </tr>\n",
       "    <tr>\n",
       "      <th>25%</th>\n",
       "      <td>32.00000</td>\n",
       "      <td>1.000000</td>\n",
       "      <td>999.000000</td>\n",
       "      <td>0.000000</td>\n",
       "      <td>-1.800000</td>\n",
       "      <td>93.075000</td>\n",
       "      <td>-42.700000</td>\n",
       "      <td>1.344000</td>\n",
       "      <td>5099.100000</td>\n",
       "    </tr>\n",
       "    <tr>\n",
       "      <th>50%</th>\n",
       "      <td>38.00000</td>\n",
       "      <td>2.000000</td>\n",
       "      <td>999.000000</td>\n",
       "      <td>0.000000</td>\n",
       "      <td>1.100000</td>\n",
       "      <td>93.749000</td>\n",
       "      <td>-41.800000</td>\n",
       "      <td>4.857000</td>\n",
       "      <td>5191.000000</td>\n",
       "    </tr>\n",
       "    <tr>\n",
       "      <th>75%</th>\n",
       "      <td>47.00000</td>\n",
       "      <td>3.000000</td>\n",
       "      <td>999.000000</td>\n",
       "      <td>0.000000</td>\n",
       "      <td>1.400000</td>\n",
       "      <td>93.994000</td>\n",
       "      <td>-36.400000</td>\n",
       "      <td>4.961000</td>\n",
       "      <td>5228.100000</td>\n",
       "    </tr>\n",
       "    <tr>\n",
       "      <th>max</th>\n",
       "      <td>98.00000</td>\n",
       "      <td>56.000000</td>\n",
       "      <td>999.000000</td>\n",
       "      <td>7.000000</td>\n",
       "      <td>1.400000</td>\n",
       "      <td>94.767000</td>\n",
       "      <td>-26.900000</td>\n",
       "      <td>5.045000</td>\n",
       "      <td>5228.100000</td>\n",
       "    </tr>\n",
       "  </tbody>\n",
       "</table>\n",
       "</div>"
      ],
      "text/plain": [
       "               age      campaign         pdays      previous  emp.var.rate  \\\n",
       "count  41188.00000  41188.000000  41188.000000  41188.000000  41188.000000   \n",
       "mean      40.02406      2.567593    962.475454      0.172963      0.081886   \n",
       "std       10.42125      2.770014    186.910907      0.494901      1.570960   \n",
       "min       17.00000      1.000000      0.000000      0.000000     -3.400000   \n",
       "25%       32.00000      1.000000    999.000000      0.000000     -1.800000   \n",
       "50%       38.00000      2.000000    999.000000      0.000000      1.100000   \n",
       "75%       47.00000      3.000000    999.000000      0.000000      1.400000   \n",
       "max       98.00000     56.000000    999.000000      7.000000      1.400000   \n",
       "\n",
       "       cons.price.idx  cons.conf.idx     euribor3m   nr.employed  \n",
       "count    41188.000000   41188.000000  41188.000000  41188.000000  \n",
       "mean        93.575664     -40.502600      3.621291   5167.035911  \n",
       "std          0.578840       4.628198      1.734447     72.251528  \n",
       "min         92.201000     -50.800000      0.634000   4963.600000  \n",
       "25%         93.075000     -42.700000      1.344000   5099.100000  \n",
       "50%         93.749000     -41.800000      4.857000   5191.000000  \n",
       "75%         93.994000     -36.400000      4.961000   5228.100000  \n",
       "max         94.767000     -26.900000      5.045000   5228.100000  "
      ]
     },
     "execution_count": 57,
     "metadata": {},
     "output_type": "execute_result"
    }
   ],
   "source": [
    "num_labels = ['age', 'campaign', 'pdays','previous','emp.var.rate', 'cons.price.idx','cons.conf.idx',\n",
    "             'euribor3m', 'nr.employed'] \n",
    "df_orig[num_labels].describe()"
   ]
  },
  {
   "cell_type": "markdown",
   "metadata": {},
   "source": [
    "Se muestran gráficos de densidad de las variables numéricas."
   ]
  },
  {
   "cell_type": "code",
   "execution_count": 300,
   "metadata": {},
   "outputs": [
    {
     "data": {
      "image/png": "[encoded data removed]",
      "text/plain": [
       "<matplotlib.figure.Figure at 0x1dc5dcc5f28>"
      ]
     },
     "metadata": {},
     "output_type": "display_data"
    }
   ],
   "source": [
    "df_orig.plot(kind='density', subplots=True, layout=(17,3), sharex=False, figsize=(15,35))\n",
    "pyplot.show()"
   ]
  },
  {
   "cell_type": "markdown",
   "metadata": {},
   "source": [
    "# Escalado preliminar de variables númericas\n",
    "\n",
    "Se realiza un escalado preliminar de las variables numéricas para facilitar su análisis. Aunque en primera instancia se sugiere que hay una dispersión muy grande en varias de las variables, una revisión de la literatura y de las variables como tales muestra que para algunas de ellas es un comportamiento normal."
   ]
  },
  {
   "cell_type": "code",
   "execution_count": 301,
   "metadata": {},
   "outputs": [
    {
     "data": {
      "text/html": [
       "<div>\n",
       "<style>\n",
       "    .dataframe thead tr:only-child th {\n",
       "        text-align: right;\n",
       "    }\n",
       "\n",
       "    .dataframe thead th {\n",
       "        text-align: left;\n",
       "    }\n",
       "\n",
       "    .dataframe tbody tr th {\n",
       "        vertical-align: top;\n",
       "    }\n",
       "</style>\n",
       "<table border=\"1\" class=\"dataframe\">\n",
       "  <thead>\n",
       "    <tr style=\"text-align: right;\">\n",
       "      <th></th>\n",
       "      <th>age</th>\n",
       "      <th>campaign</th>\n",
       "      <th>pdays</th>\n",
       "      <th>previous</th>\n",
       "      <th>emp.var.rate</th>\n",
       "      <th>cons.price.idx</th>\n",
       "      <th>cons.conf.idx</th>\n",
       "      <th>euribor3m</th>\n",
       "      <th>nr.employed</th>\n",
       "      <th>y</th>\n",
       "    </tr>\n",
       "  </thead>\n",
       "  <tbody>\n",
       "    <tr>\n",
       "      <th>count</th>\n",
       "      <td>41188.000000</td>\n",
       "      <td>41188.000000</td>\n",
       "      <td>41188.000000</td>\n",
       "      <td>41188.000000</td>\n",
       "      <td>41188.000000</td>\n",
       "      <td>41188.000000</td>\n",
       "      <td>41188.000000</td>\n",
       "      <td>41188.000000</td>\n",
       "      <td>41188.000000</td>\n",
       "      <td>41188.000000</td>\n",
       "    </tr>\n",
       "    <tr>\n",
       "      <th>mean</th>\n",
       "      <td>0.284248</td>\n",
       "      <td>0.028502</td>\n",
       "      <td>0.963439</td>\n",
       "      <td>0.024709</td>\n",
       "      <td>0.725393</td>\n",
       "      <td>0.535723</td>\n",
       "      <td>0.430854</td>\n",
       "      <td>0.677237</td>\n",
       "      <td>0.769134</td>\n",
       "      <td>0.112654</td>\n",
       "    </tr>\n",
       "    <tr>\n",
       "      <th>std</th>\n",
       "      <td>0.128657</td>\n",
       "      <td>0.050364</td>\n",
       "      <td>0.187098</td>\n",
       "      <td>0.070700</td>\n",
       "      <td>0.327283</td>\n",
       "      <td>0.225581</td>\n",
       "      <td>0.193648</td>\n",
       "      <td>0.393210</td>\n",
       "      <td>0.273163</td>\n",
       "      <td>0.316173</td>\n",
       "    </tr>\n",
       "    <tr>\n",
       "      <th>min</th>\n",
       "      <td>0.000000</td>\n",
       "      <td>0.000000</td>\n",
       "      <td>0.000000</td>\n",
       "      <td>0.000000</td>\n",
       "      <td>0.000000</td>\n",
       "      <td>0.000000</td>\n",
       "      <td>0.000000</td>\n",
       "      <td>0.000000</td>\n",
       "      <td>0.000000</td>\n",
       "      <td>0.000000</td>\n",
       "    </tr>\n",
       "    <tr>\n",
       "      <th>25%</th>\n",
       "      <td>0.185185</td>\n",
       "      <td>0.000000</td>\n",
       "      <td>1.000000</td>\n",
       "      <td>0.000000</td>\n",
       "      <td>0.333333</td>\n",
       "      <td>0.340608</td>\n",
       "      <td>0.338912</td>\n",
       "      <td>0.160961</td>\n",
       "      <td>0.512287</td>\n",
       "      <td>0.000000</td>\n",
       "    </tr>\n",
       "    <tr>\n",
       "      <th>50%</th>\n",
       "      <td>0.259259</td>\n",
       "      <td>0.018182</td>\n",
       "      <td>1.000000</td>\n",
       "      <td>0.000000</td>\n",
       "      <td>0.937500</td>\n",
       "      <td>0.603274</td>\n",
       "      <td>0.376569</td>\n",
       "      <td>0.957379</td>\n",
       "      <td>0.859735</td>\n",
       "      <td>0.000000</td>\n",
       "    </tr>\n",
       "    <tr>\n",
       "      <th>75%</th>\n",
       "      <td>0.370370</td>\n",
       "      <td>0.036364</td>\n",
       "      <td>1.000000</td>\n",
       "      <td>0.000000</td>\n",
       "      <td>1.000000</td>\n",
       "      <td>0.698753</td>\n",
       "      <td>0.602510</td>\n",
       "      <td>0.980957</td>\n",
       "      <td>1.000000</td>\n",
       "      <td>0.000000</td>\n",
       "    </tr>\n",
       "    <tr>\n",
       "      <th>max</th>\n",
       "      <td>1.000000</td>\n",
       "      <td>1.000000</td>\n",
       "      <td>1.000000</td>\n",
       "      <td>1.000000</td>\n",
       "      <td>1.000000</td>\n",
       "      <td>1.000000</td>\n",
       "      <td>1.000000</td>\n",
       "      <td>1.000000</td>\n",
       "      <td>1.000000</td>\n",
       "      <td>1.000000</td>\n",
       "    </tr>\n",
       "  </tbody>\n",
       "</table>\n",
       "</div>"
      ],
      "text/plain": [
       "                age      campaign         pdays      previous  emp.var.rate  \\\n",
       "count  41188.000000  41188.000000  41188.000000  41188.000000  41188.000000   \n",
       "mean       0.284248      0.028502      0.963439      0.024709      0.725393   \n",
       "std        0.128657      0.050364      0.187098      0.070700      0.327283   \n",
       "min        0.000000      0.000000      0.000000      0.000000      0.000000   \n",
       "25%        0.185185      0.000000      1.000000      0.000000      0.333333   \n",
       "50%        0.259259      0.018182      1.000000      0.000000      0.937500   \n",
       "75%        0.370370      0.036364      1.000000      0.000000      1.000000   \n",
       "max        1.000000      1.000000      1.000000      1.000000      1.000000   \n",
       "\n",
       "       cons.price.idx  cons.conf.idx     euribor3m   nr.employed             y  \n",
       "count    41188.000000   41188.000000  41188.000000  41188.000000  41188.000000  \n",
       "mean         0.535723       0.430854      0.677237      0.769134      0.112654  \n",
       "std          0.225581       0.193648      0.393210      0.273163      0.316173  \n",
       "min          0.000000       0.000000      0.000000      0.000000      0.000000  \n",
       "25%          0.340608       0.338912      0.160961      0.512287      0.000000  \n",
       "50%          0.603274       0.376569      0.957379      0.859735      0.000000  \n",
       "75%          0.698753       0.602510      0.980957      1.000000      0.000000  \n",
       "max          1.000000       1.000000      1.000000      1.000000      1.000000  "
      ]
     },
     "execution_count": 301,
     "metadata": {},
     "output_type": "execute_result"
    }
   ],
   "source": [
    "mm_scaler = preprocessing.MinMaxScaler()\n",
    "df_scaled = df_orig.copy()\n",
    "df_scaled[num_labels] = mm_scaler.fit_transform(df_scaled[num_labels])\n",
    "df_scaled.describe()"
   ]
  },
  {
   "cell_type": "markdown",
   "metadata": {},
   "source": [
    "# Visualización de box-plot para encontrar valores dispersos"
   ]
  },
  {
   "cell_type": "code",
   "execution_count": 14,
   "metadata": {},
   "outputs": [
    {
     "data": {
      "image/png": "[encoded data removed]",
      "text/plain": [
       "<matplotlib.figure.Figure at 0x239aae6c400>"
      ]
     },
     "metadata": {},
     "output_type": "display_data"
    }
   ],
   "source": [
    "fig, ax = pyplot.subplots(figsize=(20,10))\n",
    "sns.boxplot(ax = ax, data=df_scaled[num_labels])\n",
    "pyplot.show()"
   ]
  },
  {
   "cell_type": "markdown",
   "metadata": {},
   "source": [
    "# Análisis de la variable AGE."
   ]
  },
  {
   "cell_type": "code",
   "execution_count": 15,
   "metadata": {},
   "outputs": [
    {
     "data": {
      "text/plain": [
       "count    41188.00000\n",
       "mean        40.02406\n",
       "std         10.42125\n",
       "min         17.00000\n",
       "25%         32.00000\n",
       "50%         38.00000\n",
       "75%         47.00000\n",
       "max         98.00000\n",
       "Name: age, dtype: float64"
      ]
     },
     "execution_count": 15,
     "metadata": {},
     "output_type": "execute_result"
    }
   ],
   "source": [
    "df_orig.age.describe()"
   ]
  },
  {
   "cell_type": "code",
   "execution_count": 16,
   "metadata": {},
   "outputs": [
    {
     "data": {
      "image/png": "[encoded data removed]",
      "text/plain": [
       "<matplotlib.figure.Figure at 0x239ac5c2eb8>"
      ]
     },
     "metadata": {},
     "output_type": "display_data"
    }
   ],
   "source": [
    "\n",
    "def map_ages(x):\n",
    "    lower = math.floor(x/10)\n",
    "    upper = lower + 1\n",
    "    return str(lower)+\"0-\"+str(upper)+\"0\"\n",
    "\n",
    "\n",
    "df_y_age = df_orig.copy()\n",
    "df_y_age['age'] = df_y_age['age'].apply(lambda x: map_ages(x))\n",
    "    \n",
    "df_y_age = df_y_age.groupby(['age', 'y'])['y'].count().unstack()\n",
    "\n",
    "df_y_age.plot(kind = 'bar',figsize=(20,5), log=False)\n",
    "pyplot.show()"
   ]
  },
  {
   "cell_type": "code",
   "execution_count": 17,
   "metadata": {},
   "outputs": [
    {
     "data": {
      "image/png": "[encoded data removed]",
      "text/plain": [
       "<matplotlib.figure.Figure at 0x239ac5f0da0>"
      ]
     },
     "metadata": {},
     "output_type": "display_data"
    }
   ],
   "source": [
    "df_y_age.plot(kind = 'bar',figsize=(20,5), log=True)\n",
    "pyplot.show()"
   ]
  },
  {
   "cell_type": "markdown",
   "metadata": {},
   "source": [
    "# Análisis de la variable CAMPAIGN."
   ]
  },
  {
   "cell_type": "code",
   "execution_count": 18,
   "metadata": {},
   "outputs": [
    {
     "data": {
      "text/plain": [
       "count    41188.000000\n",
       "mean         2.567593\n",
       "std          2.770014\n",
       "min          1.000000\n",
       "25%          1.000000\n",
       "50%          2.000000\n",
       "75%          3.000000\n",
       "max         56.000000\n",
       "Name: campaign, dtype: float64"
      ]
     },
     "execution_count": 18,
     "metadata": {},
     "output_type": "execute_result"
    }
   ],
   "source": [
    "df_orig.campaign.describe()"
   ]
  },
  {
   "cell_type": "code",
   "execution_count": 19,
   "metadata": {},
   "outputs": [
    {
     "data": {
      "image/png": "[encoded data removed]",
      "text/plain": [
       "<matplotlib.figure.Figure at 0x239aa4c6630>"
      ]
     },
     "metadata": {},
     "output_type": "display_data"
    }
   ],
   "source": [
    "limit = 18\n",
    "\n",
    "def map_campaign(x, limit):\n",
    "    if(x < limit):\n",
    "        x = x\n",
    "    else:\n",
    "        x = 999\n",
    "    return int(x)\n",
    "\n",
    "\n",
    "df_y_campaign = df_orig.copy()\n",
    "df_y_campaign['campaign'] = df_y_campaign['campaign'].apply(lambda x: map_campaign(x, limit))\n",
    "    \n",
    "df_y_campaign = df_y_campaign.groupby(['campaign', 'y'])['y'].count().unstack()\n",
    "\n",
    "df_y_campaign.plot(kind = 'bar',figsize=(25,5), log=True)\n",
    "pyplot.show()"
   ]
  },
  {
   "cell_type": "markdown",
   "metadata": {},
   "source": [
    "# Análisis de la variable PDAYS"
   ]
  },
  {
   "cell_type": "code",
   "execution_count": 20,
   "metadata": {},
   "outputs": [
    {
     "data": {
      "text/plain": [
       "count    41188.000000\n",
       "mean       962.475454\n",
       "std        186.910907\n",
       "min          0.000000\n",
       "25%        999.000000\n",
       "50%        999.000000\n",
       "75%        999.000000\n",
       "max        999.000000\n",
       "Name: pdays, dtype: float64"
      ]
     },
     "execution_count": 20,
     "metadata": {},
     "output_type": "execute_result"
    }
   ],
   "source": [
    "df_orig.pdays.describe()"
   ]
  },
  {
   "cell_type": "code",
   "execution_count": 21,
   "metadata": {},
   "outputs": [
    {
     "data": {
      "image/png": "[encoded data removed]",
      "text/plain": [
       "<matplotlib.figure.Figure at 0x239ac8f0550>"
      ]
     },
     "metadata": {},
     "output_type": "display_data"
    }
   ],
   "source": [
    "df_y_pdays = df_orig.groupby(['pdays', 'y'])['y'].count().unstack()\n",
    "\n",
    "df_y_pdays.plot(kind = 'bar',figsize=(25,5), log=True)\n",
    "pyplot.show()"
   ]
  },
  {
   "cell_type": "markdown",
   "metadata": {},
   "source": [
    "# Análisis de la variable PREVIOUS"
   ]
  },
  {
   "cell_type": "code",
   "execution_count": 22,
   "metadata": {},
   "outputs": [
    {
     "data": {
      "text/plain": [
       "count    41188.000000\n",
       "mean         0.172963\n",
       "std          0.494901\n",
       "min          0.000000\n",
       "25%          0.000000\n",
       "50%          0.000000\n",
       "75%          0.000000\n",
       "max          7.000000\n",
       "Name: previous, dtype: float64"
      ]
     },
     "execution_count": 22,
     "metadata": {},
     "output_type": "execute_result"
    }
   ],
   "source": [
    "df_orig.previous.describe()"
   ]
  },
  {
   "cell_type": "code",
   "execution_count": 23,
   "metadata": {},
   "outputs": [
    {
     "data": {
      "image/png": "[encoded data removed]",
      "text/plain": [
       "<matplotlib.figure.Figure at 0x239ac395a20>"
      ]
     },
     "metadata": {},
     "output_type": "display_data"
    }
   ],
   "source": [
    "df_y_pre = df_orig.groupby(['previous', 'y'])['y'].count().unstack()\n",
    "\n",
    "df_y_pre.plot(kind = 'bar',figsize=(25,5), log=False)\n",
    "pyplot.show()"
   ]
  },
  {
   "cell_type": "code",
   "execution_count": 24,
   "metadata": {},
   "outputs": [
    {
     "data": {
      "image/png": "[encoded data removed]",
      "text/plain": [
       "<matplotlib.figure.Figure at 0x239ac24b748>"
      ]
     },
     "metadata": {},
     "output_type": "display_data"
    }
   ],
   "source": [
    "df_y_pre.plot(kind = 'bar',figsize=(25,5), log=True)\n",
    "pyplot.show()"
   ]
  },
  {
   "cell_type": "markdown",
   "metadata": {},
   "source": [
    "# Análisis de la variable EMP.VAR.RATE"
   ]
  },
  {
   "cell_type": "code",
   "execution_count": 25,
   "metadata": {},
   "outputs": [
    {
     "data": {
      "text/plain": [
       "count    41188.000000\n",
       "mean         0.081886\n",
       "std          1.570960\n",
       "min         -3.400000\n",
       "25%         -1.800000\n",
       "50%          1.100000\n",
       "75%          1.400000\n",
       "max          1.400000\n",
       "Name: emp.var.rate, dtype: float64"
      ]
     },
     "execution_count": 25,
     "metadata": {},
     "output_type": "execute_result"
    }
   ],
   "source": [
    "df_orig['emp.var.rate'].describe()"
   ]
  },
  {
   "cell_type": "markdown",
   "metadata": {},
   "source": [
    "# Análisis de la variable CONS.PRICE.IDX"
   ]
  },
  {
   "cell_type": "code",
   "execution_count": 26,
   "metadata": {},
   "outputs": [
    {
     "data": {
      "text/plain": [
       "count    41188.000000\n",
       "mean        93.575664\n",
       "std          0.578840\n",
       "min         92.201000\n",
       "25%         93.075000\n",
       "50%         93.749000\n",
       "75%         93.994000\n",
       "max         94.767000\n",
       "Name: cons.price.idx, dtype: float64"
      ]
     },
     "execution_count": 26,
     "metadata": {},
     "output_type": "execute_result"
    }
   ],
   "source": [
    "df_orig['cons.price.idx'].describe()"
   ]
  },
  {
   "cell_type": "markdown",
   "metadata": {},
   "source": [
    "# Análisis de la variable CONS.CONF.IDX"
   ]
  },
  {
   "cell_type": "code",
   "execution_count": 27,
   "metadata": {},
   "outputs": [
    {
     "data": {
      "text/plain": [
       "count    41188.000000\n",
       "mean       -40.502600\n",
       "std          4.628198\n",
       "min        -50.800000\n",
       "25%        -42.700000\n",
       "50%        -41.800000\n",
       "75%        -36.400000\n",
       "max        -26.900000\n",
       "Name: cons.conf.idx, dtype: float64"
      ]
     },
     "execution_count": 27,
     "metadata": {},
     "output_type": "execute_result"
    }
   ],
   "source": [
    "df_orig['cons.conf.idx'].describe()"
   ]
  },
  {
   "cell_type": "markdown",
   "metadata": {},
   "source": [
    "# Análisis de la variable EURIBOR3M"
   ]
  },
  {
   "cell_type": "code",
   "execution_count": 28,
   "metadata": {},
   "outputs": [
    {
     "data": {
      "text/plain": [
       "count    41188.000000\n",
       "mean         3.621291\n",
       "std          1.734447\n",
       "min          0.634000\n",
       "25%          1.344000\n",
       "50%          4.857000\n",
       "75%          4.961000\n",
       "max          5.045000\n",
       "Name: euribor3m, dtype: float64"
      ]
     },
     "execution_count": 28,
     "metadata": {},
     "output_type": "execute_result"
    }
   ],
   "source": [
    "df_orig['euribor3m'].describe()"
   ]
  },
  {
   "cell_type": "markdown",
   "metadata": {},
   "source": [
    "# Análisis de la variable NR.EMPLOYED"
   ]
  },
  {
   "cell_type": "code",
   "execution_count": 29,
   "metadata": {},
   "outputs": [
    {
     "data": {
      "text/plain": [
       "count    41188.000000\n",
       "mean      5167.035911\n",
       "std         72.251528\n",
       "min       4963.600000\n",
       "25%       5099.100000\n",
       "50%       5191.000000\n",
       "75%       5228.100000\n",
       "max       5228.100000\n",
       "Name: nr.employed, dtype: float64"
      ]
     },
     "execution_count": 29,
     "metadata": {},
     "output_type": "execute_result"
    }
   ],
   "source": [
    "df_orig['nr.employed'].describe()"
   ]
  },
  {
   "cell_type": "markdown",
   "metadata": {},
   "source": [
    "# Correlación"
   ]
  },
  {
   "cell_type": "code",
   "execution_count": 303,
   "metadata": {},
   "outputs": [
    {
     "data": {
      "text/html": [
       "<style  type=\"text/css\" >\n",
       "    #T_db296b90_3ba5_11e8_9cc5_80fa5b477f99 th {\n",
       "          font-size: 8pt;\n",
       "    }    #T_db296b90_3ba5_11e8_9cc5_80fa5b477f99 td {\n",
       "          padding: 0em 0em;\n",
       "    }    #T_db296b90_3ba5_11e8_9cc5_80fa5b477f99 th:hover {\n",
       "          font-size: 12pt;\n",
       "    }    #T_db296b90_3ba5_11e8_9cc5_80fa5b477f99 tr:hover td:hover {\n",
       "          max-width: 200px;\n",
       "          font-size: 12pt;\n",
       "    }    #T_db296b90_3ba5_11e8_9cc5_80fa5b477f99row0_col0 {\n",
       "            background-color:  #4479bb;\n",
       "            max-width:  80px;\n",
       "            font-size:  10pt;\n",
       "            fmt:  0.1;\n",
       "        }    #T_db296b90_3ba5_11e8_9cc5_80fa5b477f99row0_col1 {\n",
       "            background-color:  #da4865;\n",
       "            max-width:  80px;\n",
       "            font-size:  10pt;\n",
       "            fmt:  0.1;\n",
       "        }    #T_db296b90_3ba5_11e8_9cc5_80fa5b477f99row0_col2 {\n",
       "            background-color:  #d73c5b;\n",
       "            max-width:  80px;\n",
       "            font-size:  10pt;\n",
       "            fmt:  0.1;\n",
       "        }    #T_db296b90_3ba5_11e8_9cc5_80fa5b477f99row0_col3 {\n",
       "            background-color:  #db4f6b;\n",
       "            max-width:  80px;\n",
       "            font-size:  10pt;\n",
       "            fmt:  0.1;\n",
       "        }    #T_db296b90_3ba5_11e8_9cc5_80fa5b477f99row0_col4 {\n",
       "            background-color:  #d94764;\n",
       "            max-width:  80px;\n",
       "            font-size:  10pt;\n",
       "            fmt:  0.1;\n",
       "        }    #T_db296b90_3ba5_11e8_9cc5_80fa5b477f99row0_col5 {\n",
       "            background-color:  #d94764;\n",
       "            max-width:  80px;\n",
       "            font-size:  10pt;\n",
       "            fmt:  0.1;\n",
       "        }    #T_db296b90_3ba5_11e8_9cc5_80fa5b477f99row0_col6 {\n",
       "            background-color:  #e3748a;\n",
       "            max-width:  80px;\n",
       "            font-size:  10pt;\n",
       "            fmt:  0.1;\n",
       "        }    #T_db296b90_3ba5_11e8_9cc5_80fa5b477f99row0_col7 {\n",
       "            background-color:  #da4b68;\n",
       "            max-width:  80px;\n",
       "            font-size:  10pt;\n",
       "            fmt:  0.1;\n",
       "        }    #T_db296b90_3ba5_11e8_9cc5_80fa5b477f99row0_col8 {\n",
       "            background-color:  #d8415f;\n",
       "            max-width:  80px;\n",
       "            font-size:  10pt;\n",
       "            fmt:  0.1;\n",
       "        }    #T_db296b90_3ba5_11e8_9cc5_80fa5b477f99row0_col9 {\n",
       "            background-color:  #dc526e;\n",
       "            max-width:  80px;\n",
       "            font-size:  10pt;\n",
       "            fmt:  0.1;\n",
       "        }    #T_db296b90_3ba5_11e8_9cc5_80fa5b477f99row1_col0 {\n",
       "            background-color:  #dd5671;\n",
       "            max-width:  80px;\n",
       "            font-size:  10pt;\n",
       "            fmt:  0.1;\n",
       "        }    #T_db296b90_3ba5_11e8_9cc5_80fa5b477f99row1_col1 {\n",
       "            background-color:  #4479bb;\n",
       "            max-width:  80px;\n",
       "            font-size:  10pt;\n",
       "            fmt:  0.1;\n",
       "        }    #T_db296b90_3ba5_11e8_9cc5_80fa5b477f99row1_col2 {\n",
       "            background-color:  #e06880;\n",
       "            max-width:  80px;\n",
       "            font-size:  10pt;\n",
       "            fmt:  0.1;\n",
       "        }    #T_db296b90_3ba5_11e8_9cc5_80fa5b477f99row1_col3 {\n",
       "            background-color:  #d73c5b;\n",
       "            max-width:  80px;\n",
       "            font-size:  10pt;\n",
       "            fmt:  0.1;\n",
       "        }    #T_db296b90_3ba5_11e8_9cc5_80fa5b477f99row1_col4 {\n",
       "            background-color:  #e7899c;\n",
       "            max-width:  80px;\n",
       "            font-size:  10pt;\n",
       "            fmt:  0.1;\n",
       "        }    #T_db296b90_3ba5_11e8_9cc5_80fa5b477f99row1_col5 {\n",
       "            background-color:  #e58195;\n",
       "            max-width:  80px;\n",
       "            font-size:  10pt;\n",
       "            fmt:  0.1;\n",
       "        }    #T_db296b90_3ba5_11e8_9cc5_80fa5b477f99row1_col6 {\n",
       "            background-color:  #dc516d;\n",
       "            max-width:  80px;\n",
       "            font-size:  10pt;\n",
       "            fmt:  0.1;\n",
       "        }    #T_db296b90_3ba5_11e8_9cc5_80fa5b477f99row1_col7 {\n",
       "            background-color:  #e68396;\n",
       "            max-width:  80px;\n",
       "            font-size:  10pt;\n",
       "            fmt:  0.1;\n",
       "        }    #T_db296b90_3ba5_11e8_9cc5_80fa5b477f99row1_col8 {\n",
       "            background-color:  #e68699;\n",
       "            max-width:  80px;\n",
       "            font-size:  10pt;\n",
       "            fmt:  0.1;\n",
       "        }    #T_db296b90_3ba5_11e8_9cc5_80fa5b477f99row1_col9 {\n",
       "            background-color:  #d8405e;\n",
       "            max-width:  80px;\n",
       "            font-size:  10pt;\n",
       "            fmt:  0.1;\n",
       "        }    #T_db296b90_3ba5_11e8_9cc5_80fa5b477f99row2_col0 {\n",
       "            background-color:  #f1bbc6;\n",
       "            max-width:  80px;\n",
       "            font-size:  10pt;\n",
       "            fmt:  0.1;\n",
       "        }    #T_db296b90_3ba5_11e8_9cc5_80fa5b477f99row2_col1 {\n",
       "            background-color:  #f5cfd7;\n",
       "            max-width:  80px;\n",
       "            font-size:  10pt;\n",
       "            fmt:  0.1;\n",
       "        }    #T_db296b90_3ba5_11e8_9cc5_80fa5b477f99row2_col2 {\n",
       "            background-color:  #4479bb;\n",
       "            max-width:  80px;\n",
       "            font-size:  10pt;\n",
       "            fmt:  0.1;\n",
       "        }    #T_db296b90_3ba5_11e8_9cc5_80fa5b477f99row2_col3 {\n",
       "            background-color:  #d73c5b;\n",
       "            max-width:  80px;\n",
       "            font-size:  10pt;\n",
       "            fmt:  0.1;\n",
       "        }    #T_db296b90_3ba5_11e8_9cc5_80fa5b477f99row2_col4 {\n",
       "            background-color:  #e6edf6;\n",
       "            max-width:  80px;\n",
       "            font-size:  10pt;\n",
       "            fmt:  0.1;\n",
       "        }    #T_db296b90_3ba5_11e8_9cc5_80fa5b477f99row2_col5 {\n",
       "            background-color:  #f6d5db;\n",
       "            max-width:  80px;\n",
       "            font-size:  10pt;\n",
       "            fmt:  0.1;\n",
       "        }    #T_db296b90_3ba5_11e8_9cc5_80fa5b477f99row2_col6 {\n",
       "            background-color:  #eeaebb;\n",
       "            max-width:  80px;\n",
       "            font-size:  10pt;\n",
       "            fmt:  0.1;\n",
       "        }    #T_db296b90_3ba5_11e8_9cc5_80fa5b477f99row2_col7 {\n",
       "            background-color:  #e0e9f4;\n",
       "            max-width:  80px;\n",
       "            font-size:  10pt;\n",
       "            fmt:  0.1;\n",
       "        }    #T_db296b90_3ba5_11e8_9cc5_80fa5b477f99row2_col8 {\n",
       "            background-color:  #cfddee;\n",
       "            max-width:  80px;\n",
       "            font-size:  10pt;\n",
       "            fmt:  0.1;\n",
       "        }    #T_db296b90_3ba5_11e8_9cc5_80fa5b477f99row2_col9 {\n",
       "            background-color:  #e3788d;\n",
       "            max-width:  80px;\n",
       "            font-size:  10pt;\n",
       "            fmt:  0.1;\n",
       "        }    #T_db296b90_3ba5_11e8_9cc5_80fa5b477f99row3_col0 {\n",
       "            background-color:  #f4c8d0;\n",
       "            max-width:  80px;\n",
       "            font-size:  10pt;\n",
       "            fmt:  0.1;\n",
       "        }    #T_db296b90_3ba5_11e8_9cc5_80fa5b477f99row3_col1 {\n",
       "            background-color:  #efafbc;\n",
       "            max-width:  80px;\n",
       "            font-size:  10pt;\n",
       "            fmt:  0.1;\n",
       "        }    #T_db296b90_3ba5_11e8_9cc5_80fa5b477f99row3_col2 {\n",
       "            background-color:  #d73c5b;\n",
       "            max-width:  80px;\n",
       "            font-size:  10pt;\n",
       "            fmt:  0.1;\n",
       "        }    #T_db296b90_3ba5_11e8_9cc5_80fa5b477f99row3_col3 {\n",
       "            background-color:  #4479bb;\n",
       "            max-width:  80px;\n",
       "            font-size:  10pt;\n",
       "            fmt:  0.1;\n",
       "        }    #T_db296b90_3ba5_11e8_9cc5_80fa5b477f99row3_col4 {\n",
       "            background-color:  #df617a;\n",
       "            max-width:  80px;\n",
       "            font-size:  10pt;\n",
       "            fmt:  0.1;\n",
       "        }    #T_db296b90_3ba5_11e8_9cc5_80fa5b477f99row3_col5 {\n",
       "            background-color:  #e993a4;\n",
       "            max-width:  80px;\n",
       "            font-size:  10pt;\n",
       "            fmt:  0.1;\n",
       "        }    #T_db296b90_3ba5_11e8_9cc5_80fa5b477f99row3_col6 {\n",
       "            background-color:  #f0b7c2;\n",
       "            max-width:  80px;\n",
       "            font-size:  10pt;\n",
       "            fmt:  0.1;\n",
       "        }    #T_db296b90_3ba5_11e8_9cc5_80fa5b477f99row3_col7 {\n",
       "            background-color:  #dd5a74;\n",
       "            max-width:  80px;\n",
       "            font-size:  10pt;\n",
       "            fmt:  0.1;\n",
       "        }    #T_db296b90_3ba5_11e8_9cc5_80fa5b477f99row3_col8 {\n",
       "            background-color:  #db4e6a;\n",
       "            max-width:  80px;\n",
       "            font-size:  10pt;\n",
       "            fmt:  0.1;\n",
       "        }    #T_db296b90_3ba5_11e8_9cc5_80fa5b477f99row3_col9 {\n",
       "            background-color:  #f2f2f2;\n",
       "            max-width:  80px;\n",
       "            font-size:  10pt;\n",
       "            fmt:  0.1;\n",
       "        }    #T_db296b90_3ba5_11e8_9cc5_80fa5b477f99row4_col0 {\n",
       "            background-color:  #eda7b5;\n",
       "            max-width:  80px;\n",
       "            font-size:  10pt;\n",
       "            fmt:  0.1;\n",
       "        }    #T_db296b90_3ba5_11e8_9cc5_80fa5b477f99row4_col1 {\n",
       "            background-color:  #f5ced6;\n",
       "            max-width:  80px;\n",
       "            font-size:  10pt;\n",
       "            fmt:  0.1;\n",
       "        }    #T_db296b90_3ba5_11e8_9cc5_80fa5b477f99row4_col2 {\n",
       "            background-color:  #f2f2f2;\n",
       "            max-width:  80px;\n",
       "            font-size:  10pt;\n",
       "            fmt:  0.1;\n",
       "        }    #T_db296b90_3ba5_11e8_9cc5_80fa5b477f99row4_col3 {\n",
       "            background-color:  #d73c5b;\n",
       "            max-width:  80px;\n",
       "            font-size:  10pt;\n",
       "            fmt:  0.1;\n",
       "        }    #T_db296b90_3ba5_11e8_9cc5_80fa5b477f99row4_col4 {\n",
       "            background-color:  #4479bb;\n",
       "            max-width:  80px;\n",
       "            font-size:  10pt;\n",
       "            fmt:  0.1;\n",
       "        }    #T_db296b90_3ba5_11e8_9cc5_80fa5b477f99row4_col5 {\n",
       "            background-color:  #7ba0cf;\n",
       "            max-width:  80px;\n",
       "            font-size:  10pt;\n",
       "            fmt:  0.1;\n",
       "        }    #T_db296b90_3ba5_11e8_9cc5_80fa5b477f99row4_col6 {\n",
       "            background-color:  #f7dae0;\n",
       "            max-width:  80px;\n",
       "            font-size:  10pt;\n",
       "            fmt:  0.1;\n",
       "        }    #T_db296b90_3ba5_11e8_9cc5_80fa5b477f99row4_col7 {\n",
       "            background-color:  #4a7ebd;\n",
       "            max-width:  80px;\n",
       "            font-size:  10pt;\n",
       "            fmt:  0.1;\n",
       "        }    #T_db296b90_3ba5_11e8_9cc5_80fa5b477f99row4_col8 {\n",
       "            background-color:  #5a88c3;\n",
       "            max-width:  80px;\n",
       "            font-size:  10pt;\n",
       "            fmt:  0.1;\n",
       "        }    #T_db296b90_3ba5_11e8_9cc5_80fa5b477f99row4_col9 {\n",
       "            background-color:  #de5b75;\n",
       "            max-width:  80px;\n",
       "            font-size:  10pt;\n",
       "            fmt:  0.1;\n",
       "        }    #T_db296b90_3ba5_11e8_9cc5_80fa5b477f99row5_col0 {\n",
       "            background-color:  #e4798e;\n",
       "            max-width:  80px;\n",
       "            font-size:  10pt;\n",
       "            fmt:  0.1;\n",
       "        }    #T_db296b90_3ba5_11e8_9cc5_80fa5b477f99row5_col1 {\n",
       "            background-color:  #ec9faf;\n",
       "            max-width:  80px;\n",
       "            font-size:  10pt;\n",
       "            fmt:  0.1;\n",
       "        }    #T_db296b90_3ba5_11e8_9cc5_80fa5b477f99row5_col2 {\n",
       "            background-color:  #e991a3;\n",
       "            max-width:  80px;\n",
       "            font-size:  10pt;\n",
       "            fmt:  0.1;\n",
       "        }    #T_db296b90_3ba5_11e8_9cc5_80fa5b477f99row5_col3 {\n",
       "            background-color:  #d73c5b;\n",
       "            max-width:  80px;\n",
       "            font-size:  10pt;\n",
       "            fmt:  0.1;\n",
       "        }    #T_db296b90_3ba5_11e8_9cc5_80fa5b477f99row5_col4 {\n",
       "            background-color:  #85a7d2;\n",
       "            max-width:  80px;\n",
       "            font-size:  10pt;\n",
       "            fmt:  0.1;\n",
       "        }    #T_db296b90_3ba5_11e8_9cc5_80fa5b477f99row5_col5 {\n",
       "            background-color:  #4479bb;\n",
       "            max-width:  80px;\n",
       "            font-size:  10pt;\n",
       "            fmt:  0.1;\n",
       "        }    #T_db296b90_3ba5_11e8_9cc5_80fa5b477f99row5_col6 {\n",
       "            background-color:  #e78a9d;\n",
       "            max-width:  80px;\n",
       "            font-size:  10pt;\n",
       "            fmt:  0.1;\n",
       "        }    #T_db296b90_3ba5_11e8_9cc5_80fa5b477f99row5_col7 {\n",
       "            background-color:  #9fbadc;\n",
       "            max-width:  80px;\n",
       "            font-size:  10pt;\n",
       "            fmt:  0.1;\n",
       "        }    #T_db296b90_3ba5_11e8_9cc5_80fa5b477f99row5_col8 {\n",
       "            background-color:  #cfddee;\n",
       "            max-width:  80px;\n",
       "            font-size:  10pt;\n",
       "            fmt:  0.1;\n",
       "        }    #T_db296b90_3ba5_11e8_9cc5_80fa5b477f99row5_col9 {\n",
       "            background-color:  #db4f6b;\n",
       "            max-width:  80px;\n",
       "            font-size:  10pt;\n",
       "            fmt:  0.1;\n",
       "        }    #T_db296b90_3ba5_11e8_9cc5_80fa5b477f99row6_col0 {\n",
       "            background-color:  #e68598;\n",
       "            max-width:  80px;\n",
       "            font-size:  10pt;\n",
       "            fmt:  0.1;\n",
       "        }    #T_db296b90_3ba5_11e8_9cc5_80fa5b477f99row6_col1 {\n",
       "            background-color:  #dc5570;\n",
       "            max-width:  80px;\n",
       "            font-size:  10pt;\n",
       "            fmt:  0.1;\n",
       "        }    #T_db296b90_3ba5_11e8_9cc5_80fa5b477f99row6_col2 {\n",
       "            background-color:  #d73c5b;\n",
       "            max-width:  80px;\n",
       "            font-size:  10pt;\n",
       "            fmt:  0.1;\n",
       "        }    #T_db296b90_3ba5_11e8_9cc5_80fa5b477f99row6_col3 {\n",
       "            background-color:  #da4865;\n",
       "            max-width:  80px;\n",
       "            font-size:  10pt;\n",
       "            fmt:  0.1;\n",
       "        }    #T_db296b90_3ba5_11e8_9cc5_80fa5b477f99row6_col4 {\n",
       "            background-color:  #eb9bab;\n",
       "            max-width:  80px;\n",
       "            font-size:  10pt;\n",
       "            fmt:  0.1;\n",
       "        }    #T_db296b90_3ba5_11e8_9cc5_80fa5b477f99row6_col5 {\n",
       "            background-color:  #e16d85;\n",
       "            max-width:  80px;\n",
       "            font-size:  10pt;\n",
       "            fmt:  0.1;\n",
       "        }    #T_db296b90_3ba5_11e8_9cc5_80fa5b477f99row6_col6 {\n",
       "            background-color:  #4479bb;\n",
       "            max-width:  80px;\n",
       "            font-size:  10pt;\n",
       "            fmt:  0.1;\n",
       "        }    #T_db296b90_3ba5_11e8_9cc5_80fa5b477f99row6_col7 {\n",
       "            background-color:  #f0b7c2;\n",
       "            max-width:  80px;\n",
       "            font-size:  10pt;\n",
       "            fmt:  0.1;\n",
       "        }    #T_db296b90_3ba5_11e8_9cc5_80fa5b477f99row6_col8 {\n",
       "            background-color:  #e47c91;\n",
       "            max-width:  80px;\n",
       "            font-size:  10pt;\n",
       "            fmt:  0.1;\n",
       "        }    #T_db296b90_3ba5_11e8_9cc5_80fa5b477f99row6_col9 {\n",
       "            background-color:  #e16c84;\n",
       "            max-width:  80px;\n",
       "            font-size:  10pt;\n",
       "            fmt:  0.1;\n",
       "        }    #T_db296b90_3ba5_11e8_9cc5_80fa5b477f99row7_col0 {\n",
       "            background-color:  #efafbc;\n",
       "            max-width:  80px;\n",
       "            font-size:  10pt;\n",
       "            fmt:  0.1;\n",
       "        }    #T_db296b90_3ba5_11e8_9cc5_80fa5b477f99row7_col1 {\n",
       "            background-color:  #f5cfd7;\n",
       "            max-width:  80px;\n",
       "            font-size:  10pt;\n",
       "            fmt:  0.1;\n",
       "        }    #T_db296b90_3ba5_11e8_9cc5_80fa5b477f99row7_col2 {\n",
       "            background-color:  #f2f2f2;\n",
       "            max-width:  80px;\n",
       "            font-size:  10pt;\n",
       "            fmt:  0.1;\n",
       "        }    #T_db296b90_3ba5_11e8_9cc5_80fa5b477f99row7_col3 {\n",
       "            background-color:  #d73c5b;\n",
       "            max-width:  80px;\n",
       "            font-size:  10pt;\n",
       "            fmt:  0.1;\n",
       "        }    #T_db296b90_3ba5_11e8_9cc5_80fa5b477f99row7_col4 {\n",
       "            background-color:  #497dbd;\n",
       "            max-width:  80px;\n",
       "            font-size:  10pt;\n",
       "            fmt:  0.1;\n",
       "        }    #T_db296b90_3ba5_11e8_9cc5_80fa5b477f99row7_col5 {\n",
       "            background-color:  #8faed6;\n",
       "            max-width:  80px;\n",
       "            font-size:  10pt;\n",
       "            fmt:  0.1;\n",
       "        }    #T_db296b90_3ba5_11e8_9cc5_80fa5b477f99row7_col6 {\n",
       "            background-color:  #f2f2f2;\n",
       "            max-width:  80px;\n",
       "            font-size:  10pt;\n",
       "            fmt:  0.1;\n",
       "        }    #T_db296b90_3ba5_11e8_9cc5_80fa5b477f99row7_col7 {\n",
       "            background-color:  #4479bb;\n",
       "            max-width:  80px;\n",
       "            font-size:  10pt;\n",
       "            fmt:  0.1;\n",
       "        }    #T_db296b90_3ba5_11e8_9cc5_80fa5b477f99row7_col8 {\n",
       "            background-color:  #5081bf;\n",
       "            max-width:  80px;\n",
       "            font-size:  10pt;\n",
       "            fmt:  0.1;\n",
       "        }    #T_db296b90_3ba5_11e8_9cc5_80fa5b477f99row7_col9 {\n",
       "            background-color:  #de5f79;\n",
       "            max-width:  80px;\n",
       "            font-size:  10pt;\n",
       "            fmt:  0.1;\n",
       "        }    #T_db296b90_3ba5_11e8_9cc5_80fa5b477f99row8_col0 {\n",
       "            background-color:  #efb1be;\n",
       "            max-width:  80px;\n",
       "            font-size:  10pt;\n",
       "            fmt:  0.1;\n",
       "        }    #T_db296b90_3ba5_11e8_9cc5_80fa5b477f99row8_col1 {\n",
       "            background-color:  #f7d9df;\n",
       "            max-width:  80px;\n",
       "            font-size:  10pt;\n",
       "            fmt:  0.1;\n",
       "        }    #T_db296b90_3ba5_11e8_9cc5_80fa5b477f99row8_col2 {\n",
       "            background-color:  #d7e2f0;\n",
       "            max-width:  80px;\n",
       "            font-size:  10pt;\n",
       "            fmt:  0.1;\n",
       "        }    #T_db296b90_3ba5_11e8_9cc5_80fa5b477f99row8_col3 {\n",
       "            background-color:  #d73c5b;\n",
       "            max-width:  80px;\n",
       "            font-size:  10pt;\n",
       "            fmt:  0.1;\n",
       "        }    #T_db296b90_3ba5_11e8_9cc5_80fa5b477f99row8_col4 {\n",
       "            background-color:  #5887c2;\n",
       "            max-width:  80px;\n",
       "            font-size:  10pt;\n",
       "            fmt:  0.1;\n",
       "        }    #T_db296b90_3ba5_11e8_9cc5_80fa5b477f99row8_col5 {\n",
       "            background-color:  #b3c9e3;\n",
       "            max-width:  80px;\n",
       "            font-size:  10pt;\n",
       "            fmt:  0.1;\n",
       "        }    #T_db296b90_3ba5_11e8_9cc5_80fa5b477f99row8_col6 {\n",
       "            background-color:  #f5ced6;\n",
       "            max-width:  80px;\n",
       "            font-size:  10pt;\n",
       "            fmt:  0.1;\n",
       "        }    #T_db296b90_3ba5_11e8_9cc5_80fa5b477f99row8_col7 {\n",
       "            background-color:  #5081bf;\n",
       "            max-width:  80px;\n",
       "            font-size:  10pt;\n",
       "            fmt:  0.1;\n",
       "        }    #T_db296b90_3ba5_11e8_9cc5_80fa5b477f99row8_col8 {\n",
       "            background-color:  #4479bb;\n",
       "            max-width:  80px;\n",
       "            font-size:  10pt;\n",
       "            fmt:  0.1;\n",
       "        }    #T_db296b90_3ba5_11e8_9cc5_80fa5b477f99row8_col9 {\n",
       "            background-color:  #de5f79;\n",
       "            max-width:  80px;\n",
       "            font-size:  10pt;\n",
       "            fmt:  0.1;\n",
       "        }    #T_db296b90_3ba5_11e8_9cc5_80fa5b477f99row9_col0 {\n",
       "            background-color:  #eca3b1;\n",
       "            max-width:  80px;\n",
       "            font-size:  10pt;\n",
       "            fmt:  0.1;\n",
       "        }    #T_db296b90_3ba5_11e8_9cc5_80fa5b477f99row9_col1 {\n",
       "            background-color:  #e7899c;\n",
       "            max-width:  80px;\n",
       "            font-size:  10pt;\n",
       "            fmt:  0.1;\n",
       "        }    #T_db296b90_3ba5_11e8_9cc5_80fa5b477f99row9_col2 {\n",
       "            background-color:  #d94261;\n",
       "            max-width:  80px;\n",
       "            font-size:  10pt;\n",
       "            fmt:  0.1;\n",
       "        }    #T_db296b90_3ba5_11e8_9cc5_80fa5b477f99row9_col3 {\n",
       "            background-color:  #f7d9df;\n",
       "            max-width:  80px;\n",
       "            font-size:  10pt;\n",
       "            fmt:  0.1;\n",
       "        }    #T_db296b90_3ba5_11e8_9cc5_80fa5b477f99row9_col4 {\n",
       "            background-color:  #da4966;\n",
       "            max-width:  80px;\n",
       "            font-size:  10pt;\n",
       "            fmt:  0.1;\n",
       "        }    #T_db296b90_3ba5_11e8_9cc5_80fa5b477f99row9_col5 {\n",
       "            background-color:  #e3768c;\n",
       "            max-width:  80px;\n",
       "            font-size:  10pt;\n",
       "            fmt:  0.1;\n",
       "        }    #T_db296b90_3ba5_11e8_9cc5_80fa5b477f99row9_col6 {\n",
       "            background-color:  #eeaab7;\n",
       "            max-width:  80px;\n",
       "            font-size:  10pt;\n",
       "            fmt:  0.1;\n",
       "        }    #T_db296b90_3ba5_11e8_9cc5_80fa5b477f99row9_col7 {\n",
       "            background-color:  #d94764;\n",
       "            max-width:  80px;\n",
       "            font-size:  10pt;\n",
       "            fmt:  0.1;\n",
       "        }    #T_db296b90_3ba5_11e8_9cc5_80fa5b477f99row9_col8 {\n",
       "            background-color:  #d73c5b;\n",
       "            max-width:  80px;\n",
       "            font-size:  10pt;\n",
       "            fmt:  0.1;\n",
       "        }    #T_db296b90_3ba5_11e8_9cc5_80fa5b477f99row9_col9 {\n",
       "            background-color:  #4479bb;\n",
       "            max-width:  80px;\n",
       "            font-size:  10pt;\n",
       "            fmt:  0.1;\n",
       "        }</style>  \n",
       "<table id=\"T_db296b90_3ba5_11e8_9cc5_80fa5b477f99\" ><caption>Hover to magnify</caption> \n",
       "<thead>    <tr> \n",
       "        <th class=\"blank level0\" ></th> \n",
       "        <th class=\"col_heading level0 col0\" >age</th> \n",
       "        <th class=\"col_heading level0 col1\" >campaign</th> \n",
       "        <th class=\"col_heading level0 col2\" >pdays</th> \n",
       "        <th class=\"col_heading level0 col3\" >previous</th> \n",
       "        <th class=\"col_heading level0 col4\" >emp.var.rate</th> \n",
       "        <th class=\"col_heading level0 col5\" >cons.price.idx</th> \n",
       "        <th class=\"col_heading level0 col6\" >cons.conf.idx</th> \n",
       "        <th class=\"col_heading level0 col7\" >euribor3m</th> \n",
       "        <th class=\"col_heading level0 col8\" >nr.employed</th> \n",
       "        <th class=\"col_heading level0 col9\" >y</th> \n",
       "    </tr></thead> \n",
       "<tbody>    <tr> \n",
       "        <th id=\"T_db296b90_3ba5_11e8_9cc5_80fa5b477f99level0_row0\" class=\"row_heading level0 row0\" >age</th> \n",
       "        <td id=\"T_db296b90_3ba5_11e8_9cc5_80fa5b477f99row0_col0\" class=\"data row0 col0\" >1</td> \n",
       "        <td id=\"T_db296b90_3ba5_11e8_9cc5_80fa5b477f99row0_col1\" class=\"data row0 col1\" >0.0046</td> \n",
       "        <td id=\"T_db296b90_3ba5_11e8_9cc5_80fa5b477f99row0_col2\" class=\"data row0 col2\" >-0.034</td> \n",
       "        <td id=\"T_db296b90_3ba5_11e8_9cc5_80fa5b477f99row0_col3\" class=\"data row0 col3\" >0.024</td> \n",
       "        <td id=\"T_db296b90_3ba5_11e8_9cc5_80fa5b477f99row0_col4\" class=\"data row0 col4\" >-0.00037</td> \n",
       "        <td id=\"T_db296b90_3ba5_11e8_9cc5_80fa5b477f99row0_col5\" class=\"data row0 col5\" >0.00086</td> \n",
       "        <td id=\"T_db296b90_3ba5_11e8_9cc5_80fa5b477f99row0_col6\" class=\"data row0 col6\" >0.13</td> \n",
       "        <td id=\"T_db296b90_3ba5_11e8_9cc5_80fa5b477f99row0_col7\" class=\"data row0 col7\" >0.011</td> \n",
       "        <td id=\"T_db296b90_3ba5_11e8_9cc5_80fa5b477f99row0_col8\" class=\"data row0 col8\" >-0.018</td> \n",
       "        <td id=\"T_db296b90_3ba5_11e8_9cc5_80fa5b477f99row0_col9\" class=\"data row0 col9\" >0.03</td> \n",
       "    </tr>    <tr> \n",
       "        <th id=\"T_db296b90_3ba5_11e8_9cc5_80fa5b477f99level0_row1\" class=\"row_heading level0 row1\" >campaign</th> \n",
       "        <td id=\"T_db296b90_3ba5_11e8_9cc5_80fa5b477f99row1_col0\" class=\"data row1 col0\" >0.0046</td> \n",
       "        <td id=\"T_db296b90_3ba5_11e8_9cc5_80fa5b477f99row1_col1\" class=\"data row1 col1\" >1</td> \n",
       "        <td id=\"T_db296b90_3ba5_11e8_9cc5_80fa5b477f99row1_col2\" class=\"data row1 col2\" >0.053</td> \n",
       "        <td id=\"T_db296b90_3ba5_11e8_9cc5_80fa5b477f99row1_col3\" class=\"data row1 col3\" >-0.079</td> \n",
       "        <td id=\"T_db296b90_3ba5_11e8_9cc5_80fa5b477f99row1_col4\" class=\"data row1 col4\" >0.15</td> \n",
       "        <td id=\"T_db296b90_3ba5_11e8_9cc5_80fa5b477f99row1_col5\" class=\"data row1 col5\" >0.13</td> \n",
       "        <td id=\"T_db296b90_3ba5_11e8_9cc5_80fa5b477f99row1_col6\" class=\"data row1 col6\" >-0.014</td> \n",
       "        <td id=\"T_db296b90_3ba5_11e8_9cc5_80fa5b477f99row1_col7\" class=\"data row1 col7\" >0.14</td> \n",
       "        <td id=\"T_db296b90_3ba5_11e8_9cc5_80fa5b477f99row1_col8\" class=\"data row1 col8\" >0.14</td> \n",
       "        <td id=\"T_db296b90_3ba5_11e8_9cc5_80fa5b477f99row1_col9\" class=\"data row1 col9\" >-0.066</td> \n",
       "    </tr>    <tr> \n",
       "        <th id=\"T_db296b90_3ba5_11e8_9cc5_80fa5b477f99level0_row2\" class=\"row_heading level0 row2\" >pdays</th> \n",
       "        <td id=\"T_db296b90_3ba5_11e8_9cc5_80fa5b477f99row2_col0\" class=\"data row2 col0\" >-0.034</td> \n",
       "        <td id=\"T_db296b90_3ba5_11e8_9cc5_80fa5b477f99row2_col1\" class=\"data row2 col1\" >0.053</td> \n",
       "        <td id=\"T_db296b90_3ba5_11e8_9cc5_80fa5b477f99row2_col2\" class=\"data row2 col2\" >1</td> \n",
       "        <td id=\"T_db296b90_3ba5_11e8_9cc5_80fa5b477f99row2_col3\" class=\"data row2 col3\" >-0.59</td> \n",
       "        <td id=\"T_db296b90_3ba5_11e8_9cc5_80fa5b477f99row2_col4\" class=\"data row2 col4\" >0.27</td> \n",
       "        <td id=\"T_db296b90_3ba5_11e8_9cc5_80fa5b477f99row2_col5\" class=\"data row2 col5\" >0.079</td> \n",
       "        <td id=\"T_db296b90_3ba5_11e8_9cc5_80fa5b477f99row2_col6\" class=\"data row2 col6\" >-0.091</td> \n",
       "        <td id=\"T_db296b90_3ba5_11e8_9cc5_80fa5b477f99row2_col7\" class=\"data row2 col7\" >0.3</td> \n",
       "        <td id=\"T_db296b90_3ba5_11e8_9cc5_80fa5b477f99row2_col8\" class=\"data row2 col8\" >0.37</td> \n",
       "        <td id=\"T_db296b90_3ba5_11e8_9cc5_80fa5b477f99row2_col9\" class=\"data row2 col9\" >-0.32</td> \n",
       "    </tr>    <tr> \n",
       "        <th id=\"T_db296b90_3ba5_11e8_9cc5_80fa5b477f99level0_row3\" class=\"row_heading level0 row3\" >previous</th> \n",
       "        <td id=\"T_db296b90_3ba5_11e8_9cc5_80fa5b477f99row3_col0\" class=\"data row3 col0\" >0.024</td> \n",
       "        <td id=\"T_db296b90_3ba5_11e8_9cc5_80fa5b477f99row3_col1\" class=\"data row3 col1\" >-0.079</td> \n",
       "        <td id=\"T_db296b90_3ba5_11e8_9cc5_80fa5b477f99row3_col2\" class=\"data row3 col2\" >-0.59</td> \n",
       "        <td id=\"T_db296b90_3ba5_11e8_9cc5_80fa5b477f99row3_col3\" class=\"data row3 col3\" >1</td> \n",
       "        <td id=\"T_db296b90_3ba5_11e8_9cc5_80fa5b477f99row3_col4\" class=\"data row3 col4\" >-0.42</td> \n",
       "        <td id=\"T_db296b90_3ba5_11e8_9cc5_80fa5b477f99row3_col5\" class=\"data row3 col5\" >-0.2</td> \n",
       "        <td id=\"T_db296b90_3ba5_11e8_9cc5_80fa5b477f99row3_col6\" class=\"data row3 col6\" >-0.051</td> \n",
       "        <td id=\"T_db296b90_3ba5_11e8_9cc5_80fa5b477f99row3_col7\" class=\"data row3 col7\" >-0.45</td> \n",
       "        <td id=\"T_db296b90_3ba5_11e8_9cc5_80fa5b477f99row3_col8\" class=\"data row3 col8\" >-0.5</td> \n",
       "        <td id=\"T_db296b90_3ba5_11e8_9cc5_80fa5b477f99row3_col9\" class=\"data row3 col9\" >0.23</td> \n",
       "    </tr>    <tr> \n",
       "        <th id=\"T_db296b90_3ba5_11e8_9cc5_80fa5b477f99level0_row4\" class=\"row_heading level0 row4\" >emp.var.rate</th> \n",
       "        <td id=\"T_db296b90_3ba5_11e8_9cc5_80fa5b477f99row4_col0\" class=\"data row4 col0\" >-0.00037</td> \n",
       "        <td id=\"T_db296b90_3ba5_11e8_9cc5_80fa5b477f99row4_col1\" class=\"data row4 col1\" >0.15</td> \n",
       "        <td id=\"T_db296b90_3ba5_11e8_9cc5_80fa5b477f99row4_col2\" class=\"data row4 col2\" >0.27</td> \n",
       "        <td id=\"T_db296b90_3ba5_11e8_9cc5_80fa5b477f99row4_col3\" class=\"data row4 col3\" >-0.42</td> \n",
       "        <td id=\"T_db296b90_3ba5_11e8_9cc5_80fa5b477f99row4_col4\" class=\"data row4 col4\" >1</td> \n",
       "        <td id=\"T_db296b90_3ba5_11e8_9cc5_80fa5b477f99row4_col5\" class=\"data row4 col5\" >0.78</td> \n",
       "        <td id=\"T_db296b90_3ba5_11e8_9cc5_80fa5b477f99row4_col6\" class=\"data row4 col6\" >0.2</td> \n",
       "        <td id=\"T_db296b90_3ba5_11e8_9cc5_80fa5b477f99row4_col7\" class=\"data row4 col7\" >0.97</td> \n",
       "        <td id=\"T_db296b90_3ba5_11e8_9cc5_80fa5b477f99row4_col8\" class=\"data row4 col8\" >0.91</td> \n",
       "        <td id=\"T_db296b90_3ba5_11e8_9cc5_80fa5b477f99row4_col9\" class=\"data row4 col9\" >-0.3</td> \n",
       "    </tr>    <tr> \n",
       "        <th id=\"T_db296b90_3ba5_11e8_9cc5_80fa5b477f99level0_row5\" class=\"row_heading level0 row5\" >cons.price.idx</th> \n",
       "        <td id=\"T_db296b90_3ba5_11e8_9cc5_80fa5b477f99row5_col0\" class=\"data row5 col0\" >0.00086</td> \n",
       "        <td id=\"T_db296b90_3ba5_11e8_9cc5_80fa5b477f99row5_col1\" class=\"data row5 col1\" >0.13</td> \n",
       "        <td id=\"T_db296b90_3ba5_11e8_9cc5_80fa5b477f99row5_col2\" class=\"data row5 col2\" >0.079</td> \n",
       "        <td id=\"T_db296b90_3ba5_11e8_9cc5_80fa5b477f99row5_col3\" class=\"data row5 col3\" >-0.2</td> \n",
       "        <td id=\"T_db296b90_3ba5_11e8_9cc5_80fa5b477f99row5_col4\" class=\"data row5 col4\" >0.78</td> \n",
       "        <td id=\"T_db296b90_3ba5_11e8_9cc5_80fa5b477f99row5_col5\" class=\"data row5 col5\" >1</td> \n",
       "        <td id=\"T_db296b90_3ba5_11e8_9cc5_80fa5b477f99row5_col6\" class=\"data row5 col6\" >0.059</td> \n",
       "        <td id=\"T_db296b90_3ba5_11e8_9cc5_80fa5b477f99row5_col7\" class=\"data row5 col7\" >0.69</td> \n",
       "        <td id=\"T_db296b90_3ba5_11e8_9cc5_80fa5b477f99row5_col8\" class=\"data row5 col8\" >0.52</td> \n",
       "        <td id=\"T_db296b90_3ba5_11e8_9cc5_80fa5b477f99row5_col9\" class=\"data row5 col9\" >-0.14</td> \n",
       "    </tr>    <tr> \n",
       "        <th id=\"T_db296b90_3ba5_11e8_9cc5_80fa5b477f99level0_row6\" class=\"row_heading level0 row6\" >cons.conf.idx</th> \n",
       "        <td id=\"T_db296b90_3ba5_11e8_9cc5_80fa5b477f99row6_col0\" class=\"data row6 col0\" >0.13</td> \n",
       "        <td id=\"T_db296b90_3ba5_11e8_9cc5_80fa5b477f99row6_col1\" class=\"data row6 col1\" >-0.014</td> \n",
       "        <td id=\"T_db296b90_3ba5_11e8_9cc5_80fa5b477f99row6_col2\" class=\"data row6 col2\" >-0.091</td> \n",
       "        <td id=\"T_db296b90_3ba5_11e8_9cc5_80fa5b477f99row6_col3\" class=\"data row6 col3\" >-0.051</td> \n",
       "        <td id=\"T_db296b90_3ba5_11e8_9cc5_80fa5b477f99row6_col4\" class=\"data row6 col4\" >0.2</td> \n",
       "        <td id=\"T_db296b90_3ba5_11e8_9cc5_80fa5b477f99row6_col5\" class=\"data row6 col5\" >0.059</td> \n",
       "        <td id=\"T_db296b90_3ba5_11e8_9cc5_80fa5b477f99row6_col6\" class=\"data row6 col6\" >1</td> \n",
       "        <td id=\"T_db296b90_3ba5_11e8_9cc5_80fa5b477f99row6_col7\" class=\"data row6 col7\" >0.28</td> \n",
       "        <td id=\"T_db296b90_3ba5_11e8_9cc5_80fa5b477f99row6_col8\" class=\"data row6 col8\" >0.1</td> \n",
       "        <td id=\"T_db296b90_3ba5_11e8_9cc5_80fa5b477f99row6_col9\" class=\"data row6 col9\" >0.055</td> \n",
       "    </tr>    <tr> \n",
       "        <th id=\"T_db296b90_3ba5_11e8_9cc5_80fa5b477f99level0_row7\" class=\"row_heading level0 row7\" >euribor3m</th> \n",
       "        <td id=\"T_db296b90_3ba5_11e8_9cc5_80fa5b477f99row7_col0\" class=\"data row7 col0\" >0.011</td> \n",
       "        <td id=\"T_db296b90_3ba5_11e8_9cc5_80fa5b477f99row7_col1\" class=\"data row7 col1\" >0.14</td> \n",
       "        <td id=\"T_db296b90_3ba5_11e8_9cc5_80fa5b477f99row7_col2\" class=\"data row7 col2\" >0.3</td> \n",
       "        <td id=\"T_db296b90_3ba5_11e8_9cc5_80fa5b477f99row7_col3\" class=\"data row7 col3\" >-0.45</td> \n",
       "        <td id=\"T_db296b90_3ba5_11e8_9cc5_80fa5b477f99row7_col4\" class=\"data row7 col4\" >0.97</td> \n",
       "        <td id=\"T_db296b90_3ba5_11e8_9cc5_80fa5b477f99row7_col5\" class=\"data row7 col5\" >0.69</td> \n",
       "        <td id=\"T_db296b90_3ba5_11e8_9cc5_80fa5b477f99row7_col6\" class=\"data row7 col6\" >0.28</td> \n",
       "        <td id=\"T_db296b90_3ba5_11e8_9cc5_80fa5b477f99row7_col7\" class=\"data row7 col7\" >1</td> \n",
       "        <td id=\"T_db296b90_3ba5_11e8_9cc5_80fa5b477f99row7_col8\" class=\"data row7 col8\" >0.95</td> \n",
       "        <td id=\"T_db296b90_3ba5_11e8_9cc5_80fa5b477f99row7_col9\" class=\"data row7 col9\" >-0.31</td> \n",
       "    </tr>    <tr> \n",
       "        <th id=\"T_db296b90_3ba5_11e8_9cc5_80fa5b477f99level0_row8\" class=\"row_heading level0 row8\" >nr.employed</th> \n",
       "        <td id=\"T_db296b90_3ba5_11e8_9cc5_80fa5b477f99row8_col0\" class=\"data row8 col0\" >-0.018</td> \n",
       "        <td id=\"T_db296b90_3ba5_11e8_9cc5_80fa5b477f99row8_col1\" class=\"data row8 col1\" >0.14</td> \n",
       "        <td id=\"T_db296b90_3ba5_11e8_9cc5_80fa5b477f99row8_col2\" class=\"data row8 col2\" >0.37</td> \n",
       "        <td id=\"T_db296b90_3ba5_11e8_9cc5_80fa5b477f99row8_col3\" class=\"data row8 col3\" >-0.5</td> \n",
       "        <td id=\"T_db296b90_3ba5_11e8_9cc5_80fa5b477f99row8_col4\" class=\"data row8 col4\" >0.91</td> \n",
       "        <td id=\"T_db296b90_3ba5_11e8_9cc5_80fa5b477f99row8_col5\" class=\"data row8 col5\" >0.52</td> \n",
       "        <td id=\"T_db296b90_3ba5_11e8_9cc5_80fa5b477f99row8_col6\" class=\"data row8 col6\" >0.1</td> \n",
       "        <td id=\"T_db296b90_3ba5_11e8_9cc5_80fa5b477f99row8_col7\" class=\"data row8 col7\" >0.95</td> \n",
       "        <td id=\"T_db296b90_3ba5_11e8_9cc5_80fa5b477f99row8_col8\" class=\"data row8 col8\" >1</td> \n",
       "        <td id=\"T_db296b90_3ba5_11e8_9cc5_80fa5b477f99row8_col9\" class=\"data row8 col9\" >-0.35</td> \n",
       "    </tr>    <tr> \n",
       "        <th id=\"T_db296b90_3ba5_11e8_9cc5_80fa5b477f99level0_row9\" class=\"row_heading level0 row9\" >y</th> \n",
       "        <td id=\"T_db296b90_3ba5_11e8_9cc5_80fa5b477f99row9_col0\" class=\"data row9 col0\" >0.03</td> \n",
       "        <td id=\"T_db296b90_3ba5_11e8_9cc5_80fa5b477f99row9_col1\" class=\"data row9 col1\" >-0.066</td> \n",
       "        <td id=\"T_db296b90_3ba5_11e8_9cc5_80fa5b477f99row9_col2\" class=\"data row9 col2\" >-0.32</td> \n",
       "        <td id=\"T_db296b90_3ba5_11e8_9cc5_80fa5b477f99row9_col3\" class=\"data row9 col3\" >0.23</td> \n",
       "        <td id=\"T_db296b90_3ba5_11e8_9cc5_80fa5b477f99row9_col4\" class=\"data row9 col4\" >-0.3</td> \n",
       "        <td id=\"T_db296b90_3ba5_11e8_9cc5_80fa5b477f99row9_col5\" class=\"data row9 col5\" >-0.14</td> \n",
       "        <td id=\"T_db296b90_3ba5_11e8_9cc5_80fa5b477f99row9_col6\" class=\"data row9 col6\" >0.055</td> \n",
       "        <td id=\"T_db296b90_3ba5_11e8_9cc5_80fa5b477f99row9_col7\" class=\"data row9 col7\" >-0.31</td> \n",
       "        <td id=\"T_db296b90_3ba5_11e8_9cc5_80fa5b477f99row9_col8\" class=\"data row9 col8\" >-0.35</td> \n",
       "        <td id=\"T_db296b90_3ba5_11e8_9cc5_80fa5b477f99row9_col9\" class=\"data row9 col9\" >1</td> \n",
       "    </tr></tbody> \n",
       "</table> "
      ],
      "text/plain": [
       "<pandas.io.formats.style.Styler at 0x1dc5a5b4b00>"
      ]
     },
     "execution_count": 303,
     "metadata": {},
     "output_type": "execute_result"
    }
   ],
   "source": [
    "df_scaled_numy = df_scaled.copy()\n",
    "#df_scaled.corr() #arbol de regresiones\n",
    "correl(df_scaled_numy.corr())"
   ]
  },
  {
   "cell_type": "markdown",
   "metadata": {},
   "source": [
    "Se puede observar en la matriz de correlación que las variables emp.var.rate y euribor3m, nr.employed y euribor3m, emp.var.rate y euribor3m están fuertemente correlacionadas, y que hay aparentemente poco impacto de las variables campaign y cons.conf.idx sobre la respuesta. Esta consideración, sin embargo, no es tenida en cuenta ya que en la descripción de los datos y el paper relacionado se afirma que las tres variables tienen un impacto positivo en la predicción."
   ]
  },
  {
   "cell_type": "markdown",
   "metadata": {
    "collapsed": true
   },
   "source": [
    "# Resumen de los problemas detectados durante el análisis.\n",
    "\n",
    "\n",
    "* Los datos numéricos están en escalas demasiado diferentes y existen outliers, es por  tanto necesario estandarizarlos.\n",
    "* Hay poco balanceo entre clases, más del 85% de los datos pertenecen a una clase.\n",
    "* Es necesario convertir varias de las variables categóricas en dummies.\n",
    "* Algunas variables categóricas tienen datos faltantes, imputarlos reduciría la cantidad de variables dummy.\n",
    "\n",
    "El impacto de la correlación entre variables y su uso como posible criterio de eliminación de parámetros se descarta por la alta complejidad de cómputo que implican las otras tareas.\n"
   ]
  },
  {
   "cell_type": "markdown",
   "metadata": {
    "collapsed": true
   },
   "source": [
    "# Primera iteración del preprocesamiento\n",
    "\n",
    "Se propone realizar una primera iteración del algoritmo considerando las siguientes tareas de preprocesamiento:\n",
    "\n",
    "1. Conversión de variables categóricas a dummies.\n",
    "2. Partición del conjunto de datos.\n",
    "3. Estandarización de valores numéricos."
   ]
  },
  {
   "cell_type": "markdown",
   "metadata": {},
   "source": [
    "### Conversión de variables categóricas a dummies\n",
    "\n",
    "Se convierten las variables categóricas a dummies en primera instancia para evitar que la ausencia de categorías (ej. si en el conjunto de prueba no queda ningún valor de una variable categórica) genere problemas de diferencia dimensional."
   ]
  },
  {
   "cell_type": "code",
   "execution_count": 61,
   "metadata": {},
   "outputs": [
    {
     "name": "stdout",
     "output_type": "stream",
     "text": [
      "Atributos catégoricos:   ['job', 'marital', 'education', 'month', 'day_of_week', 'default', 'housing', 'poutcome', 'loan', 'contact']\n",
      "\n",
      "Nuevos atributos:  ['age', 'campaign', 'pdays', 'previous', 'emp.var.rate', 'cons.price.idx', 'cons.conf.idx', 'euribor3m', 'nr.employed', 'y', 'job_admin.', 'job_blue-collar', 'job_entrepreneur', 'job_housemaid', 'job_management', 'job_retired', 'job_self-employed', 'job_services', 'job_student', 'job_technician', 'job_unemployed', 'job_unknown', 'marital_divorced', 'marital_married', 'marital_single', 'marital_unknown', 'education_basic.4y', 'education_basic.6y', 'education_basic.9y', 'education_high.school', 'education_illiterate', 'education_professional.course', 'education_university.degree', 'education_unknown', 'month_apr', 'month_aug', 'month_dec', 'month_jul', 'month_jun', 'month_mar', 'month_may', 'month_nov', 'month_oct', 'month_sep', 'day_of_week_fri', 'day_of_week_mon', 'day_of_week_thu', 'day_of_week_tue', 'day_of_week_wed', 'default_no', 'default_unknown', 'default_yes', 'housing_no', 'housing_unknown', 'housing_yes', 'poutcome_failure', 'poutcome_nonexistent', 'poutcome_success', 'loan_no', 'loan_unknown', 'loan_yes', 'contact_cellular', 'contact_telephone']\n"
     ]
    }
   ],
   "source": [
    "df_dummied = pd.get_dummies(df_orig, columns = cat_labels, sparse = True)\n",
    "new_labels = list(df_dummied.columns.values)\n",
    "print(\"Atributos catégoricos:  \", cat_labels)\n",
    "print(\"\\nNuevos atributos: \", new_labels)"
   ]
  },
  {
   "cell_type": "markdown",
   "metadata": {},
   "source": [
    "### Partición del conjunto de datos\n",
    "\n",
    "Se particiona el conjunto de datos entre entrenamiento (80%) y prueba (20%), con un enfoque estratificado para mantener la distribución original."
   ]
  },
  {
   "cell_type": "code",
   "execution_count": 62,
   "metadata": {
    "collapsed": true
   },
   "outputs": [],
   "source": [
    "def get_partitions(df_orig, splits = 1, test_size = 0.3, random_state = 42):\n",
    "    split =  StratifiedShuffleSplit(n_splits=1, test_size = 0.3, random_state=42)\n",
    "\n",
    "    for train_index, test_index in split.split(df_orig, df_orig[\"y\"]):\n",
    "        df_train = df_orig.loc[train_index]\n",
    "        df_test = df_orig.loc[test_index]\n",
    "    return (df_train, df_test)\n",
    "\n",
    "(df_train, df_test) = get_partitions(df_dummied, 1, 0.3)\n",
    "\n",
    "X_train = df_train.copy()\n",
    "y_train = X_train.y\n",
    "del(X_train['y'])\n",
    "X_test = df_test.copy()\n",
    "y_test = X_test.y\n",
    "del(X_test['y'])"
   ]
  },
  {
   "cell_type": "code",
   "execution_count": 307,
   "metadata": {},
   "outputs": [
    {
     "data": {
      "text/html": [
       "<div>\n",
       "<style>\n",
       "    .dataframe thead tr:only-child th {\n",
       "        text-align: right;\n",
       "    }\n",
       "\n",
       "    .dataframe thead th {\n",
       "        text-align: left;\n",
       "    }\n",
       "\n",
       "    .dataframe tbody tr th {\n",
       "        vertical-align: top;\n",
       "    }\n",
       "</style>\n",
       "<table border=\"1\" class=\"dataframe\">\n",
       "  <thead>\n",
       "    <tr style=\"text-align: right;\">\n",
       "      <th></th>\n",
       "      <th>age</th>\n",
       "      <th>campaign</th>\n",
       "      <th>pdays</th>\n",
       "      <th>previous</th>\n",
       "      <th>emp.var.rate</th>\n",
       "      <th>cons.price.idx</th>\n",
       "      <th>cons.conf.idx</th>\n",
       "      <th>euribor3m</th>\n",
       "      <th>nr.employed</th>\n",
       "      <th>job_admin.</th>\n",
       "      <th>...</th>\n",
       "      <th>housing_unknown</th>\n",
       "      <th>housing_yes</th>\n",
       "      <th>poutcome_failure</th>\n",
       "      <th>poutcome_nonexistent</th>\n",
       "      <th>poutcome_success</th>\n",
       "      <th>loan_no</th>\n",
       "      <th>loan_unknown</th>\n",
       "      <th>loan_yes</th>\n",
       "      <th>contact_cellular</th>\n",
       "      <th>contact_telephone</th>\n",
       "    </tr>\n",
       "  </thead>\n",
       "  <tbody>\n",
       "    <tr>\n",
       "      <th>9923</th>\n",
       "      <td>49</td>\n",
       "      <td>1</td>\n",
       "      <td>999</td>\n",
       "      <td>0</td>\n",
       "      <td>1.4</td>\n",
       "      <td>94.465</td>\n",
       "      <td>-41.8</td>\n",
       "      <td>4.959</td>\n",
       "      <td>5228.1</td>\n",
       "      <td>0</td>\n",
       "      <td>...</td>\n",
       "      <td>0</td>\n",
       "      <td>0</td>\n",
       "      <td>0</td>\n",
       "      <td>1</td>\n",
       "      <td>0</td>\n",
       "      <td>1</td>\n",
       "      <td>0</td>\n",
       "      <td>0</td>\n",
       "      <td>0</td>\n",
       "      <td>1</td>\n",
       "    </tr>\n",
       "    <tr>\n",
       "      <th>3477</th>\n",
       "      <td>56</td>\n",
       "      <td>2</td>\n",
       "      <td>999</td>\n",
       "      <td>0</td>\n",
       "      <td>1.1</td>\n",
       "      <td>93.994</td>\n",
       "      <td>-36.4</td>\n",
       "      <td>4.860</td>\n",
       "      <td>5191.0</td>\n",
       "      <td>0</td>\n",
       "      <td>...</td>\n",
       "      <td>0</td>\n",
       "      <td>1</td>\n",
       "      <td>0</td>\n",
       "      <td>1</td>\n",
       "      <td>0</td>\n",
       "      <td>1</td>\n",
       "      <td>0</td>\n",
       "      <td>0</td>\n",
       "      <td>0</td>\n",
       "      <td>1</td>\n",
       "    </tr>\n",
       "    <tr>\n",
       "      <th>12077</th>\n",
       "      <td>35</td>\n",
       "      <td>1</td>\n",
       "      <td>999</td>\n",
       "      <td>0</td>\n",
       "      <td>1.4</td>\n",
       "      <td>94.465</td>\n",
       "      <td>-41.8</td>\n",
       "      <td>4.947</td>\n",
       "      <td>5228.1</td>\n",
       "      <td>0</td>\n",
       "      <td>...</td>\n",
       "      <td>0</td>\n",
       "      <td>0</td>\n",
       "      <td>0</td>\n",
       "      <td>1</td>\n",
       "      <td>0</td>\n",
       "      <td>1</td>\n",
       "      <td>0</td>\n",
       "      <td>0</td>\n",
       "      <td>0</td>\n",
       "      <td>1</td>\n",
       "    </tr>\n",
       "    <tr>\n",
       "      <th>1579</th>\n",
       "      <td>32</td>\n",
       "      <td>2</td>\n",
       "      <td>999</td>\n",
       "      <td>0</td>\n",
       "      <td>1.1</td>\n",
       "      <td>93.994</td>\n",
       "      <td>-36.4</td>\n",
       "      <td>4.855</td>\n",
       "      <td>5191.0</td>\n",
       "      <td>0</td>\n",
       "      <td>...</td>\n",
       "      <td>0</td>\n",
       "      <td>0</td>\n",
       "      <td>0</td>\n",
       "      <td>1</td>\n",
       "      <td>0</td>\n",
       "      <td>1</td>\n",
       "      <td>0</td>\n",
       "      <td>0</td>\n",
       "      <td>0</td>\n",
       "      <td>1</td>\n",
       "    </tr>\n",
       "    <tr>\n",
       "      <th>39993</th>\n",
       "      <td>27</td>\n",
       "      <td>4</td>\n",
       "      <td>3</td>\n",
       "      <td>2</td>\n",
       "      <td>-1.7</td>\n",
       "      <td>94.055</td>\n",
       "      <td>-39.8</td>\n",
       "      <td>0.767</td>\n",
       "      <td>4991.6</td>\n",
       "      <td>0</td>\n",
       "      <td>...</td>\n",
       "      <td>0</td>\n",
       "      <td>1</td>\n",
       "      <td>0</td>\n",
       "      <td>0</td>\n",
       "      <td>1</td>\n",
       "      <td>1</td>\n",
       "      <td>0</td>\n",
       "      <td>0</td>\n",
       "      <td>1</td>\n",
       "      <td>0</td>\n",
       "    </tr>\n",
       "  </tbody>\n",
       "</table>\n",
       "<p>5 rows × 62 columns</p>\n",
       "</div>"
      ],
      "text/plain": [
       "       age  campaign  pdays  previous  emp.var.rate  cons.price.idx  \\\n",
       "9923    49         1    999         0           1.4          94.465   \n",
       "3477    56         2    999         0           1.1          93.994   \n",
       "12077   35         1    999         0           1.4          94.465   \n",
       "1579    32         2    999         0           1.1          93.994   \n",
       "39993   27         4      3         2          -1.7          94.055   \n",
       "\n",
       "       cons.conf.idx  euribor3m  nr.employed  job_admin.        ...          \\\n",
       "9923           -41.8      4.959       5228.1           0        ...           \n",
       "3477           -36.4      4.860       5191.0           0        ...           \n",
       "12077          -41.8      4.947       5228.1           0        ...           \n",
       "1579           -36.4      4.855       5191.0           0        ...           \n",
       "39993          -39.8      0.767       4991.6           0        ...           \n",
       "\n",
       "       housing_unknown  housing_yes  poutcome_failure  poutcome_nonexistent  \\\n",
       "9923                 0            0                 0                     1   \n",
       "3477                 0            1                 0                     1   \n",
       "12077                0            0                 0                     1   \n",
       "1579                 0            0                 0                     1   \n",
       "39993                0            1                 0                     0   \n",
       "\n",
       "       poutcome_success  loan_no  loan_unknown  loan_yes  contact_cellular  \\\n",
       "9923                  0        1             0         0                 0   \n",
       "3477                  0        1             0         0                 0   \n",
       "12077                 0        1             0         0                 0   \n",
       "1579                  0        1             0         0                 0   \n",
       "39993                 1        1             0         0                 1   \n",
       "\n",
       "       contact_telephone  \n",
       "9923                   1  \n",
       "3477                   1  \n",
       "12077                  1  \n",
       "1579                   1  \n",
       "39993                  0  \n",
       "\n",
       "[5 rows x 62 columns]"
      ]
     },
     "execution_count": 307,
     "metadata": {},
     "output_type": "execute_result"
    }
   ],
   "source": [
    "X_test.head()"
   ]
  },
  {
   "cell_type": "code",
   "execution_count": 308,
   "metadata": {},
   "outputs": [
    {
     "data": {
      "text/plain": [
       "array(['age', 'campaign', 'pdays', 'previous', 'emp.var.rate',\n",
       "       'cons.price.idx', 'cons.conf.idx', 'euribor3m', 'nr.employed',\n",
       "       'job_admin.', 'job_blue-collar', 'job_entrepreneur',\n",
       "       'job_housemaid', 'job_management', 'job_retired',\n",
       "       'job_self-employed', 'job_services', 'job_student',\n",
       "       'job_technician', 'job_unemployed', 'job_unknown',\n",
       "       'marital_divorced', 'marital_married', 'marital_single',\n",
       "       'marital_unknown', 'education_basic.4y', 'education_basic.6y',\n",
       "       'education_basic.9y', 'education_high.school',\n",
       "       'education_illiterate', 'education_professional.course',\n",
       "       'education_university.degree', 'education_unknown', 'month_apr',\n",
       "       'month_aug', 'month_dec', 'month_jul', 'month_jun', 'month_mar',\n",
       "       'month_may', 'month_nov', 'month_oct', 'month_sep',\n",
       "       'day_of_week_fri', 'day_of_week_mon', 'day_of_week_thu',\n",
       "       'day_of_week_tue', 'day_of_week_wed', 'default_no',\n",
       "       'default_unknown', 'default_yes', 'housing_no', 'housing_unknown',\n",
       "       'housing_yes', 'poutcome_failure', 'poutcome_nonexistent',\n",
       "       'poutcome_success', 'loan_no', 'loan_unknown', 'loan_yes',\n",
       "       'contact_cellular', 'contact_telephone'], dtype=object)"
      ]
     },
     "execution_count": 308,
     "metadata": {},
     "output_type": "execute_result"
    }
   ],
   "source": [
    "X_train.columns.values"
   ]
  },
  {
   "cell_type": "markdown",
   "metadata": {},
   "source": [
    "# Estandarización de valores numéricos\n",
    "\n",
    "Se hace estandarización de los valores numéricos para reducir el impacto de los outliers. Se guardan los parámetros de escalado en la variable scaler para uso posterior con el conjunto de prueba."
   ]
  },
  {
   "cell_type": "code",
   "execution_count": 309,
   "metadata": {},
   "outputs": [
    {
     "name": "stdout",
     "output_type": "stream",
     "text": [
      "\n",
      "Atributos numéricos:  ['age', 'campaign', 'pdays', 'previous', 'emp.var.rate', 'cons.price.idx', 'cons.conf.idx', 'euribor3m', 'nr.employed']\n"
     ]
    }
   ],
   "source": [
    "print(\"\\nAtributos numéricos: \", num_labels)"
   ]
  },
  {
   "cell_type": "code",
   "execution_count": 19,
   "metadata": {
    "collapsed": true
   },
   "outputs": [],
   "source": [
    "scaler = preprocessing.StandardScaler()\n",
    "scaler = scaler.fit(X_train[num_labels])\n",
    "X_train.loc[:,num_labels] = scaler.transform(X_train[num_labels])\n",
    "X_test.loc[:, num_labels] = scaler.transform(X_test[num_labels])"
   ]
  },
  {
   "cell_type": "markdown",
   "metadata": {},
   "source": [
    "# MODELADO Y GENERALIDADES\n",
    "\n",
    "En la etapa de modelado se prueban 4 modelos:\n",
    "\n",
    "* K-Vecinos Cercanos:\n",
    "\n",
    "La clasificación por K-Vecinos cercanos consiste en asignar clases a los objetos según el voto mayoritario de sus vecinos, siendo la clase asignada la más común entre sus k vecinos más cercanos. El valor K es un entero positivo, usualmente pequeño. Si k vale 1 entonces el objeto es asignado a la clase de un único vecino más cercano. Se pueden usar distintas métricas de distancia para este algoritmo, aunque la más común es la euclidiana.\n",
    "\n",
    "* Regresión Logística:\n",
    "\n",
    "La regresión logística, al igual que la regresión lineal, computa una suma ponderada de los atributos de entrada (más un término de bias=), pero en vez de calcular la salida directamente como la regresión lineal, emplea el resultado de la función sigmoidea, que tiene como salida valores entre 0 y 1. Debido a esto, la regresión logística puede ser usada para problemas de clasificación. Una vez se tiene la probabilidad estimada de que una instancia x pertenezca a la clase positiva, el problema de clasificación se resume a asignarle 1 si el valor calculado es mayor o igual a 0.5 o 0 si es menor a 0.5.\n",
    "\n",
    "* Bosques de Clasificación:\n",
    "\n",
    "Los bosques de clasificación son algoritmos versátiles de aprendizaje de máquina que pueden lelvar a cabo tareas de clasificación. Los árboles de regresión modelan el problema de predicción en forma de un árbol en el que cada nodo representa una regla de clasificación determinada según los datos de entrenamiento. \n",
    "\n",
    "El enfoque de los bosques de clasificación consiste en agregar n predictores (árboles) y realizar la clasificación como una votación en la que la clase más popular entre los predictores entrenados es elegida. Este método suele ser mucho más costoso que entrenar un único árbol, pero incrementa considerablemente la precisión de dicha tarea.\n",
    "\n",
    "* Perceptrón Multicapa (Red Neuronal):\n",
    "\n",
    "\n",
    "### Criterios de medición:\n",
    "\n",
    "Debido al gran desbalanceo entre clases (de una relación casi 10 a 1), medidas como la precisión no pueden ser utilizadas. En su lugar, se emplean dos medidas más robustas al desbalanceo.\n",
    "\n",
    "* Kappa: Kappa es una medición de calidad de clasificación binaria. Cuando dos variables binarias son intentos de dos individuos de medir lo mismo, se puede usar el coeficiente de Kappa como medida de la concordancia entre los dos, esta medición toma valores entre 0 y 1.  Un valor de 1 indica un acuerod casi perfecto, mientras que valores menores a 1 indican poco concordancia. A continuación se puede ver la interpretación del coeficiente de kappa, proporcionada en la página 404 de Altman DG. Practical Statistics for Medical Research. (1991) London England: Chapman and Hall.\n",
    "\n",
    "        Concordancia pobre = Menos que 0.20\n",
    "        Concordancia aceptable = 0.20 a 0.40\n",
    "        Concordanciauedo moderada = 0.40 a 0.60\n",
    "        Buena concordancia = 0.60 a 0.80\n",
    "        Muy buena concordancia = 0.80 a 1.00\n",
    "\n",
    "* ROC: La región bajo la curva es una representación  de la sensibilidad frente a la especificidad para un sistema clasificador binario según se varía el umbral de discriminación. Al igual que el coeficiente Kappa, es una métrica muy útil para determinar si un modelo clasifica correctamente instancias de las distintas clases objetivo. Los valores que puede tomar esta métrica oscilan entre 0.5 y 1, dónde 1 indica una clasificación perfecta.\n",
    "\n"
   ]
  },
  {
   "cell_type": "code",
   "execution_count": 59,
   "metadata": {
    "collapsed": true
   },
   "outputs": [],
   "source": [
    "#Funciones generales.\n",
    "\n",
    "def GridSearchCVwithReport( X_train, y_train, X_test, y_test, classifier,\n",
    "                       tuned_params,\n",
    "                       scores, folds):\n",
    "    \"\"\"Aplica la función GridSearchCV, genera un reporte\n",
    "    detallado y retorna los mejores modelos generados para cada score recibido.\"\"\"\n",
    "    \n",
    "    start = tm.time()\n",
    "    clfs = []\n",
    "    for score in scores:\n",
    "        print()\n",
    "        print(\"Parámetros ajustados del score: %s\" % score)\n",
    "        print()\n",
    "        clf = GridSearchCV(classifier, tuned_params, score, cv= folds, n_jobs = 1)\n",
    "        clf.fit(X_train, y_train)\n",
    "        print(\"Mejores parámetros encontrados:\")\n",
    "        print(clf.best_params_)\n",
    "        print()\n",
    "        #Predicción con datos de prueba para validar metricas\n",
    "        y_pred = clf.predict(X_test)\n",
    "        print(\"-->Reporte de clasificación detallado<--\")\n",
    "        print()\n",
    "        print(\"Matriz de confusión: \")\n",
    "        print(confusion_matrix(y_test, y_pred))\n",
    "        print()\n",
    "        print(classification_report(y_test, y_pred, digits = 5))\n",
    "        print()\n",
    "        print(\"Coeficiente de kappa: \")\n",
    "        print(cohen_kappa_score(y_test,y_pred))\n",
    "        print(\"Puntaje ROC_AUC: \")\n",
    "        print(roc_auc_score(y_test,y_pred))\n",
    "        print()\n",
    "        clfs.append(clf)\n",
    "    end = tm.time()\n",
    "    print(\"Tiempo total de ejecución (segundos): %.2f\" % (end - start))\n",
    "    return clfs\n",
    "\n",
    "class GeneralImputer(Imputer):\n",
    "    \"\"\"Se crea una clase Imputer generalizada para imputar datos categóricos.\"\"\"\n",
    "    \n",
    "    def __init__(self, **kwargs):\n",
    "        Imputer.__init__(self, **kwargs)\n",
    "\n",
    "    def fit(self, X, y=None):\n",
    "        if self.strategy == 'most_frequent':\n",
    "            self.fills = pd.DataFrame(X).mode(axis=0).squeeze()\n",
    "            self.statistics_ = self.fills.values\n",
    "            return self\n",
    "        else:\n",
    "            return Imputer.fit(self, X, y=y)\n",
    "\n",
    "    def transform(self, X):\n",
    "        if hasattr(self, 'fills'):\n",
    "            return pd.DataFrame(X).fillna(self.fills).values.astype(str)\n",
    "        else:\n",
    "            return Imputer.transform(self, X)\n",
    "        \n",
    "        #https://stackoverflow.com/questions/25239958/impute-categorical-missing-values-in-scikit-learn\n",
    "\n",
    "# Se crea un scorer kappa para guiar la selección de parámetros.\n",
    "kappa_scorer = make_scorer(cohen_kappa_score)"
   ]
  },
  {
   "cell_type": "markdown",
   "metadata": {},
   "source": [
    "# Primera iteración de modelamiento\n",
    "\n",
    "Para la primera iteración se prueban los métodos con la función GridSearchCV ajustada para mostrar un reporte más detallado. Para cada método se tienen en cuenta distintos parámetros que se ajustan junto con la realización de 5 ejecuciones de validación cruzada por configuración. Asimismo, se guarda el tiempo de ejecución de los algoritmos para verificar la rapidez de cada uno de los métodos."
   ]
  },
  {
   "cell_type": "markdown",
   "metadata": {},
   "source": [
    "###  K Nearest Neighbors"
   ]
  },
  {
   "cell_type": "code",
   "execution_count": 350,
   "metadata": {
    "scrolled": false
   },
   "outputs": [
    {
     "name": "stdout",
     "output_type": "stream",
     "text": [
      "\n",
      "Parámetros ajustados del score: make_scorer(cohen_kappa_score)\n",
      "\n",
      "Mejores parámetros encontrados:\n",
      "{'n_neighbors': 15}\n",
      "\n",
      "-->Reporte de clasificación detallado<--\n",
      "\n",
      "Matriz de confusión: \n",
      "[[10835   130]\n",
      " [ 1120   272]]\n",
      "\n",
      "             precision    recall  f1-score   support\n",
      "\n",
      "          0    0.90632   0.98814   0.94546     10965\n",
      "          1    0.67662   0.19540   0.30323      1392\n",
      "\n",
      "avg / total    0.88044   0.89884   0.87312     12357\n",
      "\n",
      "\n",
      "Coeficiente de kappa: \n",
      "0.266186650476\n",
      "Puntaje ROC_AUC: \n",
      "0.591773196849\n",
      "\n",
      "\n",
      "Parámetros ajustados del score: roc_auc\n",
      "\n",
      "Mejores parámetros encontrados:\n",
      "{'n_neighbors': 40}\n",
      "\n",
      "-->Reporte de clasificación detallado<--\n",
      "\n",
      "Matriz de confusión: \n",
      "[[10903    62]\n",
      " [ 1168   224]]\n",
      "\n",
      "             precision    recall  f1-score   support\n",
      "\n",
      "          0    0.90324   0.99435   0.94661     10965\n",
      "          1    0.78322   0.16092   0.26698      1392\n",
      "\n",
      "avg / total    0.88972   0.90046   0.87005     12357\n",
      "\n",
      "\n",
      "Coeficiente de kappa: \n",
      "0.237712739499\n",
      "Puntaje ROC_AUC: \n",
      "0.577632592732\n",
      "\n",
      "Tiempo total de ejecución (segundos): 4670.87\n"
     ]
    }
   ],
   "source": [
    "tuned_params = [{'n_neighbors': [15,20,25,30,35,40] }]\n",
    "scores = [kappa_scorer,'roc_auc']\n",
    "folds = 5\n",
    "knn1_cv = GridSearchCVwithReport(X_train, y_train, X_test, y_test,  KNeighborsClassifier(), tuned_params, scores, folds)"
   ]
  },
  {
   "cell_type": "code",
   "execution_count": 37,
   "metadata": {},
   "outputs": [
    {
     "data": {
      "text/plain": [
       "'Tiempo de ejecución promedio: 77.84783333333333 segundos.'"
      ]
     },
     "execution_count": 37,
     "metadata": {},
     "output_type": "execute_result"
    }
   ],
   "source": [
    "knn1_time = 4670.87/ (6*2*5)\n",
    "\"Tiempo de ejecución promedio: \" + str(knn1_time)+\" segundos.\""
   ]
  },
  {
   "cell_type": "markdown",
   "metadata": {
    "collapsed": true
   },
   "source": [
    "###  Regresión Logística"
   ]
  },
  {
   "cell_type": "code",
   "execution_count": 22,
   "metadata": {
    "scrolled": false
   },
   "outputs": [
    {
     "name": "stdout",
     "output_type": "stream",
     "text": [
      "\n",
      "Parámetros ajustados del score: make_scorer(cohen_kappa_score)\n",
      "\n",
      "Mejores parámetros encontrados:\n",
      "{'C': 100, 'penalty': 'l2'}\n",
      "\n",
      "-->Reporte de clasificación detallado<--\n",
      "\n",
      "Matriz de confusión: \n",
      "[[10828   137]\n",
      " [ 1083   309]]\n",
      "\n",
      "             precision    recall  f1-score   support\n",
      "\n",
      "          0    0.90908   0.98751   0.94667     10965\n",
      "          1    0.69283   0.22198   0.33624      1392\n",
      "\n",
      "avg / total    0.88472   0.90127   0.87790     12357\n",
      "\n",
      "\n",
      "Coeficiente de kappa: \n",
      "0.297848741497\n",
      "Puntaje ROC_AUC: \n",
      "0.604744229288\n",
      "\n",
      "\n",
      "Parámetros ajustados del score: roc_auc\n",
      "\n",
      "Mejores parámetros encontrados:\n",
      "{'C': 0.1, 'penalty': 'l1'}\n",
      "\n",
      "-->Reporte de clasificación detallado<--\n",
      "\n",
      "Matriz de confusión: \n",
      "[[10837   128]\n",
      " [ 1090   302]]\n",
      "\n",
      "             precision    recall  f1-score   support\n",
      "\n",
      "          0    0.90861   0.98833   0.94679     10965\n",
      "          1    0.70233   0.21695   0.33150      1392\n",
      "\n",
      "avg / total    0.88537   0.90143   0.87748     12357\n",
      "\n",
      "\n",
      "Coeficiente de kappa: \n",
      "0.293963025583\n",
      "Puntaje ROC_AUC: \n",
      "0.602640258188\n",
      "\n",
      "Tiempo total de ejecución (segundos): 159.84\n"
     ]
    }
   ],
   "source": [
    "tuned_params = [{'penalty': ['l1','l2'], 'C': [0.001,0.01,0.1,1,10,100,1000] }]\n",
    "scores = [kappa_scorer,'roc_auc']\n",
    "folds = 5\n",
    "lg1_cv = GridSearchCVwithReport(X_train, y_train, X_test, y_test,  LogisticRegression(), tuned_params, scores, folds)"
   ]
  },
  {
   "cell_type": "code",
   "execution_count": 24,
   "metadata": {},
   "outputs": [
    {
     "data": {
      "text/plain": [
       "'Tiempo de ejecución promedio: 1.1417142857142857 segundos.'"
      ]
     },
     "execution_count": 24,
     "metadata": {},
     "output_type": "execute_result"
    }
   ],
   "source": [
    "#Tiempo de ejecución promedio (seg):\n",
    "lg1_time = ((159.84/ (2*7*2*5)))\n",
    "\"Tiempo de ejecución promedio: \" + str(lg1_time) +\" segundos.\""
   ]
  },
  {
   "cell_type": "markdown",
   "metadata": {},
   "source": [
    "### Bosques de clasificación"
   ]
  },
  {
   "cell_type": "code",
   "execution_count": 21,
   "metadata": {},
   "outputs": [
    {
     "name": "stdout",
     "output_type": "stream",
     "text": [
      "\n",
      "Parámetros ajustados del score: make_scorer(cohen_kappa_score)\n",
      "\n",
      "Mejores parámetros encontrados:\n",
      "{'bootstrap': False, 'max_features': 'auto', 'min_samples_split': 8, 'n_estimators': 30}\n",
      "\n",
      "-->Reporte de clasificación detallado<--\n",
      "\n",
      "Matriz de confusión: \n",
      "[[10713   252]\n",
      " [ 1005   387]]\n",
      "\n",
      "             precision    recall  f1-score   support\n",
      "\n",
      "          0    0.91423   0.97702   0.94458     10965\n",
      "          1    0.60563   0.27802   0.38109      1392\n",
      "\n",
      "avg / total    0.87947   0.89828   0.88111     12357\n",
      "\n",
      "\n",
      "Coeficiente de kappa: \n",
      "0.333875616147\n",
      "Puntaje ROC_AUC: \n",
      "0.627517512619\n",
      "\n",
      "\n",
      "Parámetros ajustados del score: roc_auc\n",
      "\n",
      "Mejores parámetros encontrados:\n",
      "{'bootstrap': True, 'max_features': 'sqrt', 'min_samples_split': 20, 'n_estimators': 50}\n",
      "\n",
      "-->Reporte de clasificación detallado<--\n",
      "\n",
      "Matriz de confusión: \n",
      "[[10780   185]\n",
      " [ 1041   351]]\n",
      "\n",
      "             precision    recall  f1-score   support\n",
      "\n",
      "          0    0.91194   0.98313   0.94620     10965\n",
      "          1    0.65485   0.25216   0.36411      1392\n",
      "\n",
      "avg / total    0.88298   0.90078   0.88062     12357\n",
      "\n",
      "\n",
      "Coeficiente de kappa: \n",
      "0.321617716439\n",
      "Puntaje ROC_AUC: \n",
      "0.617641653694\n",
      "\n",
      "Tiempo total de ejecución (segundos): 1180.41\n"
     ]
    }
   ],
   "source": [
    "tuned_params = { \n",
    "            \"n_estimators\"      : [10,30, 50],\n",
    "            \"max_features\"      : [\"auto\", \"sqrt\", \"log2\"],\n",
    "            \"min_samples_split\" : [2,4,8,10,12,20],\n",
    "            \"bootstrap\" : [True, False]\n",
    "            }\n",
    "scores = [kappa_scorer,'roc_auc']\n",
    "folds = 5\n",
    "rf1 = GridSearchCVwithReport(X_train, y_train, X_test, y_test,  RandomForestClassifier(), tuned_params, scores, folds)"
   ]
  },
  {
   "cell_type": "code",
   "execution_count": 25,
   "metadata": {},
   "outputs": [
    {
     "data": {
      "text/plain": [
       "'Tiempo de ejecución promedio: 1.3115666666666668 segundos.'"
      ]
     },
     "execution_count": 25,
     "metadata": {},
     "output_type": "execute_result"
    }
   ],
   "source": [
    "rf1_time = ((1180.41/ (3*3*5*2*2*5)))\n",
    "\"Tiempo de ejecución promedio: \" + str(rf1_time) +\" segundos.\""
   ]
  },
  {
   "cell_type": "code",
   "execution_count": 35,
   "metadata": {},
   "outputs": [
    {
     "name": "stdout",
     "output_type": "stream",
     "text": [
      "\n",
      "Parámetros ajustados del score: make_scorer(cohen_kappa_score)\n",
      "\n",
      "Mejores parámetros encontrados:\n",
      "{'activation': 'tanh', 'alpha': 0.01, 'hidden_layer_sizes': (20, 20), 'learning_rate': 'adaptive', 'solver': 'adam'}\n",
      "\n",
      "-->Reporte de clasificación detallado<--\n",
      "\n",
      "Matriz de confusión: \n",
      "[[10835   130]\n",
      " [ 1094   298]]\n",
      "\n",
      "             precision    recall  f1-score   support\n",
      "\n",
      "          0    0.90829   0.98814   0.94654     10965\n",
      "          1    0.69626   0.21408   0.32747      1392\n",
      "\n",
      "avg / total    0.88441   0.90095   0.87680     12357\n",
      "\n",
      "\n",
      "Coeficiente de kappa: \n",
      "0.289847192634\n",
      "Puntaje ROC_AUC: \n",
      "0.601112277309\n",
      "\n",
      "\n",
      "Parámetros ajustados del score: roc_auc\n",
      "\n",
      "Mejores parámetros encontrados:\n",
      "{'activation': 'tanh', 'alpha': 0.0001, 'hidden_layer_sizes': (15, 15), 'learning_rate': 'adaptive', 'solver': 'adam'}\n",
      "\n",
      "-->Reporte de clasificación detallado<--\n",
      "\n",
      "Matriz de confusión: \n",
      "[[10799   166]\n",
      " [ 1058   334]]\n",
      "\n",
      "             precision    recall  f1-score   support\n",
      "\n",
      "          0    0.91077   0.98486   0.94637     10965\n",
      "          1    0.66800   0.23994   0.35307      1392\n",
      "\n",
      "avg / total    0.88342   0.90095   0.87953     12357\n",
      "\n",
      "\n",
      "Coeficiente de kappa: \n",
      "0.312108856309\n",
      "Puntaje ROC_AUC: \n",
      "0.612401724924\n",
      "\n",
      "Tiempo total de ejecución (segundos): 1265.26\n"
     ]
    }
   ],
   "source": [
    "tuned_params={\n",
    "   'learning_rate': [\"invscaling\",\"adaptive\"],\n",
    "    'hidden_layer_sizes': [(15),(20),(15,15),(20,20)],\n",
    "    'alpha': [ 0.01, 0.001, 0.0001],\n",
    "    'activation': [\"tanh\", \"logistic\"],\n",
    "    'solver': ['adam']\n",
    "}\n",
    "\n",
    "scores = [kappa_scorer,'roc_auc']\n",
    "folds = 5\n",
    "mlp2 = GridSearchCVwithReport(X_train2, y_train2, X_test2, y_test2,  MLPClassifier(), tuned_params, scores, folds)\n"
   ]
  },
  {
   "cell_type": "code",
   "execution_count": 67,
   "metadata": {},
   "outputs": [
    {
     "data": {
      "text/plain": [
       "'Tiempo de ejecución promedio: 2.6359583333333334 segundos.'"
      ]
     },
     "execution_count": 67,
     "metadata": {},
     "output_type": "execute_result"
    }
   ],
   "source": [
    "mlp1_time = ((1265.26/ (2*4*3*2*1*2*5)))\n",
    "\"Tiempo de ejecución promedio: \" + str(mlp1_time) +\" segundos.\""
   ]
  },
  {
   "cell_type": "code",
   "execution_count": 76,
   "metadata": {},
   "outputs": [
    {
     "data": {
      "image/png": "[encoded data removed]",
      "text/plain": [
       "<matplotlib.figure.Figure at 0x1f3403f6f60>"
      ]
     },
     "metadata": {},
     "output_type": "display_data"
    }
   ],
   "source": [
    "\n",
    "fig = pyplot.figure(figsize=(20, 20))\n",
    "\n",
    "pd_times = pd.DataFrame({'times':[knn1_time, lg1_time, rf1_time, mlp1_time],\n",
    "                     'labels':   ['KNN', 'LR', 'RF', 'MLP'],\n",
    "                        })\n",
    "ax1 = pyplot.subplot(2, 3, 1)\n",
    "ax1 = sns.barplot(y = 'times1', x='labels', data = pd_times1, ax = ax1)\n",
    "ax1.set_title(\"Segundos de ejecución promedio\")\n",
    "ax1.set_xlabel(\"Método\")\n",
    "ax1.set_ylabel(\"Segundos\")\n",
    "\n",
    "\n",
    "pd_true_positives = pd.DataFrame({'true_positives':[19.5, 21.6, 27.8, 24, 65],\n",
    "                     'labels':   ['KNN', 'LR', 'RF', 'MLP', 'Moro et al.'],\n",
    "                        })\n",
    "ax2 = pyplot.subplot(2, 3, 2)\n",
    "sns.barplot(y = 'true_positives', x='labels', data = pd_true_positives, ax = ax2)\n",
    "ax2.set_title(\"Tasa de Verdaderos Positivos (TP)\")\n",
    "ax2.set_xlabel(\"Método\")\n",
    "ax2.set_ylabel(\"%\")\n",
    "\n",
    "\n",
    "pd_kappa = pd.DataFrame({'kappa':[0.27, 0.3, 0.33, 0.31],\n",
    "                     'labels':   ['KNN', 'LR', 'RF', 'MLP'],\n",
    "                        })\n",
    "ax3 = pyplot.subplot(2, 3, 3)\n",
    "sns.barplot(y = 'kappa', x='labels', data = pd_kappa, ax = ax3)\n",
    "ax3.set_title(\"Coeficiente kappa\")\n",
    "ax3.set_xlabel(\"Método\")\n",
    "ax3.set_ylabel(\"Kappa\")\n",
    "\n",
    "\n",
    "pd_roc = pd.DataFrame({'roc':[0.59, 0.6, 0.63, 0.61],\n",
    "                     'labels':   ['KNN', 'LR', 'RF', 'MLP'],\n",
    "                        })\n",
    "ax4 = pyplot.subplot(2, 3, 4)\n",
    "sns.barplot(y = 'roc', x='labels', data = pd_roc, ax = ax4)\n",
    "ax4.set_title(\"Área bajo la curva\")\n",
    "ax4.set_xlabel(\"Método\")\n",
    "ax4.set_ylabel(\"ROC\")\n",
    "\n",
    "\n",
    "pd_tn = pd.DataFrame({'tn':[98.8, 99, 97.7, 98.5, 81],\n",
    "                     'labels':   ['KNN', 'LR', 'RF', 'MLP', 'Moro et al.'],\n",
    "                        })\n",
    "ax5 = pyplot.subplot(2, 3, 5)\n",
    "sns.barplot(y = 'tn', x='labels', data = pd_tn, ax = ax5)\n",
    "ax5.set_title(\"Tasa de Verdaderos Negativos (TN)\")\n",
    "ax5.set_xlabel(\"Método\")\n",
    "ax5.set_ylabel(\"%\")\n",
    "\n",
    "\n",
    "#ax2 = pyplot.subplot(2, 2, 3)\n",
    "\n",
    "\n",
    "#pyplot.show()\n",
    "\n",
    "\n",
    "pyplot.show()"
   ]
  },
  {
   "cell_type": "markdown",
   "metadata": {},
   "source": [
    "# Conclusiones de la primera iteración\n",
    "\n",
    "Los resultados obtenidos no fueron excesivamente positivos, la metodología KNN incide en unos tiempos de ejecución bastante altos (se intuye que puede ser un problema de la implementación y no del método) sin tener una precisión destacable, muy por debajo del resto de metodologías. Se detecta sin embargo que el valor de K que mejores resultados arroja es 15, con el que se clasifican correctamente solo el 19.5% de los datos en los que el cliente acepta el depósito y el 98.8% de los que no aceptaron. Los valores de kappa y area bajo la curva respectivamente fueron 0.27 y 0.59, lo cual no es muy eficiente.\n",
    "\n",
    "Aunque la regresión logística clasifica exitosamente más del 99% de clientes que no aceptaron el depósito, tan solo logra clasificar correctamente al 21.6% de los que sí lo aceptaron, lo que es de poca utilidad para la organización. Esto se ve reflejado en el kappa de 0.3 y el área bajo la curva de 0.61 que indican que no se obtiene una gran precisión para todas las clases. Es, sin embargo, el método de más rápido entrenamiento, ligeramente por encima de los bosques aleatorios. Los valores óptimos de este algoritmo fueron C = 100 y penalización tipo l2. \n",
    "\n",
    "Los bosques aleatorios sacrifican algo de precisión en la clasificación de clientes que no aceptaron el depósito (N) con un 97.7%, pero clasifican exitosamente al 27.8% de los clientes que aceptaron hacer un depósito a término fijo (S), lo que se mide como un kappa de 0.33 y una ROC de 0.63. Los mejores resultados se obtuvieron al ajustar bootstrap como Falso, el valor de características máximas como automático, el mínimo de muestras por división en 8 y el número de estimadores en 30.\n",
    "\n",
    "Las redes neuronales perceptrón multicapa logran una tasa de Verdaderos Positivos ligeramente superior a la de la regresión logistica (24%) pero inferior a la de los árboles de clasificación. En cuanto a Verdaderos Negativos, su precisión es del 98.5%, lo que lo ubica muy cerca de los otros modelos. En general podemos usar los coeficientes de kappa y el área bajo la curva ROC, que son 0.31 y 0.61. En cuanto a tiempos de ejecución, las RN MLP tienen un tiempo promedio por encima de la regresión logística y los bosques aleatorios. Los mejores parámetors encontrados fueron función de acivación tangente hiperbólica, alpha 0.0001, dos capas de neuronas ocultas de 15 neuronas cada una, tasa de aprendizaje adaptativa y solver adam.\n",
    "\n",
    "La regresión logística es el método más preciso en cuanto a Verdaderos Negativos (99% de clientes), aunque en general los cuantro métodos no son muy eficientes para detectar Verdaderos Positivos lo cual resulta de poca utilidad considerando la línea base establecida anteriormente. Se intuye que el uso de variables dummy, aunque ayuda a clasificar datos categóricos con algoritmos que no los soportan en principio, incrementa considerablemente la dimensionalidad de los mismos y dificulta la clasificación, resultando en tiempos de ejecución mucho más altos. Debe considerarse en primera instancia reducir la cantidad de parámetros categóricos con base en el conocimiento del problema. "
   ]
  },
  {
   "cell_type": "markdown",
   "metadata": {},
   "source": [
    "# Segunda iteración del preprocesamiento\n",
    "\n",
    "Se propone realizar la segunda iteración considerando las siguientes tareas de preprocesamiento:\n",
    "\n",
    "\n",
    "1. Reducción de atributos categóricos.\n",
    "2. Partición del conjunto de datos.\n",
    "3. Conversión de variables categóricas a dummies.\n",
    "4. Estandarización de valores numéricos."
   ]
  },
  {
   "cell_type": "code",
   "execution_count": 269,
   "metadata": {},
   "outputs": [
    {
     "name": "stdout",
     "output_type": "stream",
     "text": [
      "['job', 'marital', 'education', 'month', 'day_of_week', 'default', 'housing', 'poutcome', 'loan', 'contact']\n"
     ]
    }
   ],
   "source": [
    "print(cat_labels)"
   ]
  },
  {
   "cell_type": "markdown",
   "metadata": {},
   "source": [
    "## Atributos categóricos irreducibles:\n",
    "\n",
    "El día de la semana y el mes, debido a sus características, no pueden reducirse. Lo mismo aplica para el atributo trabajo y poutcome.\n",
    "\n",
    "## Atributos categóricos reducibles que se decide no reducir:\n",
    "\n",
    "El atributo default tiene tan solo 3 datos con 'si', por lo que la proporción de datos con desconocido se vuelve demasiado grande como para despreciarla. \n",
    "\n",
    "\n",
    "## Atributos directamente binarizables\n",
    "\n",
    "El atributo 'contact' tiene únicamente dos valores, por tanto, puede convertirse en un valor binario directamente.\n",
    "\n",
    "\n",
    "\n",
    "## Atributos catégoricos reducibles que deben imputarse en primer lugar.\n",
    "\n",
    "Para los atributos educación, marital, housing y loan se puede reducir la dimensionalidad haciendo imputación. Para esto se emplea la metodología de imputación por moda, teniendo en cuenta que en estos cuatro atributos la cantidad de valores faltantes es reducida.\n",
    "\n",
    "En el caso de la educación, una vez eliminados los datos faltantes, se hace un mapeo a enteros:\n",
    "\n",
    " 'illiterate':          0\n",
    " 'basic.4y':            1\n",
    " 'basic.6y':            2\n",
    " 'basic.9y':            3\n",
    " 'high.school':         4\n",
    " 'university.degree':   5\n",
    " 'professional.course': 6\n",
    " \n",
    "\n"
   ]
  },
  {
   "cell_type": "code",
   "execution_count": 63,
   "metadata": {},
   "outputs": [],
   "source": [
    "def education_map(x):\n",
    "    education_dict = { 'illiterate':0, 'basic.4y':1, 'basic.6y': 2, 'basic.9y': 3, 'high.school':4, \n",
    "                      'university.degree':5, 'professional.course':6  }    \n",
    "    return education_dict[x]\n",
    "\n",
    "#Preprocesamiento\n",
    "\n",
    "df_it2 = df_orig.copy()\n",
    "df_it2.contact = df_it2.contact.apply(lambda x: 0 if x == 'cellular' else 1)\n",
    "labels_with_unknowns = ['marital', 'housing', 'loan', 'education']\n",
    "df_it2[labels_with_unknowns] =  df_it2[labels_with_unknowns].replace('unknown', np.NaN)\n",
    "\n",
    "imputer  = GeneralImputer(strategy='most_frequent')\n",
    "imputer.fit(df_it2[labels_with_unknowns])\n",
    "df_it2[labels_with_unknowns] = imputer.transform(df_it2[labels_with_unknowns])\n",
    "\n",
    "df_it2['education'] = df_it2['education'].apply(lambda x: education_map(x))\n",
    "df_it2['housing'] = df_it2['housing'] .apply(lambda x: 1 if x == 'yes' else 0)\n",
    "df_it2['loan'] = df_it2['loan'] .apply(lambda x: 1 if x == 'yes' else 0)\n",
    "\n",
    "#Adicion de dummies.\n",
    "\n",
    "dummy_cat_labels = ['job','marital','month','day_of_week','default', 'poutcome']\n",
    "\n",
    "df_it2_dummied = pd.get_dummies(df_it2, columns = dummy_cat_labels, sparse = True, drop_first = True)\n",
    "\n",
    "#Partición\n",
    "\n",
    "(df_train2, df_test2) = get_partitions(df_it2_dummied, 1, 0.3)\n",
    "\n",
    "new_labels = list(df_it2_dummied.columns.values)\n",
    "\n",
    "X_train2 = df_train2.copy()\n",
    "y_train2 = X_train2.y\n",
    "del(X_train2['y'])\n",
    "\n",
    "X_test2 = df_test2.copy()\n",
    "y_test2 = X_test2.y\n",
    "del(X_test2['y'])\n",
    "\n",
    "#Escalamiento con nueva variable numerica\n",
    "num_labels2 = num_labels + ['education']\n",
    "scaler = preprocessing.MinMaxScaler()\n",
    "scaler = scaler.fit(X_train2[num_labels2])\n",
    "X_train2.loc[:,num_labels2] = scaler.transform(X_train2[num_labels2])\n",
    "X_test2.loc[:, num_labels2] = scaler.transform(X_test2[num_labels2])"
   ]
  },
  {
   "cell_type": "code",
   "execution_count": 335,
   "metadata": {},
   "outputs": [
    {
     "name": "stdout",
     "output_type": "stream",
     "text": [
      "44\n"
     ]
    }
   ],
   "source": [
    "print(len(new_labels))\n"
   ]
  },
  {
   "cell_type": "markdown",
   "metadata": {},
   "source": [
    "Con las modificaciones realizadas se logra reducir la cantidad de etiquetas a 44 (43 sin la respuesta)."
   ]
  },
  {
   "cell_type": "markdown",
   "metadata": {},
   "source": [
    "# Segunda iteración de modelamiento:"
   ]
  },
  {
   "cell_type": "markdown",
   "metadata": {},
   "source": [
    "###  K Nearest Neighbors"
   ]
  },
  {
   "cell_type": "code",
   "execution_count": 353,
   "metadata": {
    "scrolled": false
   },
   "outputs": [
    {
     "name": "stdout",
     "output_type": "stream",
     "text": [
      "\n",
      "Parámetros ajustados del score: make_scorer(cohen_kappa_score)\n",
      "\n",
      "Mejores parámetros encontrados:\n",
      "{'n_neighbors': 15}\n",
      "\n",
      "-->Reporte de clasificación detallado<--\n",
      "\n",
      "Matriz de confusión: \n",
      "[[10787   178]\n",
      " [ 1087   305]]\n",
      "\n",
      "             precision    recall  f1-score   support\n",
      "\n",
      "          0    0.90846   0.98377   0.94461     10965\n",
      "          1    0.63147   0.21911   0.32533      1392\n",
      "\n",
      "avg / total    0.87725   0.89763   0.87485     12357\n",
      "\n",
      "\n",
      "Coeficiente de kappa: \n",
      "0.283765511036\n",
      "Puntaje ROC_AUC: \n",
      "0.601437862635\n",
      "\n",
      "\n",
      "Parámetros ajustados del score: roc_auc\n",
      "\n",
      "Mejores parámetros encontrados:\n",
      "{'n_neighbors': 40}\n",
      "\n",
      "-->Reporte de clasificación detallado<--\n",
      "\n",
      "Matriz de confusión: \n",
      "[[10874    91]\n",
      " [ 1144   248]]\n",
      "\n",
      "             precision    recall  f1-score   support\n",
      "\n",
      "          0    0.90481   0.99170   0.94626     10965\n",
      "          1    0.73156   0.17816   0.28654      1392\n",
      "\n",
      "avg / total    0.88529   0.90006   0.87195     12357\n",
      "\n",
      "\n",
      "Coeficiente de kappa: \n",
      "0.25360694322\n",
      "Puntaje ROC_AUC: \n",
      "0.584930892967\n",
      "\n",
      "Tiempo total de ejecución (segundos): 2298.99\n"
     ]
    }
   ],
   "source": [
    "tuned_params = [{'n_neighbors': [15,20,25,30,35,40] }]\n",
    "scores = [kappa_scorer,'roc_auc']\n",
    "folds = 5\n",
    "knn2 = GridSearchCVwithReport(X_train2, y_train2, X_test2, y_test2,  KNeighborsClassifier(), tuned_params, scores, folds)"
   ]
  },
  {
   "cell_type": "code",
   "execution_count": 51,
   "metadata": {},
   "outputs": [
    {
     "data": {
      "text/plain": [
       "'Tiempo de ejecución promedio: 38.3165 segundos.'"
      ]
     },
     "execution_count": 51,
     "metadata": {},
     "output_type": "execute_result"
    }
   ],
   "source": [
    "#Tiempo de ejecución promedio (seg):\n",
    "knn2_time = ((2298.99/ (6*2*5)))\n",
    "\"Tiempo de ejecución promedio: \" + str(knn2_time) +\" segundos.\""
   ]
  },
  {
   "cell_type": "markdown",
   "metadata": {
    "collapsed": true
   },
   "source": [
    "###  Regresión Logística"
   ]
  },
  {
   "cell_type": "code",
   "execution_count": 34,
   "metadata": {},
   "outputs": [
    {
     "name": "stdout",
     "output_type": "stream",
     "text": [
      "\n",
      "Parámetros ajustados del score: make_scorer(cohen_kappa_score)\n",
      "\n",
      "Mejores parámetros encontrados:\n",
      "{'C': 1000, 'penalty': 'l1'}\n",
      "\n",
      "-->Reporte de clasificación detallado<--\n",
      "\n",
      "Matriz de confusión: \n",
      "[[10832   133]\n",
      " [ 1082   310]]\n",
      "\n",
      "             precision    recall  f1-score   support\n",
      "\n",
      "          0    0.90918   0.98787   0.94689     10965\n",
      "          1    0.69977   0.22270   0.33787      1392\n",
      "\n",
      "avg / total    0.88559   0.90168   0.87829     12357\n",
      "\n",
      "\n",
      "Coeficiente de kappa: \n",
      "0.299789807592\n",
      "Puntaje ROC_AUC: \n",
      "0.605285823231\n",
      "\n",
      "\n",
      "Parámetros ajustados del score: roc_auc\n",
      "\n",
      "Mejores parámetros encontrados:\n",
      "{'C': 1, 'penalty': 'l1'}\n",
      "\n",
      "-->Reporte de clasificación detallado<--\n",
      "\n",
      "Matriz de confusión: \n",
      "[[10837   128]\n",
      " [ 1084   308]]\n",
      "\n",
      "             precision    recall  f1-score   support\n",
      "\n",
      "          0    0.90907   0.98833   0.94704     10965\n",
      "          1    0.70642   0.22126   0.33698      1392\n",
      "\n",
      "avg / total    0.88624   0.90192   0.87832     12357\n",
      "\n",
      "\n",
      "Coeficiente de kappa: \n",
      "0.299328947228\n",
      "Puntaje ROC_AUC: \n",
      "0.604795430602\n",
      "\n",
      "Tiempo total de ejecución (segundos): 172.01\n"
     ]
    }
   ],
   "source": [
    "#[[10832   133]\n",
    " #[ 1081   311]]\n",
    "tuned_params = [{'penalty': ['l1','l2'], 'C': [0.001,0.01,0.1,1,10,100,1000] }]\n",
    "scores = [kappa_scorer,'roc_auc']\n",
    "folds = 5\n",
    "lg2 = GridSearchCVwithReport(X_train2, y_train2, X_test2, y_test2,  LogisticRegression(), tuned_params, scores, folds)"
   ]
  },
  {
   "cell_type": "code",
   "execution_count": 53,
   "metadata": {},
   "outputs": [
    {
     "data": {
      "text/plain": [
       "'Tiempo de ejecución promedio: 1.0750625 segundos.'"
      ]
     },
     "execution_count": 53,
     "metadata": {},
     "output_type": "execute_result"
    }
   ],
   "source": [
    "lg2_time = ((172.01/ (2*8*2*5)))\n",
    "\"Tiempo de ejecución promedio: \" + str(lg2_time) +\" segundos.\""
   ]
  },
  {
   "cell_type": "markdown",
   "metadata": {},
   "source": [
    "### Random Forest"
   ]
  },
  {
   "cell_type": "code",
   "execution_count": 355,
   "metadata": {},
   "outputs": [
    {
     "name": "stdout",
     "output_type": "stream",
     "text": [
      "\n",
      "Parámetros ajustados del score: make_scorer(cohen_kappa_score)\n",
      "\n",
      "Mejores parámetros encontrados:\n",
      "{'bootstrap': False, 'max_features': 'auto', 'min_samples_split': 12, 'n_estimators': 50}\n",
      "\n",
      "-->Reporte de clasificación detallado<--\n",
      "\n",
      "Matriz de confusión: \n",
      "[[10746   219]\n",
      " [ 1006   386]]\n",
      "\n",
      "             precision    recall  f1-score   support\n",
      "\n",
      "          0    0.91440   0.98003   0.94608     10965\n",
      "          1    0.63802   0.27730   0.38658      1392\n",
      "\n",
      "avg / total    0.88326   0.90087   0.88305     12357\n",
      "\n",
      "\n",
      "Coeficiente de kappa: \n",
      "0.341643873473\n",
      "Puntaje ROC_AUC: \n",
      "0.628663105178\n",
      "\n",
      "\n",
      "Parámetros ajustados del score: roc_auc\n",
      "\n",
      "Mejores parámetros encontrados:\n",
      "{'bootstrap': True, 'max_features': 'sqrt', 'min_samples_split': 20, 'n_estimators': 50}\n",
      "\n",
      "-->Reporte de clasificación detallado<--\n",
      "\n",
      "Matriz de confusión: \n",
      "[[10786   179]\n",
      " [ 1039   353]]\n",
      "\n",
      "             precision    recall  f1-score   support\n",
      "\n",
      "          0    0.91214   0.98368   0.94656     10965\n",
      "          1    0.66353   0.25359   0.36694      1392\n",
      "\n",
      "avg / total    0.88413   0.90143   0.88126     12357\n",
      "\n",
      "\n",
      "Coeficiente de kappa: \n",
      "0.324886762137\n",
      "Puntaje ROC_AUC: \n",
      "0.61863364231\n",
      "\n",
      "Tiempo total de ejecución (segundos): 851.24\n"
     ]
    }
   ],
   "source": [
    "tuned_params = { \n",
    "            \"n_estimators\"      : [10,30, 50],\n",
    "            \"max_features\"      : [\"auto\", \"sqrt\", \"log2\"],\n",
    "            \"min_samples_split\" : [2,4,8,10,12,20],\n",
    "            \"bootstrap\" : [True, False]\n",
    "            }\n",
    "scores = [kappa_scorer,'roc_auc']\n",
    "folds = 5\n",
    "rf2 = GridSearchCVwithReport(X_train2, y_train2, X_test2, y_test2,  RandomForestClassifier(), tuned_params, scores, folds)"
   ]
  },
  {
   "cell_type": "code",
   "execution_count": 54,
   "metadata": {},
   "outputs": [
    {
     "data": {
      "text/plain": [
       "'Tiempo de ejecución promedio: 0.7881851851851852 segundos.'"
      ]
     },
     "execution_count": 54,
     "metadata": {},
     "output_type": "execute_result"
    }
   ],
   "source": [
    "rf2_time = ((851.24/ (9*12*10)))\n",
    "\"Tiempo de ejecución promedio: \" + str(rf2_time) +\" segundos.\""
   ]
  },
  {
   "cell_type": "markdown",
   "metadata": {},
   "source": [
    "###  Red Neuronal Perceptrón Multicapa"
   ]
  },
  {
   "cell_type": "code",
   "execution_count": 66,
   "metadata": {},
   "outputs": [
    {
     "name": "stdout",
     "output_type": "stream",
     "text": [
      "\n",
      "Parámetros ajustados del score: make_scorer(cohen_kappa_score)\n",
      "\n",
      "Mejores parámetros encontrados:\n",
      "{'activation': 'tanh', 'alpha': 0.001, 'hidden_layer_sizes': (20, 20), 'learning_rate': 'invscaling', 'solver': 'adam'}\n",
      "\n",
      "-->Reporte de clasificación detallado<--\n",
      "\n",
      "Matriz de confusión: \n",
      "[[10796   169]\n",
      " [ 1061   331]]\n",
      "\n",
      "             precision    recall  f1-score   support\n",
      "\n",
      "          0    0.91052   0.98459   0.94610     10965\n",
      "          1    0.66200   0.23779   0.34989      1392\n",
      "\n",
      "avg / total    0.88252   0.90046   0.87894     12357\n",
      "\n",
      "\n",
      "Coeficiente de kappa: \n",
      "0.308736840899\n",
      "Puntaje ROC_AUC: \n",
      "0.611187339812\n",
      "\n",
      "\n",
      "Parámetros ajustados del score: roc_auc\n",
      "\n",
      "Mejores parámetros encontrados:\n",
      "{'activation': 'tanh', 'alpha': 0.01, 'hidden_layer_sizes': (20, 20), 'learning_rate': 'adaptive', 'solver': 'adam'}\n",
      "\n",
      "-->Reporte de clasificación detallado<--\n",
      "\n",
      "Matriz de confusión: \n",
      "[[10801   164]\n",
      " [ 1055   337]]\n",
      "\n",
      "             precision    recall  f1-score   support\n",
      "\n",
      "          0    0.91102   0.98504   0.94658     10965\n",
      "          1    0.67265   0.24210   0.35605      1392\n",
      "\n",
      "avg / total    0.88416   0.90135   0.88006     12357\n",
      "\n",
      "\n",
      "Coeficiente de kappa: \n",
      "0.315217013289\n",
      "Puntaje ROC_AUC: \n",
      "0.613570510401\n",
      "\n",
      "Tiempo total de ejecución (segundos): 2944.89\n"
     ]
    }
   ],
   "source": [
    "tuned_params={\n",
    "   'learning_rate': [\"invscaling\",\"adaptive\"],\n",
    "    'hidden_layer_sizes': [(15),(20),(15,15),(20,20)],\n",
    "    'alpha': [ 0.1,0.01, 0.001, 0.0001],\n",
    "    'activation': [\"identity\",\"tanh\",\"relu\", \"logistic\"],\n",
    "    'solver': ['adam']\n",
    "}\n",
    "\n",
    "scores = [kappa_scorer,'roc_auc']\n",
    "folds = 5\n",
    "mlp2 = GridSearchCVwithReport(X_train2, y_train2, X_test2, y_test2,  MLPClassifier(), tuned_params, scores, folds)\n"
   ]
  },
  {
   "cell_type": "code",
   "execution_count": 70,
   "metadata": {},
   "outputs": [
    {
     "data": {
      "text/plain": [
       "'Tiempo de ejecución promedio: 0.7881851851851852 segundos.'"
      ]
     },
     "execution_count": 70,
     "metadata": {},
     "output_type": "execute_result"
    }
   ],
   "source": [
    "mlp2_time = ((2944.89/ (2*4*4*4*1*2*5)))\n",
    "\"Tiempo de ejecución promedio: \" + str(rf2_time) +\" segundos.\""
   ]
  },
  {
   "cell_type": "code",
   "execution_count": 77,
   "metadata": {},
   "outputs": [
    {
     "data": {
      "image/png": "[encoded data removed]",
      "text/plain": [
       "<matplotlib.figure.Figure at 0x1f3403ccb00>"
      ]
     },
     "metadata": {},
     "output_type": "display_data"
    }
   ],
   "source": [
    "\n",
    "fig = pyplot.figure(figsize=(20, 20))\n",
    "\n",
    "pd_times = pd.DataFrame({'times':[knn2_time, lg2_time, rf2_time, mlp2_time],\n",
    "                     'labels':   ['KNN', 'LR', 'RF', 'MLP'],\n",
    "                        })\n",
    "ax1 = pyplot.subplot(2, 3, 1)\n",
    "ax1 = sns.barplot(y = 'times', x='labels', data = pd_times, ax = ax1)\n",
    "ax1.set_title(\"Segundos de ejecución promedio\")\n",
    "ax1.set_xlabel(\"Método\")\n",
    "ax1.set_ylabel(\"Segundos\")\n",
    "\n",
    "\n",
    "pd_true_positives = pd.DataFrame({'true_positives':[21.9,22.2 , 27.7 , 24.2, 65],\n",
    "                     'labels':   ['KNN', 'LR', 'RF', 'MLP', 'Moro et al.'],\n",
    "                        })\n",
    "ax2 = pyplot.subplot(2, 3, 2)\n",
    "sns.barplot(y = 'true_positives', x='labels', data = pd_true_positives, ax = ax2)\n",
    "ax2.set_title(\"Porcentaje de verdaderos positivos\")\n",
    "ax2.set_xlabel(\"Método\")\n",
    "ax2.set_ylabel(\"%\")\n",
    "\n",
    "\n",
    "pd_kappa = pd.DataFrame({'kappa':[0.28, 0.3, 0.34, 0.32],\n",
    "                     'labels':   ['KNN', 'LR', 'RF', 'MLP'],\n",
    "                        })\n",
    "ax3 = pyplot.subplot(2, 3, 3)\n",
    "sns.barplot(y = 'kappa', x='labels', data = pd_kappa, ax = ax3)\n",
    "ax3.set_title(\"Coeficiente kappa\")\n",
    "ax3.set_xlabel(\"Método\")\n",
    "ax3.set_ylabel(\"Kappa\")\n",
    "\n",
    "\n",
    "pd_roc = pd.DataFrame({'roc':[0.6, 0.61, 0.63, 0.61],\n",
    "                     'labels':   ['KNN', 'LR', 'RF', 'MLP'],\n",
    "                        })\n",
    "ax4 = pyplot.subplot(2, 3, 4)\n",
    "sns.barplot(y = 'roc', x='labels', data = pd_roc, ax = ax4)\n",
    "ax4.set_title(\"Área bajo la curva\")\n",
    "ax4.set_xlabel(\"Método\")\n",
    "ax4.set_ylabel(\"ROC\")\n",
    "\n",
    "pd_tn = pd.DataFrame({'tn':[98.5, 98.7, 97.7, 98.5, 81],\n",
    "                     'labels':   ['KNN', 'LR', 'RF', 'MLP', 'Moro et al.'],\n",
    "                        })\n",
    "ax5 = pyplot.subplot(2, 3, 5)\n",
    "sns.barplot(y = 'tn', x='labels', data = pd_tn, ax = ax5)\n",
    "ax5.set_title(\"Tasa de Verdaderos Negativos (TP)\")\n",
    "ax5.set_xlabel(\"Método\")\n",
    "ax5.set_ylabel(\"%\")\n",
    "\n",
    "\n",
    "\n",
    "#ax2 = pyplot.subplot(2, 2, 3)\n",
    "\n",
    "\n",
    "#pyplot.show()\n",
    "\n",
    "\n",
    "pyplot.show()"
   ]
  },
  {
   "cell_type": "markdown",
   "metadata": {},
   "source": [
    "# Conclusiones de la segunda iteración del modelamiento\n",
    "\n",
    "Al hacer reducción de caracterísicas con base en el cómputo de valores faltantes y aplicando una regla numérica al atributo educación, se pueden notar ligeras mejoras en la clasificación. Asimismo, hay una mejora notoria en los tiempos de ejecución de los algoritmos. La metodología KNN sigue ubicándose como la de peor rendimiento con una tasa de TP del 22% y una tasa de TN del 98.3%, con kappa de 0.28 y ROC de 0.6. Se mantienen el mismo hiperparámetro k = 15, y la reducción de dimensionalidad tiene un impacto considerable en el tiempo de ejecución, reduciéndolo a un promedio de 37 segundos.\n",
    "\n",
    "La regresión logística pasa a clasificar correctamente un 22.3% de las instancias de Sí, una mejora mínima ante una reducción al 98.7% de Verdaderos Negativos, aunque el impacto en la métrica ROC es positivo, aumentando esta a 0.61. Los tiempos de ejecución se reducen a 1.07 segundos, lo cual indica que el algoritmo de regresión logística no es tan sensible a altas cantidades de atributos como los otros. En este caso, los hiperparámetros óptimos fueron C =  1000 y penalización tipo l1.\n",
    "\n",
    "Los bosques aleatorios mantienen la mejor tasa de Verdaderos Positivos, el mejor kappa y la mejor área bajo la curva, con un 27.7%, 0.34 y 0.64 respectivamente. La tasa de TN se mantuvo en 97.7%, lo que a grandes rasgos indica que no hay mayor mejora además del tiempo de ejecución, que pasa a 0.78 segundos por ejecución lo cual indica el alto impacto de la cantidad de atributos en el rendimiento del algoritmo. Los hiperparámetros óptimos fueron los mismos que en la anterior iteración, excepto por las muestras mínimas que se ajustaron a 12 y el número de estimadores ideal que fue 50.\n",
    "\n",
    "Las redes neuronales mantienen un desempeño muy similar al anterior, con un 24.2% de Tasa TP y 98.5% de tasa FP, con kappa 0.32 y ROC de 0.61. Se encontraron los mismos hiperparámetros ideales excepto por el valor de alpha, que pasó de 0.0001 a 0.01, y las capas que se definieron como dos capas ocultas de 20 neuronas cada una. El método, en todo caso, se consolida entre los bosques de clasificación y la regresión logística.\n",
    "\n",
    "En esta iteración no se aprecia una mejora apreciable en la tasa de Verdaderos Positivos, sin embargo, fue posible observar el impacto de la dimensionalidad de los conjuntos de datos sobre los tiempos de ejecución, y como ligeras modificaciones en los atributos categóricos pueden ayudar a reducir la dimensionalidad, resultando en algunos casos en un incremento de la precisión. Por otra parte, se ve como la regresión logística sigue siendo la que mejor clasifica los Verdaderos Negativos, mientras que la tarea de clasificación de Verdaderos Positivos la lleva a cabo más eficientemente los bosques de clasificación. KNN, en contraste, falla en ambos casos, y las Redes Neuronales se ubican en un punto medo entre la Regresión Logística y los Árboles de Clasificación."
   ]
  },
  {
   "cell_type": "markdown",
   "metadata": {},
   "source": [
    "# Tercera iteración del preprocesamiento\n",
    "\n",
    "Esta iteración es similar a la anterior, pero al intuirse que la baja tasa de TP puede deberse al desbalanceo, se aplica balanceo de clases antes de estandarizar los valores numéricos.\n",
    "\n",
    "1. Reducción de atributos categóricos.\n",
    "2. Partición del conjunto de datos.\n",
    "3. Conversión de variables categóricas a dummies.\n",
    "4. Estandarización de valores numéricos.\n",
    "5. Balanceo de clases mediante la metodología mixta de oversampling y downsampling SMOTEENN."
   ]
  },
  {
   "cell_type": "code",
   "execution_count": 357,
   "metadata": {
    "collapsed": true
   },
   "outputs": [],
   "source": [
    "df_it3 = df_orig.copy()\n",
    "df_it3.contact = df_it3.contact.apply(lambda x: 0 if x == 'cellular' else 1)\n",
    "df_it3.contact.describe()\n",
    "labels_with_unknowns = ['marital', 'housing', 'loan', 'education']\n",
    "df_it3[labels_with_unknowns] =  df_it3[labels_with_unknowns].replace('unknown', np.NaN)\n",
    "imputer  = GeneralImputer(strategy='most_frequent')\n",
    "imputer.fit(df_it3[labels_with_unknowns])\n",
    "df_it3[labels_with_unknowns] = imputer.transform(df_it3[labels_with_unknowns])\n",
    "df_it3['education'] = df_it3['education'].apply(lambda x: education_map(x))\n",
    "df_it3['housing'] = df_it3['housing'] .apply(lambda x: 1 if x == 'yes' else 0)\n",
    "df_it3['loan'] = df_it3['loan'] .apply(lambda x: 1 if x == 'yes' else 0)\n",
    "dummy_cat_labels = ['job','marital','month','day_of_week','default', 'poutcome']\n",
    "df_it3_dummied = pd.get_dummies(df_it3, columns = dummy_cat_labels, sparse = True, drop_first = True)\n",
    "(df_train3, df_test3) = get_partitions(df_it3_dummied, 1, 0.3)\n",
    "new_labels = list(df_it3_dummied.columns.values)\n",
    "X_train3 = df_train3.copy()\n",
    "y_train3 = X_train3.y\n",
    "del(X_train3['y'])\n",
    "X_test3 = df_test3.copy()\n",
    "y_test3 = X_test3.y\n",
    "del(X_test3['y'])\n",
    "num_labels3 = num_labels + ['education']\n",
    "scaler = preprocessing.MinMaxScaler()\n",
    "scaler = scaler.fit(X_train3[num_labels3])\n",
    "X_train3.loc[:,num_labels3] = scaler.transform(X_train3[num_labels3])\n",
    "X_test3.loc[:, num_labels3] = scaler.transform(X_test3[num_labels3])\n",
    "X_resampled3, y_resampled3 = SMOTE().fit_sample(X_train3, y_train3)\n",
    "X_resampled3 = pd.DataFrame(X_resampled3)\n",
    "X_resampled3.columns = X_train3.columns\n",
    "X_resampled3.describe()\n"
   ]
  },
  {
   "cell_type": "code",
   "execution_count": 358,
   "metadata": {},
   "outputs": [
    {
     "data": {
      "text/html": [
       "<div>\n",
       "<style>\n",
       "    .dataframe thead tr:only-child th {\n",
       "        text-align: right;\n",
       "    }\n",
       "\n",
       "    .dataframe thead th {\n",
       "        text-align: left;\n",
       "    }\n",
       "\n",
       "    .dataframe tbody tr th {\n",
       "        vertical-align: top;\n",
       "    }\n",
       "</style>\n",
       "<table border=\"1\" class=\"dataframe\">\n",
       "  <thead>\n",
       "    <tr style=\"text-align: right;\">\n",
       "      <th></th>\n",
       "      <th>age</th>\n",
       "      <th>education</th>\n",
       "      <th>housing</th>\n",
       "      <th>loan</th>\n",
       "      <th>contact</th>\n",
       "      <th>campaign</th>\n",
       "      <th>pdays</th>\n",
       "      <th>previous</th>\n",
       "      <th>emp.var.rate</th>\n",
       "      <th>cons.price.idx</th>\n",
       "      <th>...</th>\n",
       "      <th>month_oct</th>\n",
       "      <th>month_sep</th>\n",
       "      <th>day_of_week_mon</th>\n",
       "      <th>day_of_week_thu</th>\n",
       "      <th>day_of_week_tue</th>\n",
       "      <th>day_of_week_wed</th>\n",
       "      <th>default_unknown</th>\n",
       "      <th>default_yes</th>\n",
       "      <th>poutcome_nonexistent</th>\n",
       "      <th>poutcome_success</th>\n",
       "    </tr>\n",
       "  </thead>\n",
       "  <tbody>\n",
       "    <tr>\n",
       "      <th>count</th>\n",
       "      <td>51166.000000</td>\n",
       "      <td>51166.000000</td>\n",
       "      <td>51166.000000</td>\n",
       "      <td>51166.000000</td>\n",
       "      <td>51166.000000</td>\n",
       "      <td>51166.000000</td>\n",
       "      <td>51166.000000</td>\n",
       "      <td>51166.000000</td>\n",
       "      <td>51166.000000</td>\n",
       "      <td>51166.000000</td>\n",
       "      <td>...</td>\n",
       "      <td>51166.000000</td>\n",
       "      <td>51166.000000</td>\n",
       "      <td>51166.000000</td>\n",
       "      <td>51166.000000</td>\n",
       "      <td>51166.000000</td>\n",
       "      <td>51166.000000</td>\n",
       "      <td>51166.000000</td>\n",
       "      <td>51166.000000</td>\n",
       "      <td>51166.000000</td>\n",
       "      <td>51166.000000</td>\n",
       "    </tr>\n",
       "    <tr>\n",
       "      <th>mean</th>\n",
       "      <td>0.285674</td>\n",
       "      <td>0.689095</td>\n",
       "      <td>0.556783</td>\n",
       "      <td>0.143690</td>\n",
       "      <td>0.271553</td>\n",
       "      <td>0.024036</td>\n",
       "      <td>0.888180</td>\n",
       "      <td>0.043699</td>\n",
       "      <td>0.608403</td>\n",
       "      <td>0.496381</td>\n",
       "      <td>...</td>\n",
       "      <td>0.037195</td>\n",
       "      <td>0.030614</td>\n",
       "      <td>0.196093</td>\n",
       "      <td>0.214518</td>\n",
       "      <td>0.193369</td>\n",
       "      <td>0.199322</td>\n",
       "      <td>0.153823</td>\n",
       "      <td>0.000059</td>\n",
       "      <td>0.785396</td>\n",
       "      <td>0.104544</td>\n",
       "    </tr>\n",
       "    <tr>\n",
       "      <th>std</th>\n",
       "      <td>0.140471</td>\n",
       "      <td>0.226658</td>\n",
       "      <td>0.485940</td>\n",
       "      <td>0.339625</td>\n",
       "      <td>0.439594</td>\n",
       "      <td>0.040824</td>\n",
       "      <td>0.312234</td>\n",
       "      <td>0.095288</td>\n",
       "      <td>0.356760</td>\n",
       "      <td>0.238734</td>\n",
       "      <td>...</td>\n",
       "      <td>0.186262</td>\n",
       "      <td>0.169308</td>\n",
       "      <td>0.391787</td>\n",
       "      <td>0.404613</td>\n",
       "      <td>0.388951</td>\n",
       "      <td>0.393350</td>\n",
       "      <td>0.354513</td>\n",
       "      <td>0.007657</td>\n",
       "      <td>0.406040</td>\n",
       "      <td>0.303478</td>\n",
       "    </tr>\n",
       "    <tr>\n",
       "      <th>min</th>\n",
       "      <td>0.000000</td>\n",
       "      <td>0.000000</td>\n",
       "      <td>0.000000</td>\n",
       "      <td>0.000000</td>\n",
       "      <td>0.000000</td>\n",
       "      <td>0.000000</td>\n",
       "      <td>0.000000</td>\n",
       "      <td>0.000000</td>\n",
       "      <td>0.000000</td>\n",
       "      <td>0.000000</td>\n",
       "      <td>...</td>\n",
       "      <td>0.000000</td>\n",
       "      <td>0.000000</td>\n",
       "      <td>0.000000</td>\n",
       "      <td>0.000000</td>\n",
       "      <td>0.000000</td>\n",
       "      <td>0.000000</td>\n",
       "      <td>0.000000</td>\n",
       "      <td>0.000000</td>\n",
       "      <td>0.000000</td>\n",
       "      <td>0.000000</td>\n",
       "    </tr>\n",
       "    <tr>\n",
       "      <th>25%</th>\n",
       "      <td>0.182514</td>\n",
       "      <td>0.530222</td>\n",
       "      <td>0.000000</td>\n",
       "      <td>0.000000</td>\n",
       "      <td>0.000000</td>\n",
       "      <td>0.000000</td>\n",
       "      <td>1.000000</td>\n",
       "      <td>0.000000</td>\n",
       "      <td>0.333333</td>\n",
       "      <td>0.296960</td>\n",
       "      <td>...</td>\n",
       "      <td>0.000000</td>\n",
       "      <td>0.000000</td>\n",
       "      <td>0.000000</td>\n",
       "      <td>0.000000</td>\n",
       "      <td>0.000000</td>\n",
       "      <td>0.000000</td>\n",
       "      <td>0.000000</td>\n",
       "      <td>0.000000</td>\n",
       "      <td>1.000000</td>\n",
       "      <td>0.000000</td>\n",
       "    </tr>\n",
       "    <tr>\n",
       "      <th>50%</th>\n",
       "      <td>0.259259</td>\n",
       "      <td>0.744411</td>\n",
       "      <td>1.000000</td>\n",
       "      <td>0.000000</td>\n",
       "      <td>0.000000</td>\n",
       "      <td>0.017763</td>\n",
       "      <td>1.000000</td>\n",
       "      <td>0.000000</td>\n",
       "      <td>0.687500</td>\n",
       "      <td>0.484412</td>\n",
       "      <td>...</td>\n",
       "      <td>0.000000</td>\n",
       "      <td>0.000000</td>\n",
       "      <td>0.000000</td>\n",
       "      <td>0.000000</td>\n",
       "      <td>0.000000</td>\n",
       "      <td>0.000000</td>\n",
       "      <td>0.000000</td>\n",
       "      <td>0.000000</td>\n",
       "      <td>1.000000</td>\n",
       "      <td>0.000000</td>\n",
       "    </tr>\n",
       "    <tr>\n",
       "      <th>75%</th>\n",
       "      <td>0.370370</td>\n",
       "      <td>0.833333</td>\n",
       "      <td>1.000000</td>\n",
       "      <td>0.000000</td>\n",
       "      <td>1.000000</td>\n",
       "      <td>0.035244</td>\n",
       "      <td>1.000000</td>\n",
       "      <td>0.000000</td>\n",
       "      <td>1.000000</td>\n",
       "      <td>0.698753</td>\n",
       "      <td>...</td>\n",
       "      <td>0.000000</td>\n",
       "      <td>0.000000</td>\n",
       "      <td>0.000000</td>\n",
       "      <td>0.000000</td>\n",
       "      <td>0.000000</td>\n",
       "      <td>0.000000</td>\n",
       "      <td>0.000000</td>\n",
       "      <td>0.000000</td>\n",
       "      <td>1.000000</td>\n",
       "      <td>0.000000</td>\n",
       "    </tr>\n",
       "    <tr>\n",
       "      <th>max</th>\n",
       "      <td>1.000000</td>\n",
       "      <td>1.000000</td>\n",
       "      <td>1.000000</td>\n",
       "      <td>1.000000</td>\n",
       "      <td>1.000000</td>\n",
       "      <td>1.000000</td>\n",
       "      <td>1.000000</td>\n",
       "      <td>1.000000</td>\n",
       "      <td>1.000000</td>\n",
       "      <td>1.000000</td>\n",
       "      <td>...</td>\n",
       "      <td>1.000000</td>\n",
       "      <td>1.000000</td>\n",
       "      <td>1.000000</td>\n",
       "      <td>1.000000</td>\n",
       "      <td>1.000000</td>\n",
       "      <td>1.000000</td>\n",
       "      <td>1.000000</td>\n",
       "      <td>1.000000</td>\n",
       "      <td>1.000000</td>\n",
       "      <td>1.000000</td>\n",
       "    </tr>\n",
       "  </tbody>\n",
       "</table>\n",
       "<p>8 rows × 43 columns</p>\n",
       "</div>"
      ],
      "text/plain": [
       "                age     education       housing          loan       contact  \\\n",
       "count  51166.000000  51166.000000  51166.000000  51166.000000  51166.000000   \n",
       "mean       0.285674      0.689095      0.556783      0.143690      0.271553   \n",
       "std        0.140471      0.226658      0.485940      0.339625      0.439594   \n",
       "min        0.000000      0.000000      0.000000      0.000000      0.000000   \n",
       "25%        0.182514      0.530222      0.000000      0.000000      0.000000   \n",
       "50%        0.259259      0.744411      1.000000      0.000000      0.000000   \n",
       "75%        0.370370      0.833333      1.000000      0.000000      1.000000   \n",
       "max        1.000000      1.000000      1.000000      1.000000      1.000000   \n",
       "\n",
       "           campaign         pdays      previous  emp.var.rate  cons.price.idx  \\\n",
       "count  51166.000000  51166.000000  51166.000000  51166.000000    51166.000000   \n",
       "mean       0.024036      0.888180      0.043699      0.608403        0.496381   \n",
       "std        0.040824      0.312234      0.095288      0.356760        0.238734   \n",
       "min        0.000000      0.000000      0.000000      0.000000        0.000000   \n",
       "25%        0.000000      1.000000      0.000000      0.333333        0.296960   \n",
       "50%        0.017763      1.000000      0.000000      0.687500        0.484412   \n",
       "75%        0.035244      1.000000      0.000000      1.000000        0.698753   \n",
       "max        1.000000      1.000000      1.000000      1.000000        1.000000   \n",
       "\n",
       "             ...            month_oct     month_sep  day_of_week_mon  \\\n",
       "count        ...         51166.000000  51166.000000     51166.000000   \n",
       "mean         ...             0.037195      0.030614         0.196093   \n",
       "std          ...             0.186262      0.169308         0.391787   \n",
       "min          ...             0.000000      0.000000         0.000000   \n",
       "25%          ...             0.000000      0.000000         0.000000   \n",
       "50%          ...             0.000000      0.000000         0.000000   \n",
       "75%          ...             0.000000      0.000000         0.000000   \n",
       "max          ...             1.000000      1.000000         1.000000   \n",
       "\n",
       "       day_of_week_thu  day_of_week_tue  day_of_week_wed  default_unknown  \\\n",
       "count     51166.000000     51166.000000     51166.000000     51166.000000   \n",
       "mean          0.214518         0.193369         0.199322         0.153823   \n",
       "std           0.404613         0.388951         0.393350         0.354513   \n",
       "min           0.000000         0.000000         0.000000         0.000000   \n",
       "25%           0.000000         0.000000         0.000000         0.000000   \n",
       "50%           0.000000         0.000000         0.000000         0.000000   \n",
       "75%           0.000000         0.000000         0.000000         0.000000   \n",
       "max           1.000000         1.000000         1.000000         1.000000   \n",
       "\n",
       "        default_yes  poutcome_nonexistent  poutcome_success  \n",
       "count  51166.000000          51166.000000      51166.000000  \n",
       "mean       0.000059              0.785396          0.104544  \n",
       "std        0.007657              0.406040          0.303478  \n",
       "min        0.000000              0.000000          0.000000  \n",
       "25%        0.000000              1.000000          0.000000  \n",
       "50%        0.000000              1.000000          0.000000  \n",
       "75%        0.000000              1.000000          0.000000  \n",
       "max        1.000000              1.000000          1.000000  \n",
       "\n",
       "[8 rows x 43 columns]"
      ]
     },
     "execution_count": 358,
     "metadata": {},
     "output_type": "execute_result"
    }
   ],
   "source": [
    "X_resampled3, y_resampled3 = SMOTE().fit_sample(X_train3, y_train3)\n",
    "X_resampled3 = pd.DataFrame(X_resampled3)\n",
    "X_resampled3.columns = X_train3.columns\n",
    "X_resampled3.describe()\n"
   ]
  },
  {
   "cell_type": "markdown",
   "metadata": {},
   "source": [
    "# Tercera iteración del modelamiento\n",
    "\n",
    "\n",
    "\n",
    "### K Nearest Neighbors"
   ]
  },
  {
   "cell_type": "code",
   "execution_count": 359,
   "metadata": {},
   "outputs": [
    {
     "name": "stdout",
     "output_type": "stream",
     "text": [
      "\n",
      "Parámetros ajustados del score: make_scorer(cohen_kappa_score)\n",
      "\n",
      "Mejores parámetros encontrados:\n",
      "{'n_neighbors': 15}\n",
      "\n",
      "-->Reporte de clasificación detallado<--\n",
      "\n",
      "Matriz de confusión: \n",
      "[[10787   178]\n",
      " [ 1087   305]]\n",
      "\n",
      "             precision    recall  f1-score   support\n",
      "\n",
      "          0    0.90846   0.98377   0.94461     10965\n",
      "          1    0.63147   0.21911   0.32533      1392\n",
      "\n",
      "avg / total    0.87725   0.89763   0.87485     12357\n",
      "\n",
      "\n",
      "Coeficiente de kappa: \n",
      "0.283765511036\n",
      "Puntaje ROC_AUC: \n",
      "0.601437862635\n",
      "\n",
      "\n",
      "Parámetros ajustados del score: roc_auc\n",
      "\n",
      "Mejores parámetros encontrados:\n",
      "{'n_neighbors': 40}\n",
      "\n",
      "-->Reporte de clasificación detallado<--\n",
      "\n",
      "Matriz de confusión: \n",
      "[[10874    91]\n",
      " [ 1144   248]]\n",
      "\n",
      "             precision    recall  f1-score   support\n",
      "\n",
      "          0    0.90481   0.99170   0.94626     10965\n",
      "          1    0.73156   0.17816   0.28654      1392\n",
      "\n",
      "avg / total    0.88529   0.90006   0.87195     12357\n",
      "\n",
      "\n",
      "Coeficiente de kappa: \n",
      "0.25360694322\n",
      "Puntaje ROC_AUC: \n",
      "0.584930892967\n",
      "\n",
      "Tiempo total de ejecución (segundos): 2311.85\n"
     ]
    }
   ],
   "source": [
    "tuned_params = [{'n_neighbors': [15,20,25,30,35,40] }]\n",
    "scores = [kappa_scorer,'roc_auc']\n",
    "folds = 5\n",
    "knn3 = GridSearchCVwithReport(X_train3, y_train3, X_test3, y_test3,  KNeighborsClassifier(), tuned_params, scores, folds)"
   ]
  },
  {
   "cell_type": "code",
   "execution_count": 80,
   "metadata": {},
   "outputs": [
    {
     "data": {
      "text/plain": [
       "'Tiempo de ejecución promedio: 38.530833333333334 segundos.'"
      ]
     },
     "execution_count": 80,
     "metadata": {},
     "output_type": "execute_result"
    }
   ],
   "source": [
    "knn3_time = ((2311.85/ (6*2*5)))\n",
    "\"Tiempo de ejecución promedio: \" + str(knn3_time) +\" segundos.\""
   ]
  },
  {
   "cell_type": "markdown",
   "metadata": {},
   "source": [
    "### Regresión Logística"
   ]
  },
  {
   "cell_type": "code",
   "execution_count": 360,
   "metadata": {},
   "outputs": [
    {
     "name": "stdout",
     "output_type": "stream",
     "text": [
      "\n",
      "Parámetros ajustados del score: make_scorer(cohen_kappa_score)\n",
      "\n",
      "Mejores parámetros encontrados:\n",
      "{'C': 100, 'penalty': 'l2'}\n",
      "\n",
      "-->Reporte de clasificación detallado<--\n",
      "\n",
      "Matriz de confusión: \n",
      "[[9194 1771]\n",
      " [ 470  922]]\n",
      "\n",
      "             precision    recall  f1-score   support\n",
      "\n",
      "          0    0.95137   0.83849   0.89137     10965\n",
      "          1    0.34237   0.66236   0.45141      1392\n",
      "\n",
      "avg / total    0.88276   0.81865   0.84181     12357\n",
      "\n",
      "\n",
      "Coeficiente de kappa: \n",
      "0.355714949894\n",
      "Puntaje ROC_AUC: \n",
      "0.750421206975\n",
      "\n",
      "\n",
      "Parámetros ajustados del score: roc_auc\n",
      "\n",
      "Mejores parámetros encontrados:\n",
      "{'C': 10, 'penalty': 'l2'}\n",
      "\n",
      "-->Reporte de clasificación detallado<--\n",
      "\n",
      "Matriz de confusión: \n",
      "[[9191 1774]\n",
      " [ 469  923]]\n",
      "\n",
      "             precision    recall  f1-score   support\n",
      "\n",
      "          0    0.95145   0.83821   0.89125     10965\n",
      "          1    0.34223   0.66307   0.45146      1392\n",
      "\n",
      "avg / total    0.88282   0.81848   0.84171     12357\n",
      "\n",
      "\n",
      "Coeficiente de kappa: \n",
      "0.355713949487\n",
      "Puntaje ROC_AUC: \n",
      "0.750643603472\n",
      "\n",
      "Tiempo total de ejecución (segundos): 586.72\n"
     ]
    }
   ],
   "source": [
    "tuned_params = [{'penalty': ['l1','l2'], 'C': [0.001,0.01,0.1,1,10,100,1000] }]\n",
    "scores = [kappa_scorer,'roc_auc']\n",
    "folds = 5\n",
    "lg3 = GridSearchCVwithReport(X_resampled3, y_resampled3, X_test3, y_test3,  LogisticRegression(), tuned_params, scores, folds)"
   ]
  },
  {
   "cell_type": "code",
   "execution_count": 81,
   "metadata": {},
   "outputs": [
    {
     "data": {
      "text/plain": [
       "'Tiempo de ejecución promedio: 4.190857142857143 segundos.'"
      ]
     },
     "execution_count": 81,
     "metadata": {},
     "output_type": "execute_result"
    }
   ],
   "source": [
    "lg3_time = ((586.72/ (2*7*2*5)))\n",
    "\"Tiempo de ejecución promedio: \" + str(lg3_time) +\" segundos.\""
   ]
  },
  {
   "cell_type": "markdown",
   "metadata": {},
   "source": [
    "### Random Forest"
   ]
  },
  {
   "cell_type": "code",
   "execution_count": 361,
   "metadata": {},
   "outputs": [
    {
     "name": "stdout",
     "output_type": "stream",
     "text": [
      "\n",
      "Parámetros ajustados del score: make_scorer(cohen_kappa_score)\n",
      "\n",
      "Mejores parámetros encontrados:\n",
      "{'bootstrap': False, 'max_features': 'log2', 'min_samples_split': 4, 'n_estimators': 50}\n",
      "\n",
      "-->Reporte de clasificación detallado<--\n",
      "\n",
      "Matriz de confusión: \n",
      "[[10515   450]\n",
      " [  902   490]]\n",
      "\n",
      "             precision    recall  f1-score   support\n",
      "\n",
      "          0    0.92100   0.95896   0.93959     10965\n",
      "          1    0.52128   0.35201   0.42024      1392\n",
      "\n",
      "avg / total    0.87597   0.89059   0.88109     12357\n",
      "\n",
      "\n",
      "Coeficiente de kappa: \n",
      "0.362330457102\n",
      "Puntaje ROC_AUC: \n",
      "0.655485911285\n",
      "\n",
      "\n",
      "Parámetros ajustados del score: roc_auc\n",
      "\n",
      "Mejores parámetros encontrados:\n",
      "{'bootstrap': False, 'max_features': 'log2', 'min_samples_split': 4, 'n_estimators': 50}\n",
      "\n",
      "-->Reporte de clasificación detallado<--\n",
      "\n",
      "Matriz de confusión: \n",
      "[[10502   463]\n",
      " [  907   485]]\n",
      "\n",
      "             precision    recall  f1-score   support\n",
      "\n",
      "          0    0.92050   0.95777   0.93877     10965\n",
      "          1    0.51160   0.34842   0.41453      1392\n",
      "\n",
      "avg / total    0.87444   0.88913   0.87971     12357\n",
      "\n",
      "\n",
      "Coeficiente de kappa: \n",
      "0.355724058184\n",
      "Puntaje ROC_AUC: \n",
      "0.653097139016\n",
      "\n",
      "Tiempo total de ejecución (segundos): 1923.14\n"
     ]
    }
   ],
   "source": [
    "tuned_params = { \n",
    "            \"n_estimators\"      : [10,30, 50],\n",
    "            \"max_features\"      : [\"auto\", \"sqrt\", \"log2\"],\n",
    "            \"min_samples_split\" : [2,4,8,10,12,20],\n",
    "            \"bootstrap\" : [True, False]\n",
    "            }\n",
    "\n",
    "\n",
    "scores = [kappa_scorer,'roc_auc']\n",
    "folds = 5\n",
    "rf3 = GridSearchCVwithReport(X_resampled3, y_resampled3, X_test3, y_test3,  RandomForestClassifier(), tuned_params, scores, folds)"
   ]
  },
  {
   "cell_type": "code",
   "execution_count": 84,
   "metadata": {},
   "outputs": [
    {
     "data": {
      "text/plain": [
       "'Tiempo de ejecución promedio: 1.7806851851851853 segundos.'"
      ]
     },
     "execution_count": 84,
     "metadata": {},
     "output_type": "execute_result"
    }
   ],
   "source": [
    "rf3_time = ((1923.14/ (3*3*6*2*5*2)))\n",
    "\"Tiempo de ejecución promedio: \" + str(rf3_time) +\" segundos.\""
   ]
  },
  {
   "cell_type": "markdown",
   "metadata": {},
   "source": [
    "###  Red Neuronal Perceptrón Multicapa"
   ]
  },
  {
   "cell_type": "code",
   "execution_count": null,
   "metadata": {
    "scrolled": false
   },
   "outputs": [
    {
     "name": "stdout",
     "output_type": "stream",
     "text": [
      "\n",
      "Parámetros ajustados del score: make_scorer(cohen_kappa_score)\n",
      "\n",
      "Mejores parámetros encontrados:\n",
      "{'activation': 'tanh', 'alpha': 0.0001, 'hidden_layer_sizes': (20, 20), 'learning_rate': 'invscaling', 'solver': 'adam'}\n",
      "\n",
      "-->Reporte de clasificación detallado<--\n",
      "\n",
      "Matriz de confusión: \n",
      "[[9458 1507]\n",
      " [ 623  769]]\n",
      "\n",
      "             precision    recall  f1-score   support\n",
      "\n",
      "          0    0.93820   0.86256   0.89879     10965\n",
      "          1    0.33787   0.55244   0.41930      1392\n",
      "\n",
      "avg / total    0.87057   0.82763   0.84478     12357\n",
      "\n",
      "\n",
      "Coeficiente de kappa: \n",
      "0.324928880108\n",
      "Puntaje ROC_AUC: \n",
      "0.707502614117\n",
      "\n",
      "\n",
      "Parámetros ajustados del score: roc_auc\n",
      "\n",
      "Mejores parámetros encontrados:\n",
      "{'activation': 'tanh', 'alpha': 0.001, 'hidden_layer_sizes': (20, 20), 'learning_rate': 'invscaling', 'solver': 'adam'}\n",
      "\n",
      "-->Reporte de clasificación detallado<--\n",
      "\n",
      "Matriz de confusión: \n",
      "[[9234 1731]\n",
      " [ 577  815]]\n",
      "\n",
      "             precision    recall  f1-score   support\n",
      "\n",
      "          0    0.94119   0.84213   0.88891     10965\n",
      "          1    0.32011   0.58549   0.41392      1392\n",
      "\n",
      "avg / total    0.87122   0.81322   0.83540     12357\n",
      "\n",
      "\n",
      "Coeficiente de kappa: \n",
      "0.313992114553\n",
      "Puntaje ROC_AUC: \n",
      "0.713811284337\n",
      "\n",
      "Tiempo total de ejecución (segundos): 98786.25\n"
     ]
    }
   ],
   "source": [
    "tuned_params={\n",
    "    'learning_rate': [\"invscaling\",\"adaptive\", \"constant\"],\n",
    "    'hidden_layer_sizes': [(10),(15),(20),(10,10),(15,15),(15,10),(20,20)],\n",
    "    'alpha': [1, 0.5, 0.1, 0.05, 0.01, 0.001, 0.0001],\n",
    "    'activation': [\"identity\",\"tanh\",\"relu\", \"logistic\"],\n",
    "    'solver': ['lbfgs','adam','sgd']\n",
    "}\n",
    "\n",
    "\n",
    "\n",
    "\n",
    "scores = [kappa_scorer,'roc_auc']\n",
    "folds = 5\n",
    "mlp3 = GridSearchCVwithReport(X_resampled3, y_resampled3, X_test3, y_test3,  MLPClassifier(), tuned_params, scores, folds)\n"
   ]
  },
  {
   "cell_type": "code",
   "execution_count": 82,
   "metadata": {},
   "outputs": [
    {
     "data": {
      "text/plain": [
       "'Tiempo de ejecución promedio: 5.6001275510204085 segundos.'"
      ]
     },
     "execution_count": 82,
     "metadata": {},
     "output_type": "execute_result"
    }
   ],
   "source": [
    "mlp3_time = ((98786.25/ (3*7*7*4*3*2*5)))\n",
    "\"Tiempo de ejecución promedio: \" + str(mlp3_time) +\" segundos.\""
   ]
  },
  {
   "cell_type": "code",
   "execution_count": 85,
   "metadata": {},
   "outputs": [
    {
     "data": {
      "text/plain": [
       "Text(0,0.5,'%')"
      ]
     },
     "execution_count": 85,
     "metadata": {},
     "output_type": "execute_result"
    },
    {
     "data": {
      "image/png": "[encoded data removed]",
      "text/plain": [
       "<matplotlib.figure.Figure at 0x1f33fa48da0>"
      ]
     },
     "metadata": {},
     "output_type": "display_data"
    }
   ],
   "source": [
    "fig = pyplot.figure(figsize=(20, 20))\n",
    "\n",
    "pd_times = pd.DataFrame({'times':[knn3_time, lg3_time, rf3_time, mlp3_time],\n",
    "                     'labels':   ['KNN', 'LR', 'RF', 'MLP'],\n",
    "                        })\n",
    "ax1 = pyplot.subplot(2, 3, 1)\n",
    "ax1 = sns.barplot(y = 'times', x='labels', data = pd_times, ax = ax1)\n",
    "ax1.set_title(\"Segundos de ejecución promedio\")\n",
    "ax1.set_xlabel(\"Método\")\n",
    "ax1.set_ylabel(\"Segundos\")\n",
    "\n",
    "\n",
    "pd_true_positives = pd.DataFrame({'true_positives':[21.9,66.3 , 35 , 58, 65],\n",
    "                     'labels':   ['KNN', 'LR', 'RF', 'MLP', 'Moro et al.'],\n",
    "                        })\n",
    "ax2 = pyplot.subplot(2, 3, 2)\n",
    "sns.barplot(y = 'true_positives', x='labels', data = pd_true_positives, ax = ax2)\n",
    "ax2.set_title(\"Porcentaje de verdaderos positivos\")\n",
    "ax2.set_xlabel(\"Método\")\n",
    "ax2.set_ylabel(\"%\")\n",
    "\n",
    "\n",
    "pd_kappa = pd.DataFrame({'kappa':[0.28, 0.36, 0.36, 0.31],\n",
    "                     'labels':   ['KNN', 'LR', 'RF', 'MLP'],\n",
    "                        })\n",
    "ax3 = pyplot.subplot(2, 3, 3)\n",
    "sns.barplot(y = 'kappa', x='labels', data = pd_kappa, ax = ax3)\n",
    "ax3.set_title(\"Coeficiente kappa\")\n",
    "ax3.set_xlabel(\"Método\")\n",
    "ax3.set_ylabel(\"Kappa\")\n",
    "\n",
    "\n",
    "pd_roc = pd.DataFrame({'roc':[0.6, 0.75, 0.66, 0.71],\n",
    "                     'labels':   ['KNN', 'LR', 'RF', 'MLP'],\n",
    "                        })\n",
    "ax4 = pyplot.subplot(2, 3, 4)\n",
    "sns.barplot(y = 'roc', x='labels', data = pd_roc, ax = ax4)\n",
    "ax4.set_title(\"Área bajo la curva\")\n",
    "ax4.set_xlabel(\"Método\")\n",
    "ax4.set_ylabel(\"ROC\")\n",
    "\n",
    "pd_tn = pd.DataFrame({'tn':[98.3, 83.4, 95.8, 84.2, 81],\n",
    "                     'labels':   ['KNN', 'LR', 'RF', 'MLP', 'Moro et al.'],\n",
    "                        })\n",
    "ax5 = pyplot.subplot(2, 3, 5)\n",
    "sns.barplot(y = 'tn', x='labels', data = pd_tn, ax = ax5)\n",
    "ax5.set_title(\"Tasa de Verdaderos Negativos (TP)\")\n",
    "ax5.set_xlabel(\"Método\")\n",
    "ax5.set_ylabel(\"%\")"
   ]
  },
  {
   "cell_type": "markdown",
   "metadata": {
    "collapsed": true
   },
   "source": [
    "# Conclusiones finales\n",
    "\n",
    "En la tercera y última iteración se puede apreciar el gran impacto del rebalanceo de clases: la regresión logística pasa a tener una tasa de verdaderos positivos del 66%, superando la línea base de Moro et al. El Perceptrón Multicapa, aunque no supera al articulo de Moro, se acerca con una tasa de TP del 58%, mientras que los bosques aleatorios ven una mejora limitada y obtienen una tasa TP del 35% tan solo, el método KNN se mantiene en 22%, sin percibirse mejora alguna. Esto se ve reflejado en el área bajo la curva que ubica en primera posición a la regresión logística con 0.75.\n",
    "\n",
    "En el caso del Perceptrón Multicapa y el KNN los hiperparámetros seleccionados fueron los mismos que en la segunda iteración del modelamiento. Sin embargo, los resultados tan positivos de la regresión logística se obtuvieron al ajustar los hipeparámetros C y penalización a 10 y l2 respectivamente. En el caso de los bosques aleatorios se utilizan hiperparámetros profundidad máxima logarítmica y partición mínima 4. \n",
    "\n",
    "En cuanto a los Verdaderos Negativos, los mejores resultados se obtienen por medio de  KNN y Bosques aleatorios, con 98% y 95% respectivamente. Las redes neuronales obtienen un 84% y la regresión logística un 83%. Sin embargo, esto no se considera alarmante ya que sigue por encima de la línea base de 81% en Moro et al, que fue considerada aceptable de por sí ya que al banco le interesaba maximizar la cantidad de Verdaderos Positivos.\n",
    "\n",
    "Los tiempos de ejecución son otra métrica de interés: con el incremento en la cantidad de datos las redes neuronales pasan a costar 5.7 segundos promedio en su fase de entrenamiento mientras que la regresión logística cuesta 4.2. En contraste, los bosques aleatorios no sufren mayor impacto manteniéndose por debajo de los dos segundos en promedio pese al incremento en la cantidad de datos al rebalancear el conjunto de entrenamiento.\n",
    "\n",
    "Con base en los resultados anteriores se plantean varios puntos respecto a los modelos:\n",
    "\n",
    "* La regresión logística es el mejor modelo para determinar si un cliente debería ser llamado para ofrecersele un CDT, superando incluso al trabajo propuesto por Moro et al., hecho que se valida mediante las métricas de kappa y ROC.\n",
    "\n",
    "* El método KNN es demasiado costoso a nivel computacional y aunque ofrece una precisión estable de cara a los verdaderos negativos, tiene un pésimo rendimiento con respecto a los verdaderos positivos.\n",
    "\n",
    "* El método más estable para la clasificación de verdaderos negativos son los bosques aleatorios, ya que no sufre problemas con grandes cantidades de datos y mantiene una clasificación mínimamente aceptable de verdaderos positivos.\n",
    "\n",
    "* Las redes neuronales perceptrón multicapa no logran destacarse con respecto al resto de técnicas, y se mantienen en un punto medio entre la regresión logística y los bosques aleatorios.\n",
    "\n",
    "Más generalmente, se observa como el rebalanceo de clases permitió lograr un incremento notorio en la tasa de Verdaderos Positivos para todos los algoritmos. Algunos de estos tuvieron un empeoramiento en su tasa de Verdaderos Negativos pero esto no es un inconveniente grave desde el punto de vista del negocio. Por otro lado, las métricas Kappa y ROC demostraron ser útiles para guiar el proceso de entrenamiento a diferencia de métricas como la precisión que son irrelevantes con conjuntos de datos desbalanceados. \n",
    "\n",
    "La reducción de parámetros basada en el negocio fue útil para reducir los costes computacionales y no tuvo mayor impacto en la eficiencia de clasificación de los algoritmos, y el uso de validación cruzada permitió validar los resultados obtenidos en la fase de entrenamiento antes de pasar a la fase de prueba donde se confirmó la veracidad de los mismos.\n",
    "\n",
    "En definitiva, los problemas de desbalanceo pueden ser extremadamente difíciles de tratar con técnicas de aprendizaje de máquina. Un entendimiento correcto de las reglas del negocio es clave para saber en qué casos es necesario sacrificar la precisión en una clase para ganarla en otra, o qué atributos pueden ser descartados. Hacer esto puede llevar a que métodos aparentemente simples como la regresión logística superen con creces a algoritmos más complejos como las redes neuronales artificiales.\n",
    "\n",
    "\n",
    "## Trabajo Futuro.\n",
    "\n",
    "Se tienen tres consideraciones principales para trabajo futuro con este conjunto de datos:\n",
    "\n",
    "* La regresión logística, las redes neuronales MLP y los bosques aleatorios tienen resultados diferenciados entre sí, por lo que se intuye que un ensamble de las tres técnicas podría mejorar los resultados obtenidos.\n",
    "\n",
    "* Algoritmos como las máquinas de vector de soporte podrían ser eficientes a la hora de ajustar los datos, considerando la eficiencia de la regresión logística frente al perceptrón multicapa.\n",
    "\n",
    "* No se hizo reducción de dimensionalidad basada en correlación, por lo se propone un análisis de componentes principales para verificar si tiene un impacto positivo o negativo en la clasificación."
   ]
  },
  {
   "cell_type": "code",
   "execution_count": null,
   "metadata": {
    "collapsed": true
   },
   "outputs": [],
   "source": []
  }
 ],
 "metadata": {
  "kernelspec": {
   "display_name": "Python 3",
   "language": "python",
   "name": "python3"
  },
  "language_info": {
   "codemirror_mode": {
    "name": "ipython",
    "version": 3
   },
   "file_extension": ".py",
   "mimetype": "text/x-python",
   "name": "python",
   "nbconvert_exporter": "python",
   "pygments_lexer": "ipython3",
   "version": "3.6.4"
  }
 },
 "nbformat": 4,
 "nbformat_minor": 2
}
